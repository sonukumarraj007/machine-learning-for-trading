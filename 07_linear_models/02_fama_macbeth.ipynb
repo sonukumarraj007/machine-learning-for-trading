{
 "cells": [
  {
   "cell_type": "markdown",
   "metadata": {},
   "source": [
    "# How to build a linear factor model"
   ]
  },
  {
   "cell_type": "markdown",
   "metadata": {},
   "source": [
    "Algorithmic trading strategies use linear factor models to quantify the relationship between the return of an asset and the sources of risk that represent the main drivers of these returns. Each factor risk carries a premium, and the total asset return can be expected to correspond to a weighted average of these risk premia."
   ]
  },
  {
   "cell_type": "markdown",
   "metadata": {},
   "source": [
    "There are several practical applications of factor models across the portfolio management process from construction and asset selection to risk management and performance evaluation. The importance of factor models continues to grow as common risk factors are now tradeable:\n",
    "\n",
    "- A summary of the returns of many assets by a much smaller number of factors reduces the amount of data required to estimate the covariance matrix when optimizing a portfolio\n",
    "- An estimate of the exposure of an asset or a portfolio to these factors allows for the management of the resultant risk, for instance by entering suitable hedges when risk factors are themselves traded\n",
    "- A factor model also permits the assessment of the incremental signal content of new alpha factors\n",
    "- A factor model can also help assess whether a manager's performance relative to a benchmark is indeed due to skill in selecting assets and timing the market, or if instead, the performance can be explained by portfolio tilts towards known return drivers that can today be replicated as low-cost, passively managed funds without incurring active management fees"
   ]
  },
  {
   "cell_type": "markdown",
   "metadata": {},
   "source": [
    "## Imports & Settings"
   ]
  },
  {
   "cell_type": "code",
   "execution_count": 1,
   "metadata": {
    "ExecuteTime": {
     "end_time": "2021-02-23T05:31:21.068247Z",
     "start_time": "2021-02-23T05:31:21.065335Z"
    }
   },
   "outputs": [],
   "source": [
    "import warnings\n",
    "warnings.filterwarnings('ignore')"
   ]
  },
  {
   "cell_type": "code",
   "execution_count": 2,
   "metadata": {
    "ExecuteTime": {
     "end_time": "2021-02-23T05:31:22.013457Z",
     "start_time": "2021-02-23T05:31:21.072681Z"
    }
   },
   "outputs": [],
   "source": [
    "import pandas as pd\n",
    "import numpy as np\n",
    "\n",
    "from statsmodels.api import OLS, add_constant\n",
    "import pandas_datareader.data as web\n",
    "\n",
    "from linearmodels.asset_pricing import LinearFactorModel\n",
    "\n",
    "import matplotlib.pyplot as plt\n",
    "import seaborn as sns"
   ]
  },
  {
   "cell_type": "code",
   "execution_count": 3,
   "metadata": {
    "ExecuteTime": {
     "end_time": "2021-02-23T05:31:22.016582Z",
     "start_time": "2021-02-23T05:31:22.014604Z"
    }
   },
   "outputs": [],
   "source": [
    "sns.set_style('whitegrid')"
   ]
  },
  {
   "cell_type": "markdown",
   "metadata": {},
   "source": [
    "## Get Data"
   ]
  },
  {
   "cell_type": "markdown",
   "metadata": {},
   "source": [
    "Fama and French make updated risk factor and research portfolio data available through their [website](http://mba.tuck.dartmouth.edu/pages/faculty/ken.french/data_library.html), and you can use the `pandas_datareader` package to obtain the data."
   ]
  },
  {
   "cell_type": "markdown",
   "metadata": {},
   "source": [
    "### Risk Factors"
   ]
  },
  {
   "cell_type": "markdown",
   "metadata": {},
   "source": [
    "In particular, we will be using the five Fama—French factors that result from sorting stocks first into three size groups and then into two for each of the remaining three firm-specific factors. \n",
    "\n",
    "Hence, the factors involve three sets of value-weighted portfolios formed as 3 x 2 sorts on size and book-to-market, size and operating profitability, and size and investment. The risk factor values computed as the average returns of the portfolios (PF) as outlined in the following table:"
   ]
  },
  {
   "cell_type": "markdown",
   "metadata": {},
   "source": [
    "| Label | Name                          | Description                                                                                                                                                                               |\n",
    "|-------|-------------------------------|-------------------------------------------------------------------------------------------------------------------------------------------------------------------------------------------|\n",
    "| SMB   | Small Minus Big               | Average return on the nine small stock portfolios minus the average return on the nine big stock portfolios                                                                               |\n",
    "| HML   | High Minus Low                | Average return on the two value portfolios minus the average return on the two growth portfolios                                                                                          |\n",
    "| RMW   | Robust minus Weak             | Average return on the two robust operating profitability portfolios minus the average return on the two weak operating profitability portfolios                                           |\n",
    "| CMA   | Conservative Minus Aggressive | Average return on the two conservative investment portfolios minus the average return on the two aggressive investment portfolios                                                         |\n",
    "| Rm-Rf | Excess return on the market   | Value-weight return of all firms incorporated in the US and listed on the NYSE, AMEX, or NASDAQ at the beginning of month t with 'good' data for t minus the one-month Treasury bill rate |"
   ]
  },
  {
   "cell_type": "markdown",
   "metadata": {},
   "source": [
    "The Fama-French 5 factors are based on the 6 value-weight portfolios formed on size and book-to-market, the 6 value-weight portfolios formed on size and operating profitability, and the 6 value-weight portfolios formed on size and investment."
   ]
  },
  {
   "cell_type": "markdown",
   "metadata": {},
   "source": [
    "We will use returns at a monthly frequency that we obtain for the period 2010 – 2017 as follows:"
   ]
  },
  {
   "cell_type": "code",
   "execution_count": 4,
   "metadata": {
    "ExecuteTime": {
     "end_time": "2021-02-23T05:31:22.388278Z",
     "start_time": "2021-02-23T05:31:22.018153Z"
    }
   },
   "outputs": [
    {
     "name": "stdout",
     "output_type": "stream",
     "text": [
      "<class 'pandas.core.frame.DataFrame'>\n",
      "PeriodIndex: 96 entries, 2010-01 to 2017-12\n",
      "Freq: M\n",
      "Data columns (total 6 columns):\n",
      " #   Column  Non-Null Count  Dtype  \n",
      "---  ------  --------------  -----  \n",
      " 0   Mkt-RF  96 non-null     float64\n",
      " 1   SMB     96 non-null     float64\n",
      " 2   HML     96 non-null     float64\n",
      " 3   RMW     96 non-null     float64\n",
      " 4   CMA     96 non-null     float64\n",
      " 5   RF      96 non-null     float64\n",
      "dtypes: float64(6)\n",
      "memory usage: 5.2 KB\n"
     ]
    }
   ],
   "source": [
    "ff_factor = 'F-F_Research_Data_5_Factors_2x3'\n",
    "ff_factor_data = web.DataReader(ff_factor, 'famafrench', start='2010', end='2017-12')[0]\n",
    "ff_factor_data.info()"
   ]
  },
  {
   "cell_type": "code",
   "execution_count": 5,
   "metadata": {
    "ExecuteTime": {
     "end_time": "2021-02-23T05:31:22.409581Z",
     "start_time": "2021-02-23T05:31:22.389691Z"
    }
   },
   "outputs": [
    {
     "data": {
      "text/html": [
       "<div>\n",
       "<style scoped>\n",
       "    .dataframe tbody tr th:only-of-type {\n",
       "        vertical-align: middle;\n",
       "    }\n",
       "\n",
       "    .dataframe tbody tr th {\n",
       "        vertical-align: top;\n",
       "    }\n",
       "\n",
       "    .dataframe thead th {\n",
       "        text-align: right;\n",
       "    }\n",
       "</style>\n",
       "<table border=\"1\" class=\"dataframe\">\n",
       "  <thead>\n",
       "    <tr style=\"text-align: right;\">\n",
       "      <th></th>\n",
       "      <th>Mkt-RF</th>\n",
       "      <th>SMB</th>\n",
       "      <th>HML</th>\n",
       "      <th>RMW</th>\n",
       "      <th>CMA</th>\n",
       "      <th>RF</th>\n",
       "    </tr>\n",
       "  </thead>\n",
       "  <tbody>\n",
       "    <tr>\n",
       "      <th>count</th>\n",
       "      <td>96.000000</td>\n",
       "      <td>96.000000</td>\n",
       "      <td>96.000000</td>\n",
       "      <td>96.000000</td>\n",
       "      <td>96.000000</td>\n",
       "      <td>96.000000</td>\n",
       "    </tr>\n",
       "    <tr>\n",
       "      <th>mean</th>\n",
       "      <td>1.158646</td>\n",
       "      <td>0.054062</td>\n",
       "      <td>-0.051875</td>\n",
       "      <td>0.126146</td>\n",
       "      <td>0.052812</td>\n",
       "      <td>0.012604</td>\n",
       "    </tr>\n",
       "    <tr>\n",
       "      <th>std</th>\n",
       "      <td>3.580167</td>\n",
       "      <td>2.290739</td>\n",
       "      <td>2.191647</td>\n",
       "      <td>1.591265</td>\n",
       "      <td>1.409858</td>\n",
       "      <td>0.022583</td>\n",
       "    </tr>\n",
       "    <tr>\n",
       "      <th>min</th>\n",
       "      <td>-7.890000</td>\n",
       "      <td>-4.510000</td>\n",
       "      <td>-4.520000</td>\n",
       "      <td>-3.930000</td>\n",
       "      <td>-3.350000</td>\n",
       "      <td>0.000000</td>\n",
       "    </tr>\n",
       "    <tr>\n",
       "      <th>25%</th>\n",
       "      <td>-0.917500</td>\n",
       "      <td>-1.660000</td>\n",
       "      <td>-1.627500</td>\n",
       "      <td>-1.160000</td>\n",
       "      <td>-0.965000</td>\n",
       "      <td>0.000000</td>\n",
       "    </tr>\n",
       "    <tr>\n",
       "      <th>50%</th>\n",
       "      <td>1.235000</td>\n",
       "      <td>0.190000</td>\n",
       "      <td>-0.305000</td>\n",
       "      <td>0.135000</td>\n",
       "      <td>-0.015000</td>\n",
       "      <td>0.000000</td>\n",
       "    </tr>\n",
       "    <tr>\n",
       "      <th>75%</th>\n",
       "      <td>3.197500</td>\n",
       "      <td>1.517500</td>\n",
       "      <td>1.142500</td>\n",
       "      <td>1.140000</td>\n",
       "      <td>0.927500</td>\n",
       "      <td>0.010000</td>\n",
       "    </tr>\n",
       "    <tr>\n",
       "      <th>max</th>\n",
       "      <td>11.350000</td>\n",
       "      <td>6.800000</td>\n",
       "      <td>8.220000</td>\n",
       "      <td>3.530000</td>\n",
       "      <td>3.780000</td>\n",
       "      <td>0.090000</td>\n",
       "    </tr>\n",
       "  </tbody>\n",
       "</table>\n",
       "</div>"
      ],
      "text/plain": [
       "          Mkt-RF        SMB        HML        RMW        CMA         RF\n",
       "count  96.000000  96.000000  96.000000  96.000000  96.000000  96.000000\n",
       "mean    1.158646   0.054062  -0.051875   0.126146   0.052812   0.012604\n",
       "std     3.580167   2.290739   2.191647   1.591265   1.409858   0.022583\n",
       "min    -7.890000  -4.510000  -4.520000  -3.930000  -3.350000   0.000000\n",
       "25%    -0.917500  -1.660000  -1.627500  -1.160000  -0.965000   0.000000\n",
       "50%     1.235000   0.190000  -0.305000   0.135000  -0.015000   0.000000\n",
       "75%     3.197500   1.517500   1.142500   1.140000   0.927500   0.010000\n",
       "max    11.350000   6.800000   8.220000   3.530000   3.780000   0.090000"
      ]
     },
     "execution_count": 5,
     "metadata": {},
     "output_type": "execute_result"
    }
   ],
   "source": [
    "ff_factor_data.describe()"
   ]
  },
  {
   "cell_type": "markdown",
   "metadata": {},
   "source": [
    "### Portfolios"
   ]
  },
  {
   "cell_type": "markdown",
   "metadata": {},
   "source": [
    "Fama and French also make available numerous portfolios that we can illustrate the estimation of the factor exposures, as well as the value of the risk premia available in the market for a given time period. We will use a panel of the 17 industry portfolios at a monthly frequency. \n",
    "\n",
    "We will subtract the risk-free rate from the returns because the factor model works with excess returns:"
   ]
  },
  {
   "cell_type": "code",
   "execution_count": 6,
   "metadata": {
    "ExecuteTime": {
     "end_time": "2021-02-23T05:31:22.943312Z",
     "start_time": "2021-02-23T05:31:22.410629Z"
    }
   },
   "outputs": [
    {
     "name": "stdout",
     "output_type": "stream",
     "text": [
      "<class 'pandas.core.frame.DataFrame'>\n",
      "PeriodIndex: 96 entries, 2010-01 to 2017-12\n",
      "Freq: M\n",
      "Data columns (total 17 columns):\n",
      " #   Column  Non-Null Count  Dtype  \n",
      "---  ------  --------------  -----  \n",
      " 0   Food    96 non-null     float64\n",
      " 1   Mines   96 non-null     float64\n",
      " 2   Oil     96 non-null     float64\n",
      " 3   Clths   96 non-null     float64\n",
      " 4   Durbl   96 non-null     float64\n",
      " 5   Chems   96 non-null     float64\n",
      " 6   Cnsum   96 non-null     float64\n",
      " 7   Cnstr   96 non-null     float64\n",
      " 8   Steel   96 non-null     float64\n",
      " 9   FabPr   96 non-null     float64\n",
      " 10  Machn   96 non-null     float64\n",
      " 11  Cars    96 non-null     float64\n",
      " 12  Trans   96 non-null     float64\n",
      " 13  Utils   96 non-null     float64\n",
      " 14  Rtail   96 non-null     float64\n",
      " 15  Finan   96 non-null     float64\n",
      " 16  Other   96 non-null     float64\n",
      "dtypes: float64(17)\n",
      "memory usage: 13.5 KB\n"
     ]
    }
   ],
   "source": [
    "ff_portfolio = '17_Industry_Portfolios'\n",
    "ff_portfolio_data = web.DataReader(ff_portfolio, 'famafrench', start='2010', end='2017-12')[0]\n",
    "ff_portfolio_data = ff_portfolio_data.sub(ff_factor_data.RF, axis=0)\n",
    "ff_portfolio_data.info()"
   ]
  },
  {
   "cell_type": "code",
   "execution_count": 7,
   "metadata": {
    "ExecuteTime": {
     "end_time": "2021-02-23T05:31:22.980492Z",
     "start_time": "2021-02-23T05:31:22.944237Z"
    }
   },
   "outputs": [
    {
     "data": {
      "text/html": [
       "<div>\n",
       "<style scoped>\n",
       "    .dataframe tbody tr th:only-of-type {\n",
       "        vertical-align: middle;\n",
       "    }\n",
       "\n",
       "    .dataframe tbody tr th {\n",
       "        vertical-align: top;\n",
       "    }\n",
       "\n",
       "    .dataframe thead th {\n",
       "        text-align: right;\n",
       "    }\n",
       "</style>\n",
       "<table border=\"1\" class=\"dataframe\">\n",
       "  <thead>\n",
       "    <tr style=\"text-align: right;\">\n",
       "      <th></th>\n",
       "      <th>Food</th>\n",
       "      <th>Mines</th>\n",
       "      <th>Oil</th>\n",
       "      <th>Clths</th>\n",
       "      <th>Durbl</th>\n",
       "      <th>Chems</th>\n",
       "      <th>Cnsum</th>\n",
       "      <th>Cnstr</th>\n",
       "      <th>Steel</th>\n",
       "      <th>FabPr</th>\n",
       "      <th>Machn</th>\n",
       "      <th>Cars</th>\n",
       "      <th>Trans</th>\n",
       "      <th>Utils</th>\n",
       "      <th>Rtail</th>\n",
       "      <th>Finan</th>\n",
       "      <th>Other</th>\n",
       "    </tr>\n",
       "  </thead>\n",
       "  <tbody>\n",
       "    <tr>\n",
       "      <th>count</th>\n",
       "      <td>96.000000</td>\n",
       "      <td>96.000000</td>\n",
       "      <td>96.000000</td>\n",
       "      <td>96.000000</td>\n",
       "      <td>96.000000</td>\n",
       "      <td>96.000000</td>\n",
       "      <td>96.000000</td>\n",
       "      <td>96.000000</td>\n",
       "      <td>96.000000</td>\n",
       "      <td>96.000000</td>\n",
       "      <td>96.000000</td>\n",
       "      <td>96.000000</td>\n",
       "      <td>96.000000</td>\n",
       "      <td>96.000000</td>\n",
       "      <td>96.000000</td>\n",
       "      <td>96.000000</td>\n",
       "      <td>96.000000</td>\n",
       "    </tr>\n",
       "    <tr>\n",
       "      <th>mean</th>\n",
       "      <td>1.045625</td>\n",
       "      <td>0.197083</td>\n",
       "      <td>0.547917</td>\n",
       "      <td>1.396979</td>\n",
       "      <td>1.155208</td>\n",
       "      <td>1.303229</td>\n",
       "      <td>1.136250</td>\n",
       "      <td>1.731250</td>\n",
       "      <td>0.555625</td>\n",
       "      <td>1.350521</td>\n",
       "      <td>1.227604</td>\n",
       "      <td>1.278854</td>\n",
       "      <td>1.465000</td>\n",
       "      <td>0.890312</td>\n",
       "      <td>1.234375</td>\n",
       "      <td>1.241562</td>\n",
       "      <td>1.282396</td>\n",
       "    </tr>\n",
       "    <tr>\n",
       "      <th>std</th>\n",
       "      <td>2.795857</td>\n",
       "      <td>7.902185</td>\n",
       "      <td>5.577552</td>\n",
       "      <td>5.025167</td>\n",
       "      <td>5.137482</td>\n",
       "      <td>5.594216</td>\n",
       "      <td>3.174283</td>\n",
       "      <td>5.246562</td>\n",
       "      <td>7.389824</td>\n",
       "      <td>4.694408</td>\n",
       "      <td>4.811242</td>\n",
       "      <td>5.718887</td>\n",
       "      <td>4.150833</td>\n",
       "      <td>3.235140</td>\n",
       "      <td>3.508655</td>\n",
       "      <td>4.809791</td>\n",
       "      <td>3.708972</td>\n",
       "    </tr>\n",
       "    <tr>\n",
       "      <th>min</th>\n",
       "      <td>-5.170000</td>\n",
       "      <td>-24.380000</td>\n",
       "      <td>-12.010000</td>\n",
       "      <td>-10.000000</td>\n",
       "      <td>-13.210000</td>\n",
       "      <td>-17.390000</td>\n",
       "      <td>-7.300000</td>\n",
       "      <td>-13.960000</td>\n",
       "      <td>-20.490000</td>\n",
       "      <td>-11.960000</td>\n",
       "      <td>-9.080000</td>\n",
       "      <td>-11.650000</td>\n",
       "      <td>-8.560000</td>\n",
       "      <td>-6.990000</td>\n",
       "      <td>-9.180000</td>\n",
       "      <td>-11.040000</td>\n",
       "      <td>-7.920000</td>\n",
       "    </tr>\n",
       "    <tr>\n",
       "      <th>25%</th>\n",
       "      <td>-0.785000</td>\n",
       "      <td>-5.847500</td>\n",
       "      <td>-3.167500</td>\n",
       "      <td>-1.865000</td>\n",
       "      <td>-2.017500</td>\n",
       "      <td>-1.445000</td>\n",
       "      <td>-0.920000</td>\n",
       "      <td>-2.462500</td>\n",
       "      <td>-4.410000</td>\n",
       "      <td>-1.447500</td>\n",
       "      <td>-2.047500</td>\n",
       "      <td>-1.245000</td>\n",
       "      <td>-0.880000</td>\n",
       "      <td>-0.745000</td>\n",
       "      <td>-0.962500</td>\n",
       "      <td>-1.467500</td>\n",
       "      <td>-1.075000</td>\n",
       "    </tr>\n",
       "    <tr>\n",
       "      <th>50%</th>\n",
       "      <td>0.930000</td>\n",
       "      <td>-0.460000</td>\n",
       "      <td>1.040000</td>\n",
       "      <td>1.160000</td>\n",
       "      <td>1.205000</td>\n",
       "      <td>1.435000</td>\n",
       "      <td>1.470000</td>\n",
       "      <td>2.190000</td>\n",
       "      <td>0.660000</td>\n",
       "      <td>1.485000</td>\n",
       "      <td>1.545000</td>\n",
       "      <td>0.645000</td>\n",
       "      <td>1.505000</td>\n",
       "      <td>1.215000</td>\n",
       "      <td>0.880000</td>\n",
       "      <td>1.955000</td>\n",
       "      <td>1.575000</td>\n",
       "    </tr>\n",
       "    <tr>\n",
       "      <th>75%</th>\n",
       "      <td>3.187500</td>\n",
       "      <td>5.715000</td>\n",
       "      <td>3.915000</td>\n",
       "      <td>3.857500</td>\n",
       "      <td>4.322500</td>\n",
       "      <td>4.442500</td>\n",
       "      <td>3.317500</td>\n",
       "      <td>5.390000</td>\n",
       "      <td>4.220000</td>\n",
       "      <td>3.837500</td>\n",
       "      <td>4.657500</td>\n",
       "      <td>4.802500</td>\n",
       "      <td>4.235000</td>\n",
       "      <td>2.952500</td>\n",
       "      <td>3.355000</td>\n",
       "      <td>4.092500</td>\n",
       "      <td>3.517500</td>\n",
       "    </tr>\n",
       "    <tr>\n",
       "      <th>max</th>\n",
       "      <td>6.670000</td>\n",
       "      <td>21.920000</td>\n",
       "      <td>16.300000</td>\n",
       "      <td>17.200000</td>\n",
       "      <td>16.580000</td>\n",
       "      <td>18.370000</td>\n",
       "      <td>8.290000</td>\n",
       "      <td>15.550000</td>\n",
       "      <td>21.350000</td>\n",
       "      <td>17.660000</td>\n",
       "      <td>14.650000</td>\n",
       "      <td>20.860000</td>\n",
       "      <td>13.160000</td>\n",
       "      <td>7.900000</td>\n",
       "      <td>12.360000</td>\n",
       "      <td>13.480000</td>\n",
       "      <td>10.790000</td>\n",
       "    </tr>\n",
       "  </tbody>\n",
       "</table>\n",
       "</div>"
      ],
      "text/plain": [
       "           Food       Mines      Oil        Clths      Durbl      Chems  \\\n",
       "count  96.000000  96.000000  96.000000  96.000000  96.000000  96.000000   \n",
       "mean    1.045625   0.197083   0.547917   1.396979   1.155208   1.303229   \n",
       "std     2.795857   7.902185   5.577552   5.025167   5.137482   5.594216   \n",
       "min    -5.170000 -24.380000 -12.010000 -10.000000 -13.210000 -17.390000   \n",
       "25%    -0.785000  -5.847500  -3.167500  -1.865000  -2.017500  -1.445000   \n",
       "50%     0.930000  -0.460000   1.040000   1.160000   1.205000   1.435000   \n",
       "75%     3.187500   5.715000   3.915000   3.857500   4.322500   4.442500   \n",
       "max     6.670000  21.920000  16.300000  17.200000  16.580000  18.370000   \n",
       "\n",
       "           Cnsum      Cnstr      Steel      FabPr      Machn      Cars   \\\n",
       "count  96.000000  96.000000  96.000000  96.000000  96.000000  96.000000   \n",
       "mean    1.136250   1.731250   0.555625   1.350521   1.227604   1.278854   \n",
       "std     3.174283   5.246562   7.389824   4.694408   4.811242   5.718887   \n",
       "min    -7.300000 -13.960000 -20.490000 -11.960000  -9.080000 -11.650000   \n",
       "25%    -0.920000  -2.462500  -4.410000  -1.447500  -2.047500  -1.245000   \n",
       "50%     1.470000   2.190000   0.660000   1.485000   1.545000   0.645000   \n",
       "75%     3.317500   5.390000   4.220000   3.837500   4.657500   4.802500   \n",
       "max     8.290000  15.550000  21.350000  17.660000  14.650000  20.860000   \n",
       "\n",
       "           Trans      Utils      Rtail      Finan      Other  \n",
       "count  96.000000  96.000000  96.000000  96.000000  96.000000  \n",
       "mean    1.465000   0.890312   1.234375   1.241562   1.282396  \n",
       "std     4.150833   3.235140   3.508655   4.809791   3.708972  \n",
       "min    -8.560000  -6.990000  -9.180000 -11.040000  -7.920000  \n",
       "25%    -0.880000  -0.745000  -0.962500  -1.467500  -1.075000  \n",
       "50%     1.505000   1.215000   0.880000   1.955000   1.575000  \n",
       "75%     4.235000   2.952500   3.355000   4.092500   3.517500  \n",
       "max    13.160000   7.900000  12.360000  13.480000  10.790000  "
      ]
     },
     "execution_count": 7,
     "metadata": {},
     "output_type": "execute_result"
    }
   ],
   "source": [
    "ff_portfolio_data.describe()"
   ]
  },
  {
   "cell_type": "markdown",
   "metadata": {},
   "source": [
    "### Equity Data"
   ]
  },
  {
   "cell_type": "code",
   "execution_count": 8,
   "metadata": {
    "ExecuteTime": {
     "end_time": "2021-02-23T05:31:27.478404Z",
     "start_time": "2021-02-23T05:31:22.981413Z"
    }
   },
   "outputs": [],
   "source": [
    "with pd.HDFStore('../data/assets.h5') as store:\n",
    "    prices = store['/quandl/wiki/prices'].adj_close.unstack().loc['2010':'2017']\n",
    "    equities = store['/us_equities/stocks'].drop_duplicates()"
   ]
  },
  {
   "cell_type": "code",
   "execution_count": 9,
   "metadata": {
    "ExecuteTime": {
     "end_time": "2021-02-23T05:31:27.507172Z",
     "start_time": "2021-02-23T05:31:27.479889Z"
    }
   },
   "outputs": [],
   "source": [
    "sectors = equities.filter(prices.columns, axis=0).sector.to_dict()\n",
    "prices = prices.filter(sectors.keys()).dropna(how='all', axis=1)"
   ]
  },
  {
   "cell_type": "code",
   "execution_count": 10,
   "metadata": {
    "ExecuteTime": {
     "end_time": "2021-02-23T05:31:27.581929Z",
     "start_time": "2021-02-23T05:31:27.508261Z"
    }
   },
   "outputs": [
    {
     "name": "stdout",
     "output_type": "stream",
     "text": [
      "<class 'pandas.core.frame.DataFrame'>\n",
      "PeriodIndex: 95 entries, 2010-02 to 2017-12\n",
      "Freq: M\n",
      "Columns: 1986 entries, A to ZUMZ\n",
      "dtypes: float64(1986)\n",
      "memory usage: 1.4 MB\n"
     ]
    }
   ],
   "source": [
    "returns = prices.resample('M').last().pct_change().mul(100).to_period('M')\n",
    "returns = returns.dropna(how='all').dropna(axis=1)\n",
    "returns.info()"
   ]
  },
  {
   "cell_type": "markdown",
   "metadata": {},
   "source": [
    "### Align data"
   ]
  },
  {
   "cell_type": "code",
   "execution_count": 11,
   "metadata": {
    "ExecuteTime": {
     "end_time": "2021-02-23T05:31:27.585260Z",
     "start_time": "2021-02-23T05:31:27.582845Z"
    }
   },
   "outputs": [],
   "source": [
    "ff_factor_data = ff_factor_data.loc[returns.index]\n",
    "ff_portfolio_data = ff_portfolio_data.loc[returns.index]"
   ]
  },
  {
   "cell_type": "code",
   "execution_count": 12,
   "metadata": {
    "ExecuteTime": {
     "end_time": "2021-02-23T05:31:27.607815Z",
     "start_time": "2021-02-23T05:31:27.586268Z"
    }
   },
   "outputs": [
    {
     "data": {
      "text/html": [
       "<div>\n",
       "<style scoped>\n",
       "    .dataframe tbody tr th:only-of-type {\n",
       "        vertical-align: middle;\n",
       "    }\n",
       "\n",
       "    .dataframe tbody tr th {\n",
       "        vertical-align: top;\n",
       "    }\n",
       "\n",
       "    .dataframe thead th {\n",
       "        text-align: right;\n",
       "    }\n",
       "</style>\n",
       "<table border=\"1\" class=\"dataframe\">\n",
       "  <thead>\n",
       "    <tr style=\"text-align: right;\">\n",
       "      <th></th>\n",
       "      <th>Mkt-RF</th>\n",
       "      <th>SMB</th>\n",
       "      <th>HML</th>\n",
       "      <th>RMW</th>\n",
       "      <th>CMA</th>\n",
       "      <th>RF</th>\n",
       "    </tr>\n",
       "  </thead>\n",
       "  <tbody>\n",
       "    <tr>\n",
       "      <th>count</th>\n",
       "      <td>95.000000</td>\n",
       "      <td>95.000000</td>\n",
       "      <td>95.000000</td>\n",
       "      <td>95.000000</td>\n",
       "      <td>95.000000</td>\n",
       "      <td>95.000000</td>\n",
       "    </tr>\n",
       "    <tr>\n",
       "      <th>mean</th>\n",
       "      <td>1.206211</td>\n",
       "      <td>0.051053</td>\n",
       "      <td>-0.055895</td>\n",
       "      <td>0.139895</td>\n",
       "      <td>0.048842</td>\n",
       "      <td>0.012737</td>\n",
       "    </tr>\n",
       "    <tr>\n",
       "      <th>std</th>\n",
       "      <td>3.568537</td>\n",
       "      <td>2.302701</td>\n",
       "      <td>2.202918</td>\n",
       "      <td>1.593964</td>\n",
       "      <td>1.416798</td>\n",
       "      <td>0.022665</td>\n",
       "    </tr>\n",
       "    <tr>\n",
       "      <th>min</th>\n",
       "      <td>-7.890000</td>\n",
       "      <td>-4.510000</td>\n",
       "      <td>-4.520000</td>\n",
       "      <td>-3.930000</td>\n",
       "      <td>-3.350000</td>\n",
       "      <td>0.000000</td>\n",
       "    </tr>\n",
       "    <tr>\n",
       "      <th>25%</th>\n",
       "      <td>-0.565000</td>\n",
       "      <td>-1.670000</td>\n",
       "      <td>-1.655000</td>\n",
       "      <td>-0.965000</td>\n",
       "      <td>-0.990000</td>\n",
       "      <td>0.000000</td>\n",
       "    </tr>\n",
       "    <tr>\n",
       "      <th>50%</th>\n",
       "      <td>1.290000</td>\n",
       "      <td>0.150000</td>\n",
       "      <td>-0.360000</td>\n",
       "      <td>0.140000</td>\n",
       "      <td>-0.020000</td>\n",
       "      <td>0.000000</td>\n",
       "    </tr>\n",
       "    <tr>\n",
       "      <th>75%</th>\n",
       "      <td>3.265000</td>\n",
       "      <td>1.555000</td>\n",
       "      <td>1.165000</td>\n",
       "      <td>1.140000</td>\n",
       "      <td>0.935000</td>\n",
       "      <td>0.010000</td>\n",
       "    </tr>\n",
       "    <tr>\n",
       "      <th>max</th>\n",
       "      <td>11.350000</td>\n",
       "      <td>6.800000</td>\n",
       "      <td>8.220000</td>\n",
       "      <td>3.530000</td>\n",
       "      <td>3.780000</td>\n",
       "      <td>0.090000</td>\n",
       "    </tr>\n",
       "  </tbody>\n",
       "</table>\n",
       "</div>"
      ],
      "text/plain": [
       "          Mkt-RF        SMB        HML        RMW        CMA         RF\n",
       "count  95.000000  95.000000  95.000000  95.000000  95.000000  95.000000\n",
       "mean    1.206211   0.051053  -0.055895   0.139895   0.048842   0.012737\n",
       "std     3.568537   2.302701   2.202918   1.593964   1.416798   0.022665\n",
       "min    -7.890000  -4.510000  -4.520000  -3.930000  -3.350000   0.000000\n",
       "25%    -0.565000  -1.670000  -1.655000  -0.965000  -0.990000   0.000000\n",
       "50%     1.290000   0.150000  -0.360000   0.140000  -0.020000   0.000000\n",
       "75%     3.265000   1.555000   1.165000   1.140000   0.935000   0.010000\n",
       "max    11.350000   6.800000   8.220000   3.530000   3.780000   0.090000"
      ]
     },
     "execution_count": 12,
     "metadata": {},
     "output_type": "execute_result"
    }
   ],
   "source": [
    "ff_factor_data.describe()"
   ]
  },
  {
   "cell_type": "markdown",
   "metadata": {},
   "source": [
    "### Compute excess Returns"
   ]
  },
  {
   "cell_type": "code",
   "execution_count": 13,
   "metadata": {
    "ExecuteTime": {
     "end_time": "2021-02-23T05:31:27.742949Z",
     "start_time": "2021-02-23T05:31:27.608731Z"
    }
   },
   "outputs": [
    {
     "name": "stdout",
     "output_type": "stream",
     "text": [
      "<class 'pandas.core.frame.DataFrame'>\n",
      "PeriodIndex: 95 entries, 2010-02 to 2017-12\n",
      "Freq: M\n",
      "Columns: 1986 entries, A to ZUMZ\n",
      "dtypes: float64(1986)\n",
      "memory usage: 1.4 MB\n"
     ]
    }
   ],
   "source": [
    "excess_returns = returns.sub(ff_factor_data.RF, axis=0)\n",
    "excess_returns.info()"
   ]
  },
  {
   "cell_type": "code",
   "execution_count": 14,
   "metadata": {
    "ExecuteTime": {
     "end_time": "2021-02-23T05:31:27.754636Z",
     "start_time": "2021-02-23T05:31:27.743923Z"
    }
   },
   "outputs": [],
   "source": [
    "excess_returns = excess_returns.clip(lower=np.percentile(excess_returns, 1),\n",
    "                                     upper=np.percentile(excess_returns, 99))"
   ]
  },
  {
   "cell_type": "markdown",
   "metadata": {},
   "source": [
    "## Fama-Macbeth Regression"
   ]
  },
  {
   "cell_type": "markdown",
   "metadata": {},
   "source": [
    "Given data on risk factors and portfolio returns, it is useful to estimate the portfolio's exposure, that is, how much the risk factors drive portfolio returns, as well as how much the exposure to a given factor is worth, that is, the what market's risk factor premium is. The risk premium then permits to estimate the return for any portfolio provided the factor exposure is known or can be assumed."
   ]
  },
  {
   "cell_type": "code",
   "execution_count": 15,
   "metadata": {
    "ExecuteTime": {
     "end_time": "2021-02-23T05:31:27.762399Z",
     "start_time": "2021-02-23T05:31:27.755552Z"
    }
   },
   "outputs": [
    {
     "name": "stdout",
     "output_type": "stream",
     "text": [
      "<class 'pandas.core.frame.DataFrame'>\n",
      "PeriodIndex: 95 entries, 2010-02 to 2017-12\n",
      "Freq: M\n",
      "Data columns (total 17 columns):\n",
      " #   Column  Non-Null Count  Dtype  \n",
      "---  ------  --------------  -----  \n",
      " 0   Food    95 non-null     float64\n",
      " 1   Mines   95 non-null     float64\n",
      " 2   Oil     95 non-null     float64\n",
      " 3   Clths   95 non-null     float64\n",
      " 4   Durbl   95 non-null     float64\n",
      " 5   Chems   95 non-null     float64\n",
      " 6   Cnsum   95 non-null     float64\n",
      " 7   Cnstr   95 non-null     float64\n",
      " 8   Steel   95 non-null     float64\n",
      " 9   FabPr   95 non-null     float64\n",
      " 10  Machn   95 non-null     float64\n",
      " 11  Cars    95 non-null     float64\n",
      " 12  Trans   95 non-null     float64\n",
      " 13  Utils   95 non-null     float64\n",
      " 14  Rtail   95 non-null     float64\n",
      " 15  Finan   95 non-null     float64\n",
      " 16  Other   95 non-null     float64\n",
      "dtypes: float64(17)\n",
      "memory usage: 13.4 KB\n"
     ]
    }
   ],
   "source": [
    "ff_portfolio_data.info()"
   ]
  },
  {
   "cell_type": "code",
   "execution_count": 16,
   "metadata": {
    "ExecuteTime": {
     "end_time": "2021-02-23T05:31:27.777990Z",
     "start_time": "2021-02-23T05:31:27.763361Z"
    }
   },
   "outputs": [
    {
     "name": "stdout",
     "output_type": "stream",
     "text": [
      "<class 'pandas.core.frame.DataFrame'>\n",
      "PeriodIndex: 95 entries, 2010-02 to 2017-12\n",
      "Freq: M\n",
      "Data columns (total 5 columns):\n",
      " #   Column  Non-Null Count  Dtype  \n",
      "---  ------  --------------  -----  \n",
      " 0   Mkt-RF  95 non-null     float64\n",
      " 1   SMB     95 non-null     float64\n",
      " 2   HML     95 non-null     float64\n",
      " 3   RMW     95 non-null     float64\n",
      " 4   CMA     95 non-null     float64\n",
      "dtypes: float64(5)\n",
      "memory usage: 4.5 KB\n"
     ]
    }
   ],
   "source": [
    "ff_factor_data = ff_factor_data.drop('RF', axis=1)\n",
    "ff_factor_data.info()"
   ]
  },
  {
   "cell_type": "markdown",
   "metadata": {},
   "source": [
    "To address the inference problem caused by the correlation of the residuals, Fama and MacBeth proposed a two-step methodology for a cross-sectional regression of returns on factors. The two-stage Fama—Macbeth regression is designed to estimate the premium rewarded for the exposure to a particular risk factor by the market. The two stages consist of:\n",
    "\n",
    "- First stage: N time-series regression, one for each asset or portfolio, of its excess returns on the factors to estimate the factor loadings.\n",
    "\n",
    "- Second stage: T cross-sectional regression, one for each time period, to estimate the risk premium.\n",
    "\n",
    "See corresponding section in Chapter 7 of [Machine Learning for Trading](https://www.amazon.com/Hands-Machine-Learning-Algorithmic-Trading-ebook/dp/B07JLFH7C5/ref=sr_1_2?ie=UTF8&qid=1548455634&sr=8-2&keywords=machine+learning+algorithmic+trading) for details."
   ]
  },
  {
   "cell_type": "markdown",
   "metadata": {},
   "source": [
    "Now we can compute the factor risk premia as the time average and get t-statistic to assess their individual significance, using the assumption that the risk premia estimates are independent over time.\n",
    "\n",
    "If we had a very large and representative data sample on traded risk factors we could use the sample mean as a risk premium estimate. However, we typically do not have a sufficiently long history to and the margin of error around the sample mean could be quite large. \n",
    "\n",
    "The Fama—Macbeth methodology leverages the covariance of the factors with other assets to determine the factor premia. The second moment of asset returns is easier to estimate than the first moment, and obtaining more granular data improves estimation considerably, which is not true of mean estimation."
   ]
  },
  {
   "cell_type": "markdown",
   "metadata": {},
   "source": [
    "### Step 1: Factor Exposures"
   ]
  },
  {
   "cell_type": "markdown",
   "metadata": {},
   "source": [
    "We can implement the first stage to obtain the 17 factor loading estimates as follows:"
   ]
  },
  {
   "cell_type": "code",
   "execution_count": 17,
   "metadata": {
    "ExecuteTime": {
     "end_time": "2021-02-23T05:31:27.826075Z",
     "start_time": "2021-02-23T05:31:27.778819Z"
    }
   },
   "outputs": [],
   "source": [
    "betas = []\n",
    "for industry in ff_portfolio_data:\n",
    "    step1 = OLS(endog=ff_portfolio_data.loc[ff_factor_data.index, industry], \n",
    "                exog=add_constant(ff_factor_data)).fit()\n",
    "    betas.append(step1.params.drop('const'))"
   ]
  },
  {
   "cell_type": "code",
   "execution_count": 18,
   "metadata": {
    "ExecuteTime": {
     "end_time": "2021-02-23T05:31:27.835306Z",
     "start_time": "2021-02-23T05:31:27.827037Z"
    }
   },
   "outputs": [
    {
     "name": "stdout",
     "output_type": "stream",
     "text": [
      "<class 'pandas.core.frame.DataFrame'>\n",
      "Index: 17 entries, Food  to Other\n",
      "Data columns (total 5 columns):\n",
      " #   Column  Non-Null Count  Dtype  \n",
      "---  ------  --------------  -----  \n",
      " 0   Mkt-RF  17 non-null     float64\n",
      " 1   SMB     17 non-null     float64\n",
      " 2   HML     17 non-null     float64\n",
      " 3   RMW     17 non-null     float64\n",
      " 4   CMA     17 non-null     float64\n",
      "dtypes: float64(5)\n",
      "memory usage: 1.3+ KB\n"
     ]
    }
   ],
   "source": [
    "betas = pd.DataFrame(betas, \n",
    "                     columns=ff_factor_data.columns, \n",
    "                     index=ff_portfolio_data.columns)\n",
    "betas.info()"
   ]
  },
  {
   "cell_type": "markdown",
   "metadata": {},
   "source": [
    "### Step 2: Risk Premia"
   ]
  },
  {
   "cell_type": "markdown",
   "metadata": {},
   "source": [
    "For the second stage, we run 96 regressions of the period returns for the cross section of portfolios on the factor loadings"
   ]
  },
  {
   "cell_type": "code",
   "execution_count": 19,
   "metadata": {
    "ExecuteTime": {
     "end_time": "2021-02-23T05:31:27.911536Z",
     "start_time": "2021-02-23T05:31:27.836359Z"
    }
   },
   "outputs": [],
   "source": [
    "lambdas = []\n",
    "for period in ff_portfolio_data.index:\n",
    "    step2 = OLS(endog=ff_portfolio_data.loc[period, betas.index], \n",
    "                exog=betas).fit()\n",
    "    lambdas.append(step2.params)"
   ]
  },
  {
   "cell_type": "code",
   "execution_count": 20,
   "metadata": {
    "ExecuteTime": {
     "end_time": "2021-02-23T05:31:27.939925Z",
     "start_time": "2021-02-23T05:31:27.912386Z"
    }
   },
   "outputs": [
    {
     "name": "stdout",
     "output_type": "stream",
     "text": [
      "<class 'pandas.core.frame.DataFrame'>\n",
      "PeriodIndex: 95 entries, 2010-02 to 2017-12\n",
      "Freq: M\n",
      "Data columns (total 5 columns):\n",
      " #   Column  Non-Null Count  Dtype  \n",
      "---  ------  --------------  -----  \n",
      " 0   Mkt-RF  95 non-null     float64\n",
      " 1   SMB     95 non-null     float64\n",
      " 2   HML     95 non-null     float64\n",
      " 3   RMW     95 non-null     float64\n",
      " 4   CMA     95 non-null     float64\n",
      "dtypes: float64(5)\n",
      "memory usage: 9.3 KB\n"
     ]
    }
   ],
   "source": [
    "lambdas = pd.DataFrame(lambdas, \n",
    "                       index=ff_portfolio_data.index,\n",
    "                       columns=betas.columns.tolist())\n",
    "lambdas.info()"
   ]
  },
  {
   "cell_type": "code",
   "execution_count": 21,
   "metadata": {
    "ExecuteTime": {
     "end_time": "2021-02-23T05:31:28.074536Z",
     "start_time": "2021-02-23T05:31:27.940842Z"
    }
   },
   "outputs": [
    {
     "data": {
      "image/png": "[encoded data removed]",
      "text/plain": [
       "<Figure size 864x288 with 1 Axes>"
      ]
     },
     "metadata": {},
     "output_type": "display_data"
    }
   ],
   "source": [
    "lambdas.mean().sort_values().plot.barh(figsize=(12, 4))\n",
    "sns.despine()\n",
    "plt.tight_layout();"
   ]
  },
  {
   "cell_type": "code",
   "execution_count": 22,
   "metadata": {
    "ExecuteTime": {
     "end_time": "2021-02-23T05:31:28.079647Z",
     "start_time": "2021-02-23T05:31:28.075603Z"
    }
   },
   "outputs": [
    {
     "data": {
      "text/plain": [
       "Mkt-RF    0.340220\n",
       "SMB      -0.013288\n",
       "HML      -0.261649\n",
       "RMW      -0.035393\n",
       "CMA      -0.172484\n",
       "dtype: float64"
      ]
     },
     "execution_count": 22,
     "metadata": {},
     "output_type": "execute_result"
    }
   ],
   "source": [
    "t = lambdas.mean().div(lambdas.std())\n",
    "t"
   ]
  },
  {
   "cell_type": "markdown",
   "metadata": {},
   "source": [
    "#### Results"
   ]
  },
  {
   "cell_type": "code",
   "execution_count": 23,
   "metadata": {
    "ExecuteTime": {
     "end_time": "2021-02-23T05:31:28.429270Z",
     "start_time": "2021-02-23T05:31:28.080566Z"
    },
    "scrolled": false
   },
   "outputs": [
    {
     "data": {
      "image/png": "[encoded data removed]",
      "text/plain": [
       "<Figure size 1008x360 with 2 Axes>"
      ]
     },
     "metadata": {},
     "output_type": "display_data"
    }
   ],
   "source": [
    "window = 24  # months\n",
    "ax1 = plt.subplot2grid((1, 3), (0, 0))\n",
    "ax2 = plt.subplot2grid((1, 3), (0, 1), colspan=2)\n",
    "lambdas.mean().sort_values().plot.barh(ax=ax1)\n",
    "lambdas.rolling(window).mean().dropna().plot(lw=1,\n",
    "                                             figsize=(14, 5),\n",
    "                                             sharey=True,\n",
    "                                             ax=ax2)\n",
    "sns.despine()\n",
    "plt.tight_layout()"
   ]
  },
  {
   "cell_type": "code",
   "execution_count": 24,
   "metadata": {
    "ExecuteTime": {
     "end_time": "2021-02-23T05:31:28.993774Z",
     "start_time": "2021-02-23T05:31:28.431750Z"
    }
   },
   "outputs": [
    {
     "data": {
      "image/png": "[encoded data removed]",
      "text/plain": [
       "<Figure size 1008x504 with 5 Axes>"
      ]
     },
     "metadata": {},
     "output_type": "display_data"
    }
   ],
   "source": [
    "window = 24  # months\n",
    "lambdas.rolling(window).mean().dropna().plot(lw=2,\n",
    "                                             figsize=(14, 7),\n",
    "                                             subplots=True,\n",
    "                                             sharey=True)\n",
    "sns.despine()\n",
    "plt.tight_layout()"
   ]
  },
  {
   "cell_type": "markdown",
   "metadata": {},
   "source": [
    "## Fama-Macbeth with the LinearModels library"
   ]
  },
  {
   "cell_type": "markdown",
   "metadata": {},
   "source": [
    "The linear_models library extends statsmodels with various models for panel data and also implements the two-stage Fama—MacBeth procedure:"
   ]
  },
  {
   "cell_type": "code",
   "execution_count": 25,
   "metadata": {
    "ExecuteTime": {
     "end_time": "2021-02-23T05:31:29.048505Z",
     "start_time": "2021-02-23T05:31:28.994815Z"
    }
   },
   "outputs": [
    {
     "name": "stdout",
     "output_type": "stream",
     "text": [
      "                      LinearFactorModel Estimation Summary                      \n",
      "================================================================================\n",
      "No. Test Portfolios:                 17   R-squared:                      0.6885\n",
      "No. Factors:                          5   J-statistic:                    17.036\n",
      "No. Observations:                    95   P-value                         0.1482\n",
      "Date:                  Mon, Feb 22 2021   Distribution:                 chi2(12)\n",
      "Time:                          23:31:29                                         \n",
      "Cov. Estimator:                  robust                                         \n",
      "                                                                                \n",
      "                            Risk Premia Estimates                             \n",
      "==============================================================================\n",
      "            Parameter  Std. Err.     T-stat    P-value    Lower CI    Upper CI\n",
      "------------------------------------------------------------------------------\n",
      "Mkt-RF         1.2209     0.4076     2.9953     0.0027      0.4220      2.0198\n",
      "SMB           -0.0526     0.7980    -0.0659     0.9475     -1.6167      1.5116\n",
      "HML           -1.0317     0.6332    -1.6294     0.1032     -2.2726      0.2093\n",
      "RMW           -0.1050     0.7740    -0.1357     0.8921     -1.6220      1.4120\n",
      "CMA           -0.6254     0.5223    -1.1974     0.2311     -1.6490      0.3982\n",
      "==============================================================================\n",
      "\n",
      "Covariance estimator:\n",
      "HeteroskedasticCovariance\n",
      "See full_summary for complete results\n"
     ]
    }
   ],
   "source": [
    "mod = LinearFactorModel(portfolios=ff_portfolio_data, \n",
    "                        factors=ff_factor_data)\n",
    "res = mod.fit()\n",
    "print(res)"
   ]
  },
  {
   "cell_type": "code",
   "execution_count": 26,
   "metadata": {
    "ExecuteTime": {
     "end_time": "2021-02-23T05:31:29.129566Z",
     "start_time": "2021-02-23T05:31:29.050365Z"
    },
    "scrolled": false
   },
   "outputs": [
    {
     "name": "stdout",
     "output_type": "stream",
     "text": [
      "                      LinearFactorModel Estimation Summary                      \n",
      "================================================================================\n",
      "No. Test Portfolios:                 17   R-squared:                      0.6885\n",
      "No. Factors:                          5   J-statistic:                    17.036\n",
      "No. Observations:                    95   P-value                         0.1482\n",
      "Date:                  Mon, Feb 22 2021   Distribution:                 chi2(12)\n",
      "Time:                          23:31:29                                         \n",
      "Cov. Estimator:                  robust                                         \n",
      "                                                                                \n",
      "                            Risk Premia Estimates                             \n",
      "==============================================================================\n",
      "            Parameter  Std. Err.     T-stat    P-value    Lower CI    Upper CI\n",
      "------------------------------------------------------------------------------\n",
      "Mkt-RF         1.2209     0.4076     2.9953     0.0027      0.4220      2.0198\n",
      "SMB           -0.0526     0.7980    -0.0659     0.9475     -1.6167      1.5116\n",
      "HML           -1.0317     0.6332    -1.6294     0.1032     -2.2726      0.2093\n",
      "RMW           -0.1050     0.7740    -0.1357     0.8921     -1.6220      1.4120\n",
      "CMA           -0.6254     0.5223    -1.1974     0.2311     -1.6490      0.3982\n",
      "\n",
      "\n",
      "                              Food  Coefficients                              \n",
      "==============================================================================\n",
      "            Parameter  Std. Err.     T-stat    P-value    Lower CI    Upper CI\n",
      "------------------------------------------------------------------------------\n",
      "alpha          0.1875     0.2393     0.7834     0.4334     -0.2816      0.6566\n",
      "Mkt-RF         0.6866     0.0465     14.775     0.0000      0.5955      0.7777\n",
      "SMB           -0.3100     0.1126    -2.7535     1.9941     -0.5307     -0.0893\n",
      "HML           -0.3491     0.1421    -2.4574     1.9860     -0.6276     -0.0707\n",
      "RMW            0.3074     0.1243     2.4731     0.0134      0.0638      0.5510\n",
      "CMA            0.4664     0.1637     2.8491     0.0044      0.1456      0.7872\n",
      "\n",
      "\n",
      "                              Mines Coefficients                              \n",
      "==============================================================================\n",
      "alpha         -0.6491     0.5443    -1.1925     1.7669     -1.7160      0.4178\n",
      "Mkt-RF         1.2988     0.1951     6.6588     0.0000      0.9165      1.6811\n",
      "SMB            0.1807     0.3380     0.5346     0.5929     -0.4817      0.8431\n",
      "HML            0.1889     0.3305     0.5718     0.5675     -0.4588      0.8367\n",
      "RMW            0.1457     0.4296     0.3391     0.7346     -0.6963      0.9876\n",
      "CMA            0.6111     0.5507     1.1097     0.2671     -0.4682      1.6905\n",
      "\n",
      "\n",
      "                              Oil   Coefficients                              \n",
      "==============================================================================\n",
      "alpha          0.2045     0.3452     0.5924     0.5536     -0.4721      0.8812\n",
      "Mkt-RF         1.0553     0.1027     10.273     0.0000      0.8540      1.2567\n",
      "SMB            0.1554     0.1941     0.8006     0.4234     -0.2251      0.5359\n",
      "HML            0.6687     0.2048     3.2657     0.0011      0.2673      1.0700\n",
      "RMW           -0.0246     0.2325    -0.1059     1.0843     -0.4804      0.4311\n",
      "CMA            0.3116     0.2831     1.1007     0.2710     -0.2432      0.8663\n",
      "\n",
      "\n",
      "                              Clths Coefficients                              \n",
      "==============================================================================\n",
      "alpha          0.1729     0.3389     0.5102     0.6099     -0.4913      0.8372\n",
      "Mkt-RF         0.9686     0.1214     7.9777     0.0000      0.7306      1.2065\n",
      "SMB            0.3429     0.1966     1.7447     0.0810     -0.0423      0.7282\n",
      "HML           -0.1879     0.2097    -0.8959     1.6297     -0.5990      0.2232\n",
      "RMW            0.5648     0.2719     2.0769     0.0378      0.0318      1.0978\n",
      "CMA            0.0378     0.3163     0.1196     0.9048     -0.5820      0.6577\n",
      "\n",
      "\n",
      "                              Durbl Coefficients                              \n",
      "==============================================================================\n",
      "alpha         -0.1562     0.3204    -0.4875     1.3741     -0.7843      0.4718\n",
      "Mkt-RF         1.1741     0.0834     14.073     0.0000      1.0106      1.3376\n",
      "SMB            0.5378     0.1194     4.5040     0.0000      0.3038      0.7719\n",
      "HML            0.0707     0.1479     0.4779     0.6327     -0.2192      0.3607\n",
      "RMW            0.5120     0.1939     2.6400     0.0083      0.1319      0.8921\n",
      "CMA           -0.1312     0.2655    -0.4944     1.3790     -0.6515      0.3891\n",
      "\n",
      "\n",
      "                              Chems Coefficients                              \n",
      "==============================================================================\n",
      "alpha         -0.2050     0.3111    -0.6589     1.4900     -0.8147      0.4048\n",
      "Mkt-RF         1.3511     0.1063     12.705     0.0000      1.1426      1.5595\n",
      "SMB            0.1662     0.1489     1.1161     0.2644     -0.1256      0.4580\n",
      "HML            0.1952     0.1480     1.3189     0.1872     -0.0949      0.4852\n",
      "RMW            0.1416     0.1914     0.7397     0.4595     -0.2335      0.5167\n",
      "CMA           -0.2302     0.2633    -0.8743     1.6180     -0.7462      0.2858\n",
      "\n",
      "\n",
      "                              Cnsum Coefficients                              \n",
      "==============================================================================\n",
      "alpha         -0.0381     0.3567    -0.1067     1.0850     -0.7371      0.6610\n",
      "Mkt-RF         0.7625     0.0591     12.897     0.0000      0.6466      0.8783\n",
      "SMB           -0.3328     0.1006    -3.3092     1.9991     -0.5298     -0.1357\n",
      "HML           -0.5771     0.1260    -4.5810     2.0000     -0.8240     -0.3302\n",
      "RMW           -0.0607     0.1317    -0.4611     1.3552     -0.3188      0.1974\n",
      "CMA            0.5745     0.2272     2.5289     0.0114      0.1292      1.0197\n",
      "\n",
      "\n",
      "                              Cnstr Coefficients                              \n",
      "==============================================================================\n",
      "alpha          0.6212     0.3918     1.5856     0.1128     -0.1467      1.3891\n",
      "Mkt-RF         1.1161     0.0828     13.479     0.0000      0.9539      1.2784\n",
      "SMB            0.4463     0.1337     3.3385     0.0008      0.1843      0.7082\n",
      "HML            0.0923     0.1892     0.4876     0.6258     -0.2786      0.4631\n",
      "RMW           -0.0108     0.2232    -0.0485     1.0387     -0.4482      0.4266\n",
      "CMA            0.1406     0.2425     0.5798     0.5621     -0.3347      0.6158\n",
      "\n",
      "\n",
      "                              Steel Coefficients                              \n",
      "==============================================================================\n",
      "alpha         -0.3503     0.4031    -0.8690     1.6152     -1.1405      0.4398\n",
      "Mkt-RF         1.4649     0.1381     10.604     0.0000      1.1941      1.7356\n",
      "SMB            0.4105     0.2548     1.6108     0.1072     -0.0890      0.9100\n",
      "HML            0.4000     0.2653     1.5081     0.1315     -0.1199      0.9199\n",
      "RMW            0.1361     0.3343     0.4071     0.6840     -0.5191      0.7912\n",
      "CMA            0.4839     0.4191     1.1546     0.2483     -0.3375      1.3054\n",
      "\n",
      "\n",
      "                              FabPr Coefficients                              \n",
      "==============================================================================\n",
      "alpha          0.2169     0.2832     0.7661     0.4436     -0.3380      0.7719\n",
      "Mkt-RF         1.0695     0.0734     14.574     0.0000      0.9257      1.2134\n",
      "SMB            0.4602     0.0979     4.7027     0.0000      0.2684      0.6520\n",
      "HML           -0.0293     0.1110    -0.2635     1.2079     -0.2469      0.1883\n",
      "RMW            0.1533     0.1456     1.0527     0.2925     -0.1321      0.4386\n",
      "CMA            0.1864     0.1855     1.0048     0.3150     -0.1772      0.5499\n",
      "\n",
      "\n",
      "                              Machn Coefficients                              \n",
      "==============================================================================\n",
      "alpha         -0.3141     0.2689    -1.1682     1.7573     -0.8410      0.2129\n",
      "Mkt-RF         1.1883     0.0582     20.424     0.0000      1.0743      1.3023\n",
      "SMB            0.1817     0.1074     1.6928     0.0905     -0.0287      0.3921\n",
      "HML            0.0385     0.1060     0.3631     0.7166     -0.1692      0.2462\n",
      "RMW            0.0543     0.1582     0.3435     0.7312     -0.2556      0.3643\n",
      "CMA           -0.3767     0.1786    -2.1093     1.9651     -0.7267     -0.0267\n",
      "\n",
      "\n",
      "                              Cars  Coefficients                              \n",
      "==============================================================================\n",
      "alpha         -0.0951     0.3907    -0.2434     1.1923     -0.8608      0.6706\n",
      "Mkt-RF         1.1895     0.0996     11.949     0.0000      0.9944      1.3847\n",
      "SMB            0.5942     0.1290     4.6075     0.0000      0.3414      0.8469\n",
      "HML            0.0215     0.1757     0.1221     0.9028     -0.3229      0.3659\n",
      "RMW            0.0225     0.2201     0.1023     0.9185     -0.4088      0.4539\n",
      "CMA            0.0122     0.2993     0.0406     0.9676     -0.5745      0.5988\n",
      "\n",
      "\n",
      "                              Trans Coefficients                              \n",
      "==============================================================================\n",
      "alpha          0.4815     0.3270     1.4726     0.1409     -0.1594      1.1224\n",
      "Mkt-RF         1.0248     0.0508     20.160     0.0000      0.9252      1.1244\n",
      "SMB            0.2538     0.1030     2.4646     0.0137      0.0520      0.4556\n",
      "HML            0.0118     0.1221     0.0969     0.9228     -0.2276      0.2512\n",
      "RMW            0.3781     0.1606     2.3541     0.0186      0.0633      0.6929\n",
      "CMA            0.2632     0.2017     1.3049     0.1919     -0.1321      0.6586\n",
      "\n",
      "\n",
      "                              Utils Coefficients                              \n",
      "==============================================================================\n",
      "alpha          0.3696     0.3119     1.1851     0.2360     -0.2417      0.9809\n",
      "Mkt-RF         0.5022     0.0911     5.5123     0.0000      0.3236      0.6807\n",
      "SMB           -0.2454     0.1567    -1.5665     1.8828     -0.5525      0.0616\n",
      "HML           -0.2931     0.1772    -1.6541     1.9019     -0.6404      0.0542\n",
      "RMW            0.2423     0.1949     1.2435     0.2137     -0.1396      0.6242\n",
      "CMA            0.5205     0.2955     1.7616     0.0781     -0.0586      1.0997\n",
      "\n",
      "\n",
      "                              Rtail Coefficients                              \n",
      "==============================================================================\n",
      "alpha         -0.0417     0.2681    -0.1556     1.1236     -0.5673      0.4838\n",
      "Mkt-RF         0.9087     0.0689     13.191     0.0000      0.7737      1.0438\n",
      "SMB            0.1315     0.0995     1.3220     0.1862     -0.0635      0.3265\n",
      "HML           -0.3827     0.1295    -2.9543     1.9969     -0.6366     -0.1288\n",
      "RMW            0.6882     0.1611     4.2720     0.0000      0.3725      1.0040\n",
      "CMA            0.1957     0.1741     1.1238     0.2611     -0.1456      0.5369\n",
      "\n",
      "\n",
      "                              Finan Coefficients                              \n",
      "==============================================================================\n",
      "alpha          0.3749     0.3717     1.0086     0.3132     -0.3536      1.1033\n",
      "Mkt-RF         1.0566     0.0426     24.782     0.0000      0.9730      1.1401\n",
      "SMB            0.0757     0.0856     0.8836     0.3769     -0.0922      0.2435\n",
      "HML            0.7334     0.0877     8.3590     0.0000      0.5615      0.9054\n",
      "RMW           -0.4293     0.1061    -4.0480     1.9999     -0.6372     -0.2214\n",
      "CMA           -0.5083     0.1124    -4.5226     2.0000     -0.7286     -0.2880\n",
      "\n",
      "\n",
      "                              Other Coefficients                              \n",
      "==============================================================================\n",
      "alpha         -0.1369     0.2281    -0.6003     1.4517     -0.5840      0.3101\n",
      "Mkt-RF         1.0416     0.0244     42.672     0.0000      0.9937      1.0894\n",
      "SMB           -0.1149     0.0397    -2.8967     1.9962     -0.1927     -0.0372\n",
      "HML           -0.2041     0.0380    -5.3740     2.0000     -0.2785     -0.1296\n",
      "RMW           -0.0684     0.0626    -1.0917     1.7251     -0.1911      0.0544\n",
      "CMA            0.0191     0.0657     0.2912     0.7709     -0.1097      0.1480\n",
      "==============================================================================\n",
      "\n",
      "Covariance estimator:\n",
      "HeteroskedasticCovariance\n",
      "See full_summary for complete results\n"
     ]
    }
   ],
   "source": [
    "print(res.full_summary)"
   ]
  },
  {
   "cell_type": "markdown",
   "metadata": {},
   "source": [
    "This provides us with the same result:"
   ]
  },
  {
   "cell_type": "code",
   "execution_count": 27,
   "metadata": {
    "ExecuteTime": {
     "end_time": "2021-02-23T05:31:29.135366Z",
     "start_time": "2021-02-23T05:31:29.130502Z"
    }
   },
   "outputs": [
    {
     "data": {
      "text/plain": [
       "Mkt-RF    1.220931\n",
       "SMB      -0.052588\n",
       "HML      -1.031677\n",
       "RMW      -0.105034\n",
       "CMA      -0.625367\n",
       "dtype: float64"
      ]
     },
     "execution_count": 27,
     "metadata": {},
     "output_type": "execute_result"
    }
   ],
   "source": [
    "lambdas.mean()"
   ]
  }
 ],
 "metadata": {
  "kernelspec": {
   "display_name": "Python 3",
   "language": "python",
   "name": "python3"
  },
  "language_info": {
   "codemirror_mode": {
    "name": "ipython",
    "version": 3
   },
   "file_extension": ".py",
   "mimetype": "text/x-python",
   "name": "python",
   "nbconvert_exporter": "python",
   "pygments_lexer": "ipython3",
   "version": "3.8.5"
  },
  "toc": {
   "base_numbering": 1,
   "nav_menu": {},
   "number_sections": true,
   "sideBar": true,
   "skip_h1_title": true,
   "title_cell": "Table of Contents",
   "title_sidebar": "Contents",
   "toc_cell": false,
   "toc_position": {},
   "toc_section_display": true,
   "toc_window_display": true
  }
 },
 "nbformat": 4,
 "nbformat_minor": 2
}

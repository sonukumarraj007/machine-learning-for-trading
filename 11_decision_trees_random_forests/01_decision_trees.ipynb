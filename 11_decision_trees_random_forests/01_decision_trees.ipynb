{
 "cells": [
  {
   "cell_type": "markdown",
   "metadata": {},
   "source": [
    "# How to use decision trees to predict equity returns and price moves"
   ]
  },
  {
   "cell_type": "markdown",
   "metadata": {},
   "source": [
    "In this notebook, we illustrate how to use tree-based models to gain insight and make predictions. \n",
    "\n",
    "To demonstrate regression trees we predict returns, and for the classification case, we return to the example of positive and negative asset price moves."
   ]
  },
  {
   "cell_type": "markdown",
   "metadata": {},
   "source": [
    "## Imports & Settings"
   ]
  },
  {
   "cell_type": "code",
   "execution_count": 1,
   "metadata": {
    "ExecuteTime": {
     "end_time": "2021-02-23T20:43:52.921274Z",
     "start_time": "2021-02-23T20:43:52.919386Z"
    }
   },
   "outputs": [],
   "source": [
    "import warnings\n",
    "warnings.filterwarnings('ignore')"
   ]
  },
  {
   "cell_type": "code",
   "execution_count": 2,
   "metadata": {
    "ExecuteTime": {
     "end_time": "2021-02-23T20:43:53.982408Z",
     "start_time": "2021-02-23T20:43:52.930105Z"
    }
   },
   "outputs": [],
   "source": [
    "%matplotlib inline\n",
    "\n",
    "import os, sys\n",
    "from pathlib import Path\n",
    "\n",
    "import numpy as np\n",
    "from scipy.stats import spearmanr\n",
    "import pandas as pd\n",
    "\n",
    "import matplotlib.pyplot as plt\n",
    "from matplotlib.ticker import FuncFormatter\n",
    "from matplotlib import cm\n",
    "import seaborn as sns\n",
    "\n",
    "from sklearn.tree import DecisionTreeClassifier, DecisionTreeRegressor, export_graphviz, _tree\n",
    "from sklearn.linear_model import LinearRegression, LogisticRegression\n",
    "from sklearn.model_selection import train_test_split, GridSearchCV, learning_curve\n",
    "from sklearn.metrics import roc_auc_score, roc_curve, mean_squared_error, make_scorer\n",
    "import graphviz\n",
    "\n",
    "import statsmodels.api as sm"
   ]
  },
  {
   "cell_type": "code",
   "execution_count": 3,
   "metadata": {
    "ExecuteTime": {
     "end_time": "2021-02-23T20:43:53.990159Z",
     "start_time": "2021-02-23T20:43:53.984635Z"
    }
   },
   "outputs": [],
   "source": [
    "sys.path.insert(1, os.path.join(sys.path[0], '..'))\n",
    "from utils import MultipleTimeSeriesCV"
   ]
  },
  {
   "cell_type": "code",
   "execution_count": 4,
   "metadata": {
    "ExecuteTime": {
     "end_time": "2021-02-23T20:43:53.995554Z",
     "start_time": "2021-02-23T20:43:53.991745Z"
    }
   },
   "outputs": [],
   "source": [
    "sns.set_style('white')"
   ]
  },
  {
   "cell_type": "code",
   "execution_count": 5,
   "metadata": {
    "ExecuteTime": {
     "end_time": "2021-02-23T20:43:54.003457Z",
     "start_time": "2021-02-23T20:43:53.996952Z"
    }
   },
   "outputs": [],
   "source": [
    "results_path = Path('results', 'decision_trees')\n",
    "if not results_path.exists():\n",
    "    results_path.mkdir(parents=True)"
   ]
  },
  {
   "cell_type": "markdown",
   "metadata": {},
   "source": [
    "## Load Model Data"
   ]
  },
  {
   "cell_type": "markdown",
   "metadata": {},
   "source": [
    "We use a simplified version of the data set constructed in Chapter 4, Alpha factor research. It consists of daily stock prices provided by Quandl for the 2010-2017 period and various engineered features. The details can be found in the notebook [data_prep](00_data_prep.ipynb) in the GitHub repo for this chapter."
   ]
  },
  {
   "cell_type": "markdown",
   "metadata": {},
   "source": [
    "The decision tree models in this chapter are not equipped to handle missing or categorical variables, so we will apply dummy encoding to the latter after dropping any of the former."
   ]
  },
  {
   "cell_type": "code",
   "execution_count": 6,
   "metadata": {
    "ExecuteTime": {
     "end_time": "2021-02-23T20:43:54.248476Z",
     "start_time": "2021-02-23T20:43:54.004734Z"
    },
    "scrolled": true
   },
   "outputs": [
    {
     "name": "stdout",
     "output_type": "stream",
     "text": [
      "<class 'pandas.core.frame.DataFrame'>\n",
      "MultiIndex: 77788 entries, ('A', Timestamp('2006-12-31 00:00:00')) to ('ZION', Timestamp('2017-11-30 00:00:00'))\n",
      "Data columns (total 27 columns):\n",
      " #   Column         Non-Null Count  Dtype  \n",
      "---  ------         --------------  -----  \n",
      " 0   atr            77788 non-null  float64\n",
      " 1   bb_down        77788 non-null  float64\n",
      " 2   bb_high        77788 non-null  float64\n",
      " 3   bb_low         77788 non-null  float64\n",
      " 4   bb_mid         77788 non-null  float64\n",
      " 5   bb_up          77788 non-null  float64\n",
      " 6   macd           77788 non-null  float64\n",
      " 7   natr           77788 non-null  float64\n",
      " 8   rsi            77788 non-null  float64\n",
      " 9   sector         77788 non-null  object \n",
      " 10  return_1m      77788 non-null  float64\n",
      " 11  return_3m      77788 non-null  float64\n",
      " 12  return_6m      77788 non-null  float64\n",
      " 13  return_12m     77788 non-null  float64\n",
      " 14  beta           77788 non-null  float64\n",
      " 15  SMB            77788 non-null  float64\n",
      " 16  HML            77788 non-null  float64\n",
      " 17  RMW            77788 non-null  float64\n",
      " 18  CMA            77788 non-null  float64\n",
      " 19  momentum_3     77788 non-null  float64\n",
      " 20  momentum_6     77788 non-null  float64\n",
      " 21  momentum_3_6   77788 non-null  float64\n",
      " 22  momentum_12    77788 non-null  float64\n",
      " 23  momentum_3_12  77788 non-null  float64\n",
      " 24  year           77788 non-null  int64  \n",
      " 25  month          77788 non-null  int64  \n",
      " 26  target         77788 non-null  float64\n",
      "dtypes: float64(24), int64(2), object(1)\n",
      "memory usage: 16.4+ MB\n"
     ]
    }
   ],
   "source": [
    "with pd.HDFStore('data.h5') as store:\n",
    "    data = store['us/equities/monthly']\n",
    "data.info()"
   ]
  },
  {
   "cell_type": "markdown",
   "metadata": {},
   "source": [
    "## Simple Regression Tree with Time Series Data"
   ]
  },
  {
   "cell_type": "markdown",
   "metadata": {},
   "source": [
    "Regression trees make predictions based on the mean outcome value for the training samples assigned to a given node and typically rely on the mean-squared error to select optimal rules during recursive binary splitting.\n",
    "\n",
    "Given a training set, the algorithm iterates over the predictors, $X_1, X_2, ..., X_p$, and possible cutpoints, $s_1, s_2, ..., s_N$, to find an optimal combination. The optimal rule splits the feature space into two regions, $\\{X\\mid X_i < s_j\\}$ and $\\{X\\mid X_i > s_j\\}$, with values for the $X_i$ feature either below or above the $s_j$ threshold so that predictions based on the training subsets maximize the reduction of the squared residuals relative to the current node."
   ]
  },
  {
   "cell_type": "markdown",
   "metadata": {},
   "source": [
    "### Generate two lags of monthly returns"
   ]
  },
  {
   "cell_type": "code",
   "execution_count": 7,
   "metadata": {
    "ExecuteTime": {
     "end_time": "2021-02-23T20:43:54.283443Z",
     "start_time": "2021-02-23T20:43:54.249764Z"
    },
    "scrolled": true
   },
   "outputs": [
    {
     "name": "stdout",
     "output_type": "stream",
     "text": [
      "<class 'pandas.core.frame.DataFrame'>\n",
      "MultiIndex: 77176 entries, ('A', Timestamp('2007-01-31 00:00:00')) to ('ZION', Timestamp('2017-11-30 00:00:00'))\n",
      "Data columns (total 3 columns):\n",
      " #   Column  Non-Null Count  Dtype  \n",
      "---  ------  --------------  -----  \n",
      " 0   y       77176 non-null  float64\n",
      " 1   t-1     77176 non-null  float64\n",
      " 2   t-2     77176 non-null  float64\n",
      "dtypes: float64(3)\n",
      "memory usage: 2.1+ MB\n"
     ]
    }
   ],
   "source": [
    "X2 = data.loc[:, ['target', 'return_1m']]\n",
    "X2.columns = ['y', 't-1']\n",
    "X2['t-2'] = data.groupby(level='ticker').return_1m.shift()\n",
    "X2 = X2.dropna()\n",
    "X2.info()"
   ]
  },
  {
   "cell_type": "code",
   "execution_count": 8,
   "metadata": {
    "ExecuteTime": {
     "end_time": "2021-02-23T20:43:54.287515Z",
     "start_time": "2021-02-23T20:43:54.284859Z"
    }
   },
   "outputs": [],
   "source": [
    "y2 = X2.y\n",
    "X2 = X2.drop('y', axis=1)"
   ]
  },
  {
   "cell_type": "markdown",
   "metadata": {},
   "source": [
    "### Explore Data"
   ]
  },
  {
   "cell_type": "markdown",
   "metadata": {},
   "source": [
    "Note the small spike where we clipped the data."
   ]
  },
  {
   "cell_type": "code",
   "execution_count": 9,
   "metadata": {
    "ExecuteTime": {
     "end_time": "2021-02-23T20:43:54.739894Z",
     "start_time": "2021-02-23T20:43:54.288992Z"
    }
   },
   "outputs": [
    {
     "data": {
      "image/png": "[encoded data removed]",
      "text/plain": [
       "<Figure size 432x288 with 1 Axes>"
      ]
     },
     "metadata": {},
     "output_type": "display_data"
    }
   ],
   "source": [
    "sns.distplot(y2)\n",
    "sns.despine();"
   ]
  },
  {
   "cell_type": "markdown",
   "metadata": {},
   "source": [
    "### Configure Tree"
   ]
  },
  {
   "cell_type": "markdown",
   "metadata": {},
   "source": [
    "Let's start with a simplified example to facilitate visualization and only use two months of lagged returns to predict the following month, in the vein of an AR(2) model from the last chapter:"
   ]
  },
  {
   "cell_type": "code",
   "execution_count": 11,
   "metadata": {
    "ExecuteTime": {
     "end_time": "2021-02-23T20:44:20.711040Z",
     "start_time": "2021-02-23T20:44:20.708658Z"
    }
   },
   "outputs": [],
   "source": [
    "reg_tree_t2 = DecisionTreeRegressor(criterion='mse',\n",
    "                                    splitter='best',\n",
    "                                    max_depth=6,\n",
    "                                    min_samples_split=2,\n",
    "                                    min_samples_leaf=50,\n",
    "                                    min_weight_fraction_leaf=0.0,\n",
    "                                    max_features=None,\n",
    "                                    random_state=42,\n",
    "                                    max_leaf_nodes=None,\n",
    "                                    min_impurity_decrease=0.0,\n",
    "                                    min_impurity_split=None)"
   ]
  },
  {
   "cell_type": "markdown",
   "metadata": {},
   "source": [
    "### Train Decision Tree"
   ]
  },
  {
   "cell_type": "code",
   "execution_count": 12,
   "metadata": {
    "ExecuteTime": {
     "end_time": "2021-02-23T20:44:31.849448Z",
     "start_time": "2021-02-23T20:44:25.018530Z"
    }
   },
   "outputs": [
    {
     "name": "stdout",
     "output_type": "stream",
     "text": [
      "84.1 ms ± 1.15 ms per loop (mean ± std. dev. of 7 runs, 10 loops each)\n"
     ]
    }
   ],
   "source": [
    "%%timeit\n",
    "reg_tree_t2.fit(X=X2, y=y2)"
   ]
  },
  {
   "cell_type": "code",
   "execution_count": 13,
   "metadata": {
    "ExecuteTime": {
     "end_time": "2021-02-23T20:44:31.945098Z",
     "start_time": "2021-02-23T20:44:31.850661Z"
    }
   },
   "outputs": [
    {
     "data": {
      "text/plain": [
       "DecisionTreeRegressor(max_depth=6, min_samples_leaf=50, random_state=42)"
      ]
     },
     "execution_count": 13,
     "metadata": {},
     "output_type": "execute_result"
    }
   ],
   "source": [
    "reg_tree_t2.fit(X=X2, y=y2)"
   ]
  },
  {
   "cell_type": "markdown",
   "metadata": {},
   "source": [
    "### Visualize Tree"
   ]
  },
  {
   "cell_type": "markdown",
   "metadata": {},
   "source": [
    "You can visualize the tree using the graphviz library (see GitHub for installation instructions) because sklearn can output a description of the tree using the .dot language used by that library. \n",
    "\n",
    "You can configure the output to include feature and class labels and limit the number of levels to keep the chart readable, as follows:"
   ]
  },
  {
   "cell_type": "code",
   "execution_count": 14,
   "metadata": {
    "ExecuteTime": {
     "end_time": "2021-02-23T20:44:36.632784Z",
     "start_time": "2021-02-23T20:44:36.547525Z"
    }
   },
   "outputs": [
    {
     "data": {
      "image/svg+xml": [
       "<?xml version=\"1.0\" encoding=\"UTF-8\" standalone=\"no\"?>\n",
       "<!DOCTYPE svg PUBLIC \"-//W3C//DTD SVG 1.1//EN\"\n",
       " \"http://www.w3.org/Graphics/SVG/1.1/DTD/svg11.dtd\">\n",
       "<!-- Generated by graphviz version 2.46.1 (20210222.2046)\n",
       " -->\n",
       "<!-- Title: Tree Pages: 1 -->\n",
       "<svg width=\"589pt\" height=\"356pt\"\n",
       " viewBox=\"0.00 0.00 589.00 356.00\" xmlns=\"http://www.w3.org/2000/svg\" xmlns:xlink=\"http://www.w3.org/1999/xlink\">\n",
       "<g id=\"graph0\" class=\"graph\" transform=\"scale(1 1) rotate(0) translate(4 352)\">\n",
       "<title>Tree</title>\n",
       "<polygon fill=\"white\" stroke=\"transparent\" points=\"-4,4 -4,-352 585,-352 585,4 -4,4\"/>\n",
       "<!-- 0 -->\n",
       "<g id=\"node1\" class=\"node\">\n",
       "<title>0</title>\n",
       "<path fill=\"#f1b991\" stroke=\"black\" d=\"M333.5,-348C333.5,-348 236.5,-348 236.5,-348 230.5,-348 224.5,-342 224.5,-336 224.5,-336 224.5,-292 224.5,-292 224.5,-286 230.5,-280 236.5,-280 236.5,-280 333.5,-280 333.5,-280 339.5,-280 345.5,-286 345.5,-292 345.5,-292 345.5,-336 345.5,-336 345.5,-342 339.5,-348 333.5,-348\"/>\n",
       "<text text-anchor=\"start\" x=\"250\" y=\"-332.8\" font-family=\"helvetica\" font-size=\"14.00\">t&#45;2 ≤ &#45;0.267</text>\n",
       "<text text-anchor=\"start\" x=\"247\" y=\"-317.8\" font-family=\"helvetica\" font-size=\"14.00\">mse = 0.008</text>\n",
       "<text text-anchor=\"start\" x=\"232.5\" y=\"-302.8\" font-family=\"helvetica\" font-size=\"14.00\">samples = 77176</text>\n",
       "<text text-anchor=\"start\" x=\"247.5\" y=\"-287.8\" font-family=\"helvetica\" font-size=\"14.00\">value = 0.01</text>\n",
       "</g>\n",
       "<!-- 1 -->\n",
       "<g id=\"node2\" class=\"node\">\n",
       "<title>1</title>\n",
       "<path fill=\"#eca470\" stroke=\"black\" d=\"M260,-244C260,-244 178,-244 178,-244 172,-244 166,-238 166,-232 166,-232 166,-188 166,-188 166,-182 172,-176 178,-176 178,-176 260,-176 260,-176 266,-176 272,-182 272,-188 272,-188 272,-232 272,-232 272,-238 266,-244 260,-244\"/>\n",
       "<text text-anchor=\"start\" x=\"184\" y=\"-228.8\" font-family=\"helvetica\" font-size=\"14.00\">t&#45;1 ≤ &#45;0.137</text>\n",
       "<text text-anchor=\"start\" x=\"181\" y=\"-213.8\" font-family=\"helvetica\" font-size=\"14.00\">mse = 0.035</text>\n",
       "<text text-anchor=\"start\" x=\"174\" y=\"-198.8\" font-family=\"helvetica\" font-size=\"14.00\">samples = 722</text>\n",
       "<text text-anchor=\"start\" x=\"178\" y=\"-183.8\" font-family=\"helvetica\" font-size=\"14.00\">value = 0.037</text>\n",
       "</g>\n",
       "<!-- 0&#45;&gt;1 -->\n",
       "<g id=\"edge1\" class=\"edge\">\n",
       "<title>0&#45;&gt;1</title>\n",
       "<path fill=\"none\" stroke=\"black\" d=\"M263.57,-279.88C257.98,-271.24 251.88,-261.82 246.04,-252.79\"/>\n",
       "<polygon fill=\"black\" stroke=\"black\" points=\"248.92,-250.79 240.55,-244.3 243.04,-254.6 248.92,-250.79\"/>\n",
       "<text text-anchor=\"middle\" x=\"235.31\" y=\"-265.04\" font-family=\"helvetica\" font-size=\"14.00\">True</text>\n",
       "</g>\n",
       "<!-- 18 -->\n",
       "<g id=\"node9\" class=\"node\">\n",
       "<title>18</title>\n",
       "<path fill=\"#f1b992\" stroke=\"black\" d=\"M399.5,-244C399.5,-244 302.5,-244 302.5,-244 296.5,-244 290.5,-238 290.5,-232 290.5,-232 290.5,-188 290.5,-188 290.5,-182 296.5,-176 302.5,-176 302.5,-176 399.5,-176 399.5,-176 405.5,-176 411.5,-182 411.5,-188 411.5,-188 411.5,-232 411.5,-232 411.5,-238 405.5,-244 399.5,-244\"/>\n",
       "<text text-anchor=\"start\" x=\"316\" y=\"-228.8\" font-family=\"helvetica\" font-size=\"14.00\">t&#45;1 ≤ &#45;0.147</text>\n",
       "<text text-anchor=\"start\" x=\"313\" y=\"-213.8\" font-family=\"helvetica\" font-size=\"14.00\">mse = 0.008</text>\n",
       "<text text-anchor=\"start\" x=\"298.5\" y=\"-198.8\" font-family=\"helvetica\" font-size=\"14.00\">samples = 76454</text>\n",
       "<text text-anchor=\"start\" x=\"313.5\" y=\"-183.8\" font-family=\"helvetica\" font-size=\"14.00\">value = 0.01</text>\n",
       "</g>\n",
       "<!-- 0&#45;&gt;18 -->\n",
       "<g id=\"edge8\" class=\"edge\">\n",
       "<title>0&#45;&gt;18</title>\n",
       "<path fill=\"none\" stroke=\"black\" d=\"M306.43,-279.88C312.02,-271.24 318.12,-261.82 323.96,-252.79\"/>\n",
       "<polygon fill=\"black\" stroke=\"black\" points=\"326.96,-254.6 329.45,-244.3 321.08,-250.79 326.96,-254.6\"/>\n",
       "<text text-anchor=\"middle\" x=\"334.69\" y=\"-265.04\" font-family=\"helvetica\" font-size=\"14.00\">False</text>\n",
       "</g>\n",
       "<!-- 2 -->\n",
       "<g id=\"node3\" class=\"node\">\n",
       "<title>2</title>\n",
       "<path fill=\"#e99659\" stroke=\"black\" d=\"M137,-140C137,-140 55,-140 55,-140 49,-140 43,-134 43,-128 43,-128 43,-84 43,-84 43,-78 49,-72 55,-72 55,-72 137,-72 137,-72 143,-72 149,-78 149,-84 149,-84 149,-128 149,-128 149,-134 143,-140 137,-140\"/>\n",
       "<text text-anchor=\"start\" x=\"61\" y=\"-124.8\" font-family=\"helvetica\" font-size=\"14.00\">t&#45;1 ≤ &#45;0.228</text>\n",
       "<text text-anchor=\"start\" x=\"58\" y=\"-109.8\" font-family=\"helvetica\" font-size=\"14.00\">mse = 0.041</text>\n",
       "<text text-anchor=\"start\" x=\"51\" y=\"-94.8\" font-family=\"helvetica\" font-size=\"14.00\">samples = 217</text>\n",
       "<text text-anchor=\"start\" x=\"55\" y=\"-79.8\" font-family=\"helvetica\" font-size=\"14.00\">value = 0.057</text>\n",
       "</g>\n",
       "<!-- 1&#45;&gt;2 -->\n",
       "<g id=\"edge2\" class=\"edge\">\n",
       "<title>1&#45;&gt;2</title>\n",
       "<path fill=\"none\" stroke=\"black\" d=\"M179.07,-175.88C167.89,-166.62 155.64,-156.45 144.05,-146.85\"/>\n",
       "<polygon fill=\"black\" stroke=\"black\" points=\"146.09,-143.99 136.16,-140.3 141.62,-149.38 146.09,-143.99\"/>\n",
       "</g>\n",
       "<!-- 5 -->\n",
       "<g id=\"node6\" class=\"node\">\n",
       "<title>5</title>\n",
       "<path fill=\"#eeab7a\" stroke=\"black\" d=\"M261,-140C261,-140 179,-140 179,-140 173,-140 167,-134 167,-128 167,-128 167,-84 167,-84 167,-78 173,-72 179,-72 179,-72 261,-72 261,-72 267,-72 273,-78 273,-84 273,-84 273,-128 273,-128 273,-134 267,-140 261,-140\"/>\n",
       "<text text-anchor=\"start\" x=\"187\" y=\"-124.8\" font-family=\"helvetica\" font-size=\"14.00\">t&#45;1 ≤ 0.321</text>\n",
       "<text text-anchor=\"start\" x=\"182\" y=\"-109.8\" font-family=\"helvetica\" font-size=\"14.00\">mse = 0.032</text>\n",
       "<text text-anchor=\"start\" x=\"175\" y=\"-94.8\" font-family=\"helvetica\" font-size=\"14.00\">samples = 505</text>\n",
       "<text text-anchor=\"start\" x=\"179\" y=\"-79.8\" font-family=\"helvetica\" font-size=\"14.00\">value = 0.029</text>\n",
       "</g>\n",
       "<!-- 1&#45;&gt;5 -->\n",
       "<g id=\"edge5\" class=\"edge\">\n",
       "<title>1&#45;&gt;5</title>\n",
       "<path fill=\"none\" stroke=\"black\" d=\"M219.32,-175.88C219.4,-167.78 219.49,-158.98 219.57,-150.47\"/>\n",
       "<polygon fill=\"black\" stroke=\"black\" points=\"223.08,-150.33 219.67,-140.3 216.08,-150.26 223.08,-150.33\"/>\n",
       "</g>\n",
       "<!-- 3 -->\n",
       "<g id=\"node4\" class=\"node\">\n",
       "<title>3</title>\n",
       "<path fill=\"#c0c0c0\" stroke=\"black\" d=\"M42,-36C42,-36 12,-36 12,-36 6,-36 0,-30 0,-24 0,-24 0,-12 0,-12 0,-6 6,0 12,0 12,0 42,0 42,0 48,0 54,-6 54,-12 54,-12 54,-24 54,-24 54,-30 48,-36 42,-36\"/>\n",
       "<text text-anchor=\"middle\" x=\"27\" y=\"-14.3\" font-family=\"helvetica\" font-size=\"14.00\">(...)</text>\n",
       "</g>\n",
       "<!-- 2&#45;&gt;3 -->\n",
       "<g id=\"edge3\" class=\"edge\">\n",
       "<title>2&#45;&gt;3</title>\n",
       "<path fill=\"none\" stroke=\"black\" d=\"M69.52,-72C62.15,-62.81 54.26,-52.97 47.3,-44.3\"/>\n",
       "<polygon fill=\"black\" stroke=\"black\" points=\"49.95,-42.01 40.96,-36.4 44.49,-46.39 49.95,-42.01\"/>\n",
       "</g>\n",
       "<!-- 4 -->\n",
       "<g id=\"node5\" class=\"node\">\n",
       "<title>4</title>\n",
       "<path fill=\"#c0c0c0\" stroke=\"black\" d=\"M114,-36C114,-36 84,-36 84,-36 78,-36 72,-30 72,-24 72,-24 72,-12 72,-12 72,-6 78,0 84,0 84,0 114,0 114,0 120,0 126,-6 126,-12 126,-12 126,-24 126,-24 126,-30 120,-36 114,-36\"/>\n",
       "<text text-anchor=\"middle\" x=\"99\" y=\"-14.3\" font-family=\"helvetica\" font-size=\"14.00\">(...)</text>\n",
       "</g>\n",
       "<!-- 2&#45;&gt;4 -->\n",
       "<g id=\"edge4\" class=\"edge\">\n",
       "<title>2&#45;&gt;4</title>\n",
       "<path fill=\"none\" stroke=\"black\" d=\"M97.15,-72C97.45,-63.56 97.76,-54.59 98.04,-46.47\"/>\n",
       "<polygon fill=\"black\" stroke=\"black\" points=\"101.54,-46.52 98.39,-36.4 94.55,-46.28 101.54,-46.52\"/>\n",
       "</g>\n",
       "<!-- 6 -->\n",
       "<g id=\"node7\" class=\"node\">\n",
       "<title>6</title>\n",
       "<path fill=\"#c0c0c0\" stroke=\"black\" d=\"M199,-36C199,-36 169,-36 169,-36 163,-36 157,-30 157,-24 157,-24 157,-12 157,-12 157,-6 163,0 169,0 169,0 199,0 199,0 205,0 211,-6 211,-12 211,-12 211,-24 211,-24 211,-30 205,-36 199,-36\"/>\n",
       "<text text-anchor=\"middle\" x=\"184\" y=\"-14.3\" font-family=\"helvetica\" font-size=\"14.00\">(...)</text>\n",
       "</g>\n",
       "<!-- 5&#45;&gt;6 -->\n",
       "<g id=\"edge6\" class=\"edge\">\n",
       "<title>5&#45;&gt;6</title>\n",
       "<path fill=\"none\" stroke=\"black\" d=\"M206.18,-72C202.54,-63.28 198.64,-53.98 195.16,-45.65\"/>\n",
       "<polygon fill=\"black\" stroke=\"black\" points=\"198.38,-44.28 191.29,-36.4 191.92,-46.98 198.38,-44.28\"/>\n",
       "</g>\n",
       "<!-- 17 -->\n",
       "<g id=\"node8\" class=\"node\">\n",
       "<title>17</title>\n",
       "<path fill=\"#c0c0c0\" stroke=\"black\" d=\"M271,-36C271,-36 241,-36 241,-36 235,-36 229,-30 229,-24 229,-24 229,-12 229,-12 229,-6 235,0 241,0 241,0 271,0 271,0 277,0 283,-6 283,-12 283,-12 283,-24 283,-24 283,-30 277,-36 271,-36\"/>\n",
       "<text text-anchor=\"middle\" x=\"256\" y=\"-14.3\" font-family=\"helvetica\" font-size=\"14.00\">(...)</text>\n",
       "</g>\n",
       "<!-- 5&#45;&gt;17 -->\n",
       "<g id=\"edge7\" class=\"edge\">\n",
       "<title>5&#45;&gt;17</title>\n",
       "<path fill=\"none\" stroke=\"black\" d=\"M233.82,-72C237.46,-63.28 241.36,-53.98 244.84,-45.65\"/>\n",
       "<polygon fill=\"black\" stroke=\"black\" points=\"248.08,-46.98 248.71,-36.4 241.62,-44.28 248.08,-46.98\"/>\n",
       "</g>\n",
       "<!-- 19 -->\n",
       "<g id=\"node10\" class=\"node\">\n",
       "<title>19</title>\n",
       "<path fill=\"#f3c5a4\" stroke=\"black\" d=\"M394.5,-140C394.5,-140 305.5,-140 305.5,-140 299.5,-140 293.5,-134 293.5,-128 293.5,-128 293.5,-84 293.5,-84 293.5,-78 299.5,-72 305.5,-72 305.5,-72 394.5,-72 394.5,-72 400.5,-72 406.5,-78 406.5,-84 406.5,-84 406.5,-128 406.5,-128 406.5,-134 400.5,-140 394.5,-140\"/>\n",
       "<text text-anchor=\"start\" x=\"318.5\" y=\"-124.8\" font-family=\"helvetica\" font-size=\"14.00\">t&#45;2 ≤ &#45;0.17</text>\n",
       "<text text-anchor=\"start\" x=\"312\" y=\"-109.8\" font-family=\"helvetica\" font-size=\"14.00\">mse = 0.023</text>\n",
       "<text text-anchor=\"start\" x=\"301.5\" y=\"-94.8\" font-family=\"helvetica\" font-size=\"14.00\">samples = 3243</text>\n",
       "<text text-anchor=\"start\" x=\"306.5\" y=\"-79.8\" font-family=\"helvetica\" font-size=\"14.00\">value = &#45;0.005</text>\n",
       "</g>\n",
       "<!-- 18&#45;&gt;19 -->\n",
       "<g id=\"edge9\" class=\"edge\">\n",
       "<title>18&#45;&gt;19</title>\n",
       "<path fill=\"none\" stroke=\"black\" d=\"M350.68,-175.88C350.6,-167.78 350.51,-158.98 350.43,-150.47\"/>\n",
       "<polygon fill=\"black\" stroke=\"black\" points=\"353.92,-150.26 350.33,-140.3 346.92,-150.33 353.92,-150.26\"/>\n",
       "</g>\n",
       "<!-- 42 -->\n",
       "<g id=\"node13\" class=\"node\">\n",
       "<title>42</title>\n",
       "<path fill=\"#f1b991\" stroke=\"black\" d=\"M533.5,-140C533.5,-140 436.5,-140 436.5,-140 430.5,-140 424.5,-134 424.5,-128 424.5,-128 424.5,-84 424.5,-84 424.5,-78 430.5,-72 436.5,-72 436.5,-72 533.5,-72 533.5,-72 539.5,-72 545.5,-78 545.5,-84 545.5,-84 545.5,-128 545.5,-128 545.5,-134 539.5,-140 533.5,-140\"/>\n",
       "<text text-anchor=\"start\" x=\"452\" y=\"-124.8\" font-family=\"helvetica\" font-size=\"14.00\">t&#45;1 ≤ 0.118</text>\n",
       "<text text-anchor=\"start\" x=\"447\" y=\"-109.8\" font-family=\"helvetica\" font-size=\"14.00\">mse = 0.007</text>\n",
       "<text text-anchor=\"start\" x=\"432.5\" y=\"-94.8\" font-family=\"helvetica\" font-size=\"14.00\">samples = 73211</text>\n",
       "<text text-anchor=\"start\" x=\"447.5\" y=\"-79.8\" font-family=\"helvetica\" font-size=\"14.00\">value = 0.01</text>\n",
       "</g>\n",
       "<!-- 18&#45;&gt;42 -->\n",
       "<g id=\"edge12\" class=\"edge\">\n",
       "<title>18&#45;&gt;42</title>\n",
       "<path fill=\"none\" stroke=\"black\" d=\"M394.51,-175.88C406.79,-166.53 420.29,-156.26 433.02,-146.57\"/>\n",
       "<polygon fill=\"black\" stroke=\"black\" points=\"435.42,-149.14 441.25,-140.3 431.18,-143.57 435.42,-149.14\"/>\n",
       "</g>\n",
       "<!-- 20 -->\n",
       "<g id=\"node11\" class=\"node\">\n",
       "<title>20</title>\n",
       "<path fill=\"#c0c0c0\" stroke=\"black\" d=\"M350,-36C350,-36 320,-36 320,-36 314,-36 308,-30 308,-24 308,-24 308,-12 308,-12 308,-6 314,0 320,0 320,0 350,0 350,0 356,0 362,-6 362,-12 362,-12 362,-24 362,-24 362,-30 356,-36 350,-36\"/>\n",
       "<text text-anchor=\"middle\" x=\"335\" y=\"-14.3\" font-family=\"helvetica\" font-size=\"14.00\">(...)</text>\n",
       "</g>\n",
       "<!-- 19&#45;&gt;20 -->\n",
       "<g id=\"edge10\" class=\"edge\">\n",
       "<title>19&#45;&gt;20</title>\n",
       "<path fill=\"none\" stroke=\"black\" d=\"M344.24,-72C342.77,-63.56 341.21,-54.59 339.79,-46.47\"/>\n",
       "<polygon fill=\"black\" stroke=\"black\" points=\"343.2,-45.65 338.04,-36.4 336.31,-46.86 343.2,-45.65\"/>\n",
       "</g>\n",
       "<!-- 27 -->\n",
       "<g id=\"node12\" class=\"node\">\n",
       "<title>27</title>\n",
       "<path fill=\"#c0c0c0\" stroke=\"black\" d=\"M422,-36C422,-36 392,-36 392,-36 386,-36 380,-30 380,-24 380,-24 380,-12 380,-12 380,-6 386,0 392,0 392,0 422,0 422,0 428,0 434,-6 434,-12 434,-12 434,-24 434,-24 434,-30 428,-36 422,-36\"/>\n",
       "<text text-anchor=\"middle\" x=\"407\" y=\"-14.3\" font-family=\"helvetica\" font-size=\"14.00\">(...)</text>\n",
       "</g>\n",
       "<!-- 19&#45;&gt;27 -->\n",
       "<g id=\"edge11\" class=\"edge\">\n",
       "<title>19&#45;&gt;27</title>\n",
       "<path fill=\"none\" stroke=\"black\" d=\"M371.87,-72C377.84,-63 384.21,-53.38 389.87,-44.84\"/>\n",
       "<polygon fill=\"black\" stroke=\"black\" points=\"392.86,-46.67 395.47,-36.4 387.02,-42.81 392.86,-46.67\"/>\n",
       "</g>\n",
       "<!-- 43 -->\n",
       "<g id=\"node14\" class=\"node\">\n",
       "<title>43</title>\n",
       "<path fill=\"#c0c0c0\" stroke=\"black\" d=\"M497,-36C497,-36 467,-36 467,-36 461,-36 455,-30 455,-24 455,-24 455,-12 455,-12 455,-6 461,0 467,0 467,0 497,0 497,0 503,0 509,-6 509,-12 509,-12 509,-24 509,-24 509,-30 503,-36 497,-36\"/>\n",
       "<text text-anchor=\"middle\" x=\"482\" y=\"-14.3\" font-family=\"helvetica\" font-size=\"14.00\">(...)</text>\n",
       "</g>\n",
       "<!-- 42&#45;&gt;43 -->\n",
       "<g id=\"edge13\" class=\"edge\">\n",
       "<title>42&#45;&gt;43</title>\n",
       "<path fill=\"none\" stroke=\"black\" d=\"M483.85,-72C483.55,-63.56 483.24,-54.59 482.96,-46.47\"/>\n",
       "<polygon fill=\"black\" stroke=\"black\" points=\"486.45,-46.28 482.61,-36.4 479.46,-46.52 486.45,-46.28\"/>\n",
       "</g>\n",
       "<!-- 54 -->\n",
       "<g id=\"node15\" class=\"node\">\n",
       "<title>54</title>\n",
       "<path fill=\"#c0c0c0\" stroke=\"black\" d=\"M569,-36C569,-36 539,-36 539,-36 533,-36 527,-30 527,-24 527,-24 527,-12 527,-12 527,-6 533,0 539,0 539,0 569,0 569,0 575,0 581,-6 581,-12 581,-12 581,-24 581,-24 581,-30 575,-36 569,-36\"/>\n",
       "<text text-anchor=\"middle\" x=\"554\" y=\"-14.3\" font-family=\"helvetica\" font-size=\"14.00\">(...)</text>\n",
       "</g>\n",
       "<!-- 42&#45;&gt;54 -->\n",
       "<g id=\"edge14\" class=\"edge\">\n",
       "<title>42&#45;&gt;54</title>\n",
       "<path fill=\"none\" stroke=\"black\" d=\"M511.48,-72C518.85,-62.81 526.74,-52.97 533.7,-44.3\"/>\n",
       "<polygon fill=\"black\" stroke=\"black\" points=\"536.51,-46.39 540.04,-36.4 531.05,-42.01 536.51,-46.39\"/>\n",
       "</g>\n",
       "</g>\n",
       "</svg>\n"
      ],
      "text/plain": [
       "<graphviz.files.Source at 0x7f0e449a3fa0>"
      ]
     },
     "execution_count": 14,
     "metadata": {},
     "output_type": "execute_result"
    }
   ],
   "source": [
    "out_file = results_path / 'reg_tree_t2.dot'\n",
    "dot_data = export_graphviz(reg_tree_t2,\n",
    "                          out_file=out_file.as_posix(),\n",
    "                          feature_names=X2.columns,\n",
    "                          max_depth=2,\n",
    "                          filled=True,\n",
    "                          rounded=True,\n",
    "                          special_characters=True)\n",
    "if out_file is not None:\n",
    "    dot_data = Path(out_file).read_text()\n",
    "\n",
    "graphviz.Source(dot_data)"
   ]
  },
  {
   "cell_type": "markdown",
   "metadata": {},
   "source": [
    "### Compare with Linear Regression"
   ]
  },
  {
   "cell_type": "markdown",
   "metadata": {},
   "source": [
    "The OLS summary below and a visualization of the first two levels of the decision tree above reveal the striking differences between the models. The OLS model provides three parameters for the intercepts and the two features in line with the linear assumption.\n",
    "\n",
    "In contrast, the regression tree chart above displays for each node of the first two levels the feature and threshold used to split the data (note that features can be used repeatedly), as well as the current value of the mean-squared error (MSE), the number of samples, and predicted value based on these training samples."
   ]
  },
  {
   "cell_type": "markdown",
   "metadata": {},
   "source": [
    "The tree chart also highlights the uneven distribution of samples across the nodes as the numbers vary between 31,000 and 65,000 samples after only two splits."
   ]
  },
  {
   "cell_type": "markdown",
   "metadata": {},
   "source": [
    "#### statsmodels OLS"
   ]
  },
  {
   "cell_type": "code",
   "execution_count": 15,
   "metadata": {
    "ExecuteTime": {
     "end_time": "2021-02-23T20:44:36.657837Z",
     "start_time": "2021-02-23T20:44:36.634345Z"
    },
    "scrolled": true
   },
   "outputs": [],
   "source": [
    "ols_model = sm.OLS(endog=y2, exog=sm.add_constant(X2))"
   ]
  },
  {
   "cell_type": "code",
   "execution_count": 16,
   "metadata": {
    "ExecuteTime": {
     "end_time": "2021-02-23T20:44:42.098999Z",
     "start_time": "2021-02-23T20:44:36.659226Z"
    }
   },
   "outputs": [
    {
     "name": "stdout",
     "output_type": "stream",
     "text": [
      "65.7 µs ± 991 ns per loop (mean ± std. dev. of 7 runs, 10000 loops each)\n"
     ]
    }
   ],
   "source": [
    "%%timeit\n",
    "ols_model.fit()"
   ]
  },
  {
   "cell_type": "code",
   "execution_count": 17,
   "metadata": {
    "ExecuteTime": {
     "end_time": "2021-02-23T20:44:42.119597Z",
     "start_time": "2021-02-23T20:44:42.101575Z"
    }
   },
   "outputs": [
    {
     "name": "stdout",
     "output_type": "stream",
     "text": [
      "                            OLS Regression Results                            \n",
      "==============================================================================\n",
      "Dep. Variable:                      y   R-squared:                       0.001\n",
      "Model:                            OLS   Adj. R-squared:                  0.001\n",
      "Method:                 Least Squares   F-statistic:                     31.83\n",
      "Date:                Tue, 23 Feb 2021   Prob (F-statistic):           1.53e-14\n",
      "Time:                        14:44:42   Log-Likelihood:                 75823.\n",
      "No. Observations:               77176   AIC:                        -1.516e+05\n",
      "Df Residuals:                   77173   BIC:                        -1.516e+05\n",
      "Df Model:                           2                                         \n",
      "Covariance Type:            nonrobust                                         \n",
      "==============================================================================\n",
      "                 coef    std err          t      P>|t|      [0.025      0.975]\n",
      "------------------------------------------------------------------------------\n",
      "const          0.0100      0.000     30.232      0.000       0.009       0.011\n",
      "t-1            0.0227      0.004      6.322      0.000       0.016       0.030\n",
      "t-2           -0.0179      0.004     -5.003      0.000      -0.025      -0.011\n",
      "==============================================================================\n",
      "Omnibus:                     3351.598   Durbin-Watson:                   1.995\n",
      "Prob(Omnibus):                  0.000   Jarque-Bera (JB):            10867.041\n",
      "Skew:                           0.102   Prob(JB):                         0.00\n",
      "Kurtosis:                       4.827   Cond. No.                         11.1\n",
      "==============================================================================\n",
      "\n",
      "Notes:\n",
      "[1] Standard Errors assume that the covariance matrix of the errors is correctly specified.\n"
     ]
    }
   ],
   "source": [
    "result = ols_model.fit()\n",
    "print(result.summary())"
   ]
  },
  {
   "cell_type": "markdown",
   "metadata": {},
   "source": [
    "#### sklearn Linear Regression"
   ]
  },
  {
   "cell_type": "code",
   "execution_count": 18,
   "metadata": {
    "ExecuteTime": {
     "end_time": "2021-02-23T20:44:42.129476Z",
     "start_time": "2021-02-23T20:44:42.126572Z"
    }
   },
   "outputs": [],
   "source": [
    "lin_reg = LinearRegression()"
   ]
  },
  {
   "cell_type": "code",
   "execution_count": 19,
   "metadata": {
    "ExecuteTime": {
     "end_time": "2021-02-23T20:44:44.739051Z",
     "start_time": "2021-02-23T20:44:42.130778Z"
    }
   },
   "outputs": [
    {
     "name": "stdout",
     "output_type": "stream",
     "text": [
      "3.15 ms ± 32.6 µs per loop (mean ± std. dev. of 7 runs, 100 loops each)\n"
     ]
    }
   ],
   "source": [
    "%%timeit\n",
    "lin_reg.fit(X=X2,y=y2)"
   ]
  },
  {
   "cell_type": "code",
   "execution_count": 20,
   "metadata": {
    "ExecuteTime": {
     "end_time": "2021-02-23T20:44:44.747843Z",
     "start_time": "2021-02-23T20:44:44.740244Z"
    }
   },
   "outputs": [
    {
     "data": {
      "text/plain": [
       "LinearRegression()"
      ]
     },
     "execution_count": 20,
     "metadata": {},
     "output_type": "execute_result"
    }
   ],
   "source": [
    "lin_reg.fit(X=X2,y=y2)"
   ]
  },
  {
   "cell_type": "code",
   "execution_count": 21,
   "metadata": {
    "ExecuteTime": {
     "end_time": "2021-02-23T20:44:44.760244Z",
     "start_time": "2021-02-23T20:44:44.749473Z"
    }
   },
   "outputs": [
    {
     "data": {
      "text/plain": [
       "0.009971254720772654"
      ]
     },
     "execution_count": 21,
     "metadata": {},
     "output_type": "execute_result"
    }
   ],
   "source": [
    "lin_reg.intercept_"
   ]
  },
  {
   "cell_type": "code",
   "execution_count": 22,
   "metadata": {
    "ExecuteTime": {
     "end_time": "2021-02-23T20:44:44.769582Z",
     "start_time": "2021-02-23T20:44:44.761867Z"
    }
   },
   "outputs": [
    {
     "data": {
      "text/plain": [
       "array([ 0.02269243, -0.01794206])"
      ]
     },
     "execution_count": 22,
     "metadata": {},
     "output_type": "execute_result"
    }
   ],
   "source": [
    "lin_reg.coef_"
   ]
  },
  {
   "cell_type": "markdown",
   "metadata": {},
   "source": [
    "### Linear Regression vs Regression Tree Decision Surfaces"
   ]
  },
  {
   "cell_type": "markdown",
   "metadata": {},
   "source": [
    "To further illustrate the different assumptions about the functional form of the relationships between the input variables and the output, we can visualize current return predictions as a function of the feature space, that is, as a function of the range of values for the lagged returns. The following figure shows the current period return as a function of returns one and two periods ago for linear regression and the regression tree:\n",
    "\n",
    "The linear-regression model result on the right side underlines the linearity of the relationship between lagged and current returns, whereas the regression tree chart on the left illustrates the non-linear relationship encoded in the recursive partitioning of the feature space."
   ]
  },
  {
   "cell_type": "code",
   "execution_count": 23,
   "metadata": {
    "ExecuteTime": {
     "end_time": "2021-02-23T20:44:44.784087Z",
     "start_time": "2021-02-23T20:44:44.771644Z"
    }
   },
   "outputs": [],
   "source": [
    "t1, t2 = np.meshgrid(np.linspace(X2['t-1'].quantile(.01), X2['t-1'].quantile(.99), 100),\n",
    "                     np.linspace(X2['t-2'].quantile(.01), X2['t-2'].quantile(.99), 100))\n",
    "X_data = np.c_[t1.ravel(), t2.ravel()]"
   ]
  },
  {
   "cell_type": "code",
   "execution_count": 24,
   "metadata": {
    "ExecuteTime": {
     "end_time": "2021-02-23T20:44:45.329256Z",
     "start_time": "2021-02-23T20:44:44.785457Z"
    },
    "scrolled": false
   },
   "outputs": [
    {
     "data": {
      "image/png": "[encoded data removed]",
      "text/plain": [
       "<Figure size 864x360 with 4 Axes>"
      ]
     },
     "metadata": {},
     "output_type": "display_data"
    }
   ],
   "source": [
    "fig, axes = plt.subplots(ncols=2, figsize=(12,5))\n",
    "\n",
    "# Linear Regression\n",
    "ret1 = lin_reg.predict(X_data).reshape(t1.shape)\n",
    "surface1 = axes[0].contourf(t1, t2, ret1, cmap='Blues')\n",
    "plt.colorbar(mappable=surface1, ax=axes[0])\n",
    "\n",
    "# Regression Tree\n",
    "ret2 = reg_tree_t2.predict(X_data).reshape(t1.shape)\n",
    "surface2 = axes[1].contourf(t1, t2, ret2, cmap='Blues')\n",
    "plt.colorbar(mappable=surface2, ax=axes[1])\n",
    "\n",
    "# Format plots\n",
    "titles = ['Linear Regression', 'Regression Tree']\n",
    "for i, ax in enumerate(axes):\n",
    "    ax.set_xlabel('t-1')\n",
    "    ax.set_ylabel('t-2')\n",
    "    ax.set_title(titles[i])\n",
    "\n",
    "fig.suptitle('Decision Surfaces', fontsize=14)\n",
    "sns.despine()\n",
    "fig.tight_layout()\n",
    "fig.subplots_adjust(top=.9);"
   ]
  },
  {
   "cell_type": "markdown",
   "metadata": {},
   "source": [
    "## Simple Classification Tree with Time Series Data"
   ]
  },
  {
   "cell_type": "markdown",
   "metadata": {},
   "source": [
    "A classification tree works just like the regression version, except that categorical nature of the outcome requires a different approach to making predictions and measuring the loss. While a regression tree predicts the response for an observation assigned to a leaf node using the mean outcome of the associated training samples, a classification tree instead uses the mode, that is, the most common class among the training samples in the relevant region. A classification tree can also generate probabilistic predictions based on relative class frequencies."
   ]
  },
  {
   "cell_type": "markdown",
   "metadata": {},
   "source": [
    "### Loss Functions"
   ]
  },
  {
   "cell_type": "markdown",
   "metadata": {},
   "source": [
    "When growing a classification tree, we also use recursive binary splitting but, instead of evaluating the quality of a decision rule using the reduction of the mean-squared error, we can use the classification error rate, which is simply the fraction of the training samples in a given (leave) node that do not belong to the most common class."
   ]
  },
  {
   "cell_type": "markdown",
   "metadata": {},
   "source": [
    "However, the alternative measures, Gini Index or Cross-Entropy, are preferred because they are more sensitive to node purity than the classification error rate. Node purity refers to the extent of the preponderance of a single class in a node. A node that only contains samples with outcomes belonging to a single class is pure and imply successful classification for this particular region of the feature space. "
   ]
  },
  {
   "cell_type": "code",
   "execution_count": 25,
   "metadata": {
    "ExecuteTime": {
     "end_time": "2021-02-23T20:44:45.332993Z",
     "start_time": "2021-02-23T20:44:45.330552Z"
    }
   },
   "outputs": [],
   "source": [
    "def entropy(f):\n",
    "    return (-f*np.log2(f) - (1-f)*np.log2(1-f))/2"
   ]
  },
  {
   "cell_type": "code",
   "execution_count": 26,
   "metadata": {
    "ExecuteTime": {
     "end_time": "2021-02-23T20:44:45.343600Z",
     "start_time": "2021-02-23T20:44:45.334321Z"
    }
   },
   "outputs": [],
   "source": [
    "def gini(f):\n",
    "    return 2*f*(1-f)"
   ]
  },
  {
   "cell_type": "code",
   "execution_count": 27,
   "metadata": {
    "ExecuteTime": {
     "end_time": "2021-02-23T20:44:45.352034Z",
     "start_time": "2021-02-23T20:44:45.344650Z"
    }
   },
   "outputs": [],
   "source": [
    "def misclassification_rate(f):\n",
    "    return np.where(f<=.5, f, 1-f)"
   ]
  },
  {
   "cell_type": "markdown",
   "metadata": {},
   "source": [
    "Both the Gini Impurity and the Cross-Entropy measure take on smaller values when the class proportions approach zero or one, that is, when the child nodes become pure as a result of the split and are highest when the class proportions are even or 0.5 in the binary case. \n",
    "\n",
    "The chart below visualizes the values assumed by these two measures and the misclassification error rates across the [0, 1] interval of proportions."
   ]
  },
  {
   "cell_type": "code",
   "execution_count": 28,
   "metadata": {
    "ExecuteTime": {
     "end_time": "2021-02-23T20:44:45.715722Z",
     "start_time": "2021-02-23T20:44:45.353037Z"
    }
   },
   "outputs": [
    {
     "data": {
      "image/png": "[encoded data removed]",
      "text/plain": [
       "<Figure size 432x288 with 1 Axes>"
      ]
     },
     "metadata": {},
     "output_type": "display_data"
    }
   ],
   "source": [
    "x = np.linspace(0, 1, 10000)\n",
    "(pd.DataFrame({'Gini': gini(x), \n",
    "              'Entropy': entropy(x),\n",
    "             'Misclassification Rate': misclassification_rate(x)}, index=x)\n",
    " .plot(title='Classification Loss Functions', lw=2, style=['-', '--', ':']))\n",
    "sns.despine()\n",
    "plt.tight_layout();"
   ]
  },
  {
   "cell_type": "markdown",
   "metadata": {},
   "source": [
    "#### Compare computation time"
   ]
  },
  {
   "cell_type": "markdown",
   "metadata": {},
   "source": [
    "Gini is often preferred over entropy because it computes faster:"
   ]
  },
  {
   "cell_type": "code",
   "execution_count": 29,
   "metadata": {
    "ExecuteTime": {
     "end_time": "2021-02-23T20:44:58.318128Z",
     "start_time": "2021-02-23T20:44:45.717285Z"
    }
   },
   "outputs": [
    {
     "name": "stdout",
     "output_type": "stream",
     "text": [
      "15.5 µs ± 258 ns per loop (mean ± std. dev. of 7 runs, 100000 loops each)\n"
     ]
    }
   ],
   "source": [
    "%%timeit\n",
    "misclassification_rate(x)"
   ]
  },
  {
   "cell_type": "code",
   "execution_count": 30,
   "metadata": {
    "ExecuteTime": {
     "end_time": "2021-02-23T20:45:08.355097Z",
     "start_time": "2021-02-23T20:44:58.319378Z"
    }
   },
   "outputs": [
    {
     "name": "stdout",
     "output_type": "stream",
     "text": [
      "12.4 µs ± 1.07 µs per loop (mean ± std. dev. of 7 runs, 100000 loops each)\n"
     ]
    }
   ],
   "source": [
    "%%timeit\n",
    "gini(x)"
   ]
  },
  {
   "cell_type": "code",
   "execution_count": 31,
   "metadata": {
    "ExecuteTime": {
     "end_time": "2021-02-23T20:45:24.613654Z",
     "start_time": "2021-02-23T20:45:08.356242Z"
    }
   },
   "outputs": [
    {
     "name": "stdout",
     "output_type": "stream",
     "text": [
      "201 µs ± 8.88 µs per loop (mean ± std. dev. of 7 runs, 10000 loops each)\n"
     ]
    }
   ],
   "source": [
    "%%timeit\n",
    "entropy(x)"
   ]
  },
  {
   "cell_type": "markdown",
   "metadata": {},
   "source": [
    "### Configure Tree"
   ]
  },
  {
   "cell_type": "code",
   "execution_count": 33,
   "metadata": {
    "ExecuteTime": {
     "end_time": "2021-02-23T20:45:30.601886Z",
     "start_time": "2021-02-23T20:45:30.599761Z"
    }
   },
   "outputs": [],
   "source": [
    "clf_tree_t2 = DecisionTreeClassifier(criterion='gini',\n",
    "                                     splitter='best',\n",
    "                                     max_depth=5,\n",
    "                                     min_samples_split=1000,\n",
    "                                     min_samples_leaf=1,\n",
    "                                     min_weight_fraction_leaf=0.0,\n",
    "                                     max_features=None,\n",
    "                                     random_state=42,\n",
    "                                     max_leaf_nodes=None,\n",
    "                                     min_impurity_decrease=0.0,\n",
    "                                     min_impurity_split=None,\n",
    "                                     class_weight=None)"
   ]
  },
  {
   "cell_type": "markdown",
   "metadata": {},
   "source": [
    "### Train Tree"
   ]
  },
  {
   "cell_type": "code",
   "execution_count": 34,
   "metadata": {
    "ExecuteTime": {
     "end_time": "2021-02-23T20:45:34.710389Z",
     "start_time": "2021-02-23T20:45:34.705030Z"
    }
   },
   "outputs": [
    {
     "data": {
      "text/plain": [
       "1    43399\n",
       "0    33777\n",
       "Name: y, dtype: int64"
      ]
     },
     "execution_count": 34,
     "metadata": {},
     "output_type": "execute_result"
    }
   ],
   "source": [
    "y_binary = (y2>0).astype(int)\n",
    "y_binary.value_counts()"
   ]
  },
  {
   "cell_type": "code",
   "execution_count": 35,
   "metadata": {
    "ExecuteTime": {
     "end_time": "2021-02-23T20:45:41.829601Z",
     "start_time": "2021-02-23T20:45:34.711512Z"
    },
    "scrolled": true
   },
   "outputs": [
    {
     "name": "stdout",
     "output_type": "stream",
     "text": [
      "87.4 ms ± 288 µs per loop (mean ± std. dev. of 7 runs, 10 loops each)\n"
     ]
    }
   ],
   "source": [
    "%%timeit\n",
    "clf_tree_t2.fit(X=X2, y=y_binary)"
   ]
  },
  {
   "cell_type": "code",
   "execution_count": 36,
   "metadata": {
    "ExecuteTime": {
     "end_time": "2021-02-23T20:45:41.930213Z",
     "start_time": "2021-02-23T20:45:41.831078Z"
    }
   },
   "outputs": [
    {
     "data": {
      "text/plain": [
       "DecisionTreeClassifier(max_depth=5, min_samples_split=1000, random_state=42)"
      ]
     },
     "execution_count": 36,
     "metadata": {},
     "output_type": "execute_result"
    }
   ],
   "source": [
    "clf_tree_t2.fit(X=X2, y=y_binary)"
   ]
  },
  {
   "cell_type": "markdown",
   "metadata": {},
   "source": [
    "### Visualize Tree"
   ]
  },
  {
   "cell_type": "code",
   "execution_count": 37,
   "metadata": {
    "ExecuteTime": {
     "end_time": "2021-02-23T20:45:41.973677Z",
     "start_time": "2021-02-23T20:45:41.931606Z"
    }
   },
   "outputs": [
    {
     "data": {
      "image/svg+xml": [
       "<?xml version=\"1.0\" encoding=\"UTF-8\" standalone=\"no\"?>\n",
       "<!DOCTYPE svg PUBLIC \"-//W3C//DTD SVG 1.1//EN\"\n",
       " \"http://www.w3.org/Graphics/SVG/1.1/DTD/svg11.dtd\">\n",
       "<!-- Generated by graphviz version 2.46.1 (20210222.2046)\n",
       " -->\n",
       "<!-- Title: Tree Pages: 1 -->\n",
       "<svg width=\"624pt\" height=\"401pt\"\n",
       " viewBox=\"0.00 0.00 623.50 401.00\" xmlns=\"http://www.w3.org/2000/svg\" xmlns:xlink=\"http://www.w3.org/1999/xlink\">\n",
       "<g id=\"graph0\" class=\"graph\" transform=\"scale(1 1) rotate(0) translate(4 397)\">\n",
       "<title>Tree</title>\n",
       "<polygon fill=\"white\" stroke=\"transparent\" points=\"-4,4 -4,-397 619.5,-397 619.5,4 -4,4\"/>\n",
       "<!-- 0 -->\n",
       "<g id=\"node1\" class=\"node\">\n",
       "<title>0</title>\n",
       "<path fill=\"#d3e9f9\" stroke=\"black\" d=\"M362,-393C362,-393 231,-393 231,-393 225,-393 219,-387 219,-381 219,-381 219,-322 219,-322 219,-316 225,-310 231,-310 231,-310 362,-310 362,-310 368,-310 374,-316 374,-322 374,-322 374,-381 374,-381 374,-387 368,-393 362,-393\"/>\n",
       "<text text-anchor=\"start\" x=\"261.5\" y=\"-377.8\" font-family=\"helvetica\" font-size=\"14.00\">t&#45;1 ≤ &#45;0.146</text>\n",
       "<text text-anchor=\"start\" x=\"261\" y=\"-362.8\" font-family=\"helvetica\" font-size=\"14.00\">gini = 0.492</text>\n",
       "<text text-anchor=\"start\" x=\"244\" y=\"-347.8\" font-family=\"helvetica\" font-size=\"14.00\">samples = 77176</text>\n",
       "<text text-anchor=\"start\" x=\"227\" y=\"-332.8\" font-family=\"helvetica\" font-size=\"14.00\">value = [33777, 43399]</text>\n",
       "<text text-anchor=\"start\" x=\"264.5\" y=\"-317.8\" font-family=\"helvetica\" font-size=\"14.00\">class = Up</text>\n",
       "</g>\n",
       "<!-- 1 -->\n",
       "<g id=\"node2\" class=\"node\">\n",
       "<title>1</title>\n",
       "<path fill=\"#fef9f5\" stroke=\"black\" d=\"M271.5,-274C271.5,-274 155.5,-274 155.5,-274 149.5,-274 143.5,-268 143.5,-262 143.5,-262 143.5,-203 143.5,-203 143.5,-197 149.5,-191 155.5,-191 155.5,-191 271.5,-191 271.5,-191 277.5,-191 283.5,-197 283.5,-203 283.5,-203 283.5,-262 283.5,-262 283.5,-268 277.5,-274 271.5,-274\"/>\n",
       "<text text-anchor=\"start\" x=\"178.5\" y=\"-258.8\" font-family=\"helvetica\" font-size=\"14.00\">t&#45;2 ≤ &#45;0.179</text>\n",
       "<text text-anchor=\"start\" x=\"185.5\" y=\"-243.8\" font-family=\"helvetica\" font-size=\"14.00\">gini = 0.5</text>\n",
       "<text text-anchor=\"start\" x=\"165\" y=\"-228.8\" font-family=\"helvetica\" font-size=\"14.00\">samples = 3459</text>\n",
       "<text text-anchor=\"start\" x=\"151.5\" y=\"-213.8\" font-family=\"helvetica\" font-size=\"14.00\">value = [1775, 1684]</text>\n",
       "<text text-anchor=\"start\" x=\"172.5\" y=\"-198.8\" font-family=\"helvetica\" font-size=\"14.00\">class = Down</text>\n",
       "</g>\n",
       "<!-- 0&#45;&gt;1 -->\n",
       "<g id=\"edge1\" class=\"edge\">\n",
       "<title>0&#45;&gt;1</title>\n",
       "<path fill=\"none\" stroke=\"black\" d=\"M267.7,-309.91C261.39,-301.01 254.65,-291.51 248.14,-282.33\"/>\n",
       "<polygon fill=\"black\" stroke=\"black\" points=\"250.89,-280.15 242.25,-274.02 245.18,-284.2 250.89,-280.15\"/>\n",
       "<text text-anchor=\"middle\" x=\"238.06\" y=\"-294.97\" font-family=\"helvetica\" font-size=\"14.00\">True</text>\n",
       "</g>\n",
       "<!-- 10 -->\n",
       "<g id=\"node7\" class=\"node\">\n",
       "<title>10</title>\n",
       "<path fill=\"#d1e8f9\" stroke=\"black\" d=\"M445,-274C445,-274 314,-274 314,-274 308,-274 302,-268 302,-262 302,-262 302,-203 302,-203 302,-197 308,-191 314,-191 314,-191 445,-191 445,-191 451,-191 457,-197 457,-203 457,-203 457,-262 457,-262 457,-268 451,-274 445,-274\"/>\n",
       "<text text-anchor=\"start\" x=\"346.5\" y=\"-258.8\" font-family=\"helvetica\" font-size=\"14.00\">t&#45;2 ≤ 0.181</text>\n",
       "<text text-anchor=\"start\" x=\"344\" y=\"-243.8\" font-family=\"helvetica\" font-size=\"14.00\">gini = 0.491</text>\n",
       "<text text-anchor=\"start\" x=\"327\" y=\"-228.8\" font-family=\"helvetica\" font-size=\"14.00\">samples = 73717</text>\n",
       "<text text-anchor=\"start\" x=\"310\" y=\"-213.8\" font-family=\"helvetica\" font-size=\"14.00\">value = [32002, 41715]</text>\n",
       "<text text-anchor=\"start\" x=\"347.5\" y=\"-198.8\" font-family=\"helvetica\" font-size=\"14.00\">class = Up</text>\n",
       "</g>\n",
       "<!-- 0&#45;&gt;10 -->\n",
       "<g id=\"edge6\" class=\"edge\">\n",
       "<title>0&#45;&gt;10</title>\n",
       "<path fill=\"none\" stroke=\"black\" d=\"M325.3,-309.91C331.61,-301.01 338.35,-291.51 344.86,-282.33\"/>\n",
       "<polygon fill=\"black\" stroke=\"black\" points=\"347.82,-284.2 350.75,-274.02 342.11,-280.15 347.82,-284.2\"/>\n",
       "<text text-anchor=\"middle\" x=\"354.94\" y=\"-294.97\" font-family=\"helvetica\" font-size=\"14.00\">False</text>\n",
       "</g>\n",
       "<!-- 2 -->\n",
       "<g id=\"node3\" class=\"node\">\n",
       "<title>2</title>\n",
       "<path fill=\"#d6ebfa\" stroke=\"black\" d=\"M113,-147.5C113,-147.5 12,-147.5 12,-147.5 6,-147.5 0,-141.5 0,-135.5 0,-135.5 0,-91.5 0,-91.5 0,-85.5 6,-79.5 12,-79.5 12,-79.5 113,-79.5 113,-79.5 119,-79.5 125,-85.5 125,-91.5 125,-91.5 125,-135.5 125,-135.5 125,-141.5 119,-147.5 113,-147.5\"/>\n",
       "<text text-anchor=\"start\" x=\"27\" y=\"-132.3\" font-family=\"helvetica\" font-size=\"14.00\">gini = 0.493</text>\n",
       "<text text-anchor=\"start\" x=\"17.5\" y=\"-117.3\" font-family=\"helvetica\" font-size=\"14.00\">samples = 471</text>\n",
       "<text text-anchor=\"start\" x=\"8\" y=\"-102.3\" font-family=\"helvetica\" font-size=\"14.00\">value = [208, 263]</text>\n",
       "<text text-anchor=\"start\" x=\"30.5\" y=\"-87.3\" font-family=\"helvetica\" font-size=\"14.00\">class = Up</text>\n",
       "</g>\n",
       "<!-- 1&#45;&gt;2 -->\n",
       "<g id=\"edge2\" class=\"edge\">\n",
       "<title>1&#45;&gt;2</title>\n",
       "<path fill=\"none\" stroke=\"black\" d=\"M161.11,-190.91C145.73,-178.99 128.93,-165.98 113.63,-154.12\"/>\n",
       "<polygon fill=\"black\" stroke=\"black\" points=\"115.35,-151.03 105.31,-147.67 111.07,-156.56 115.35,-151.03\"/>\n",
       "</g>\n",
       "<!-- 3 -->\n",
       "<g id=\"node4\" class=\"node\">\n",
       "<title>3</title>\n",
       "<path fill=\"#fdf3ed\" stroke=\"black\" d=\"M271.5,-155C271.5,-155 155.5,-155 155.5,-155 149.5,-155 143.5,-149 143.5,-143 143.5,-143 143.5,-84 143.5,-84 143.5,-78 149.5,-72 155.5,-72 155.5,-72 271.5,-72 271.5,-72 277.5,-72 283.5,-78 283.5,-84 283.5,-84 283.5,-143 283.5,-143 283.5,-149 277.5,-155 271.5,-155\"/>\n",
       "<text text-anchor=\"start\" x=\"178.5\" y=\"-139.8\" font-family=\"helvetica\" font-size=\"14.00\">t&#45;1 ≤ &#45;0.262</text>\n",
       "<text text-anchor=\"start\" x=\"178\" y=\"-124.8\" font-family=\"helvetica\" font-size=\"14.00\">gini = 0.499</text>\n",
       "<text text-anchor=\"start\" x=\"165\" y=\"-109.8\" font-family=\"helvetica\" font-size=\"14.00\">samples = 2988</text>\n",
       "<text text-anchor=\"start\" x=\"151.5\" y=\"-94.8\" font-family=\"helvetica\" font-size=\"14.00\">value = [1567, 1421]</text>\n",
       "<text text-anchor=\"start\" x=\"172.5\" y=\"-79.8\" font-family=\"helvetica\" font-size=\"14.00\">class = Down</text>\n",
       "</g>\n",
       "<!-- 1&#45;&gt;3 -->\n",
       "<g id=\"edge3\" class=\"edge\">\n",
       "<title>1&#45;&gt;3</title>\n",
       "<path fill=\"none\" stroke=\"black\" d=\"M213.5,-190.91C213.5,-182.65 213.5,-173.86 213.5,-165.3\"/>\n",
       "<polygon fill=\"black\" stroke=\"black\" points=\"217,-165.02 213.5,-155.02 210,-165.02 217,-165.02\"/>\n",
       "</g>\n",
       "<!-- 4 -->\n",
       "<g id=\"node5\" class=\"node\">\n",
       "<title>4</title>\n",
       "<path fill=\"#c0c0c0\" stroke=\"black\" d=\"M197.5,-36C197.5,-36 167.5,-36 167.5,-36 161.5,-36 155.5,-30 155.5,-24 155.5,-24 155.5,-12 155.5,-12 155.5,-6 161.5,0 167.5,0 167.5,0 197.5,0 197.5,0 203.5,0 209.5,-6 209.5,-12 209.5,-12 209.5,-24 209.5,-24 209.5,-30 203.5,-36 197.5,-36\"/>\n",
       "<text text-anchor=\"middle\" x=\"182.5\" y=\"-14.3\" font-family=\"helvetica\" font-size=\"14.00\">(...)</text>\n",
       "</g>\n",
       "<!-- 3&#45;&gt;4 -->\n",
       "<g id=\"edge4\" class=\"edge\">\n",
       "<title>3&#45;&gt;4</title>\n",
       "<path fill=\"none\" stroke=\"black\" d=\"M199.99,-71.76C197.1,-63.04 194.12,-54.04 191.45,-45.99\"/>\n",
       "<polygon fill=\"black\" stroke=\"black\" points=\"194.74,-44.8 188.27,-36.41 188.1,-47 194.74,-44.8\"/>\n",
       "</g>\n",
       "<!-- 5 -->\n",
       "<g id=\"node6\" class=\"node\">\n",
       "<title>5</title>\n",
       "<path fill=\"#c0c0c0\" stroke=\"black\" d=\"M269.5,-36C269.5,-36 239.5,-36 239.5,-36 233.5,-36 227.5,-30 227.5,-24 227.5,-24 227.5,-12 227.5,-12 227.5,-6 233.5,0 239.5,0 239.5,0 269.5,0 269.5,0 275.5,0 281.5,-6 281.5,-12 281.5,-12 281.5,-24 281.5,-24 281.5,-30 275.5,-36 269.5,-36\"/>\n",
       "<text text-anchor=\"middle\" x=\"254.5\" y=\"-14.3\" font-family=\"helvetica\" font-size=\"14.00\">(...)</text>\n",
       "</g>\n",
       "<!-- 3&#45;&gt;5 -->\n",
       "<g id=\"edge5\" class=\"edge\">\n",
       "<title>3&#45;&gt;5</title>\n",
       "<path fill=\"none\" stroke=\"black\" d=\"M231.36,-71.76C235.23,-62.94 239.22,-53.84 242.78,-45.72\"/>\n",
       "<polygon fill=\"black\" stroke=\"black\" points=\"246.06,-46.97 246.87,-36.41 239.65,-44.16 246.06,-46.97\"/>\n",
       "</g>\n",
       "<!-- 11 -->\n",
       "<g id=\"node8\" class=\"node\">\n",
       "<title>11</title>\n",
       "<path fill=\"#d0e8f9\" stroke=\"black\" d=\"M445,-155C445,-155 314,-155 314,-155 308,-155 302,-149 302,-143 302,-143 302,-84 302,-84 302,-78 308,-72 314,-72 314,-72 445,-72 445,-72 451,-72 457,-78 457,-84 457,-84 457,-143 457,-143 457,-149 451,-155 445,-155\"/>\n",
       "<text text-anchor=\"start\" x=\"344.5\" y=\"-139.8\" font-family=\"helvetica\" font-size=\"14.00\">t&#45;2 ≤ &#45;0.148</text>\n",
       "<text text-anchor=\"start\" x=\"344\" y=\"-124.8\" font-family=\"helvetica\" font-size=\"14.00\">gini = 0.491</text>\n",
       "<text text-anchor=\"start\" x=\"327\" y=\"-109.8\" font-family=\"helvetica\" font-size=\"14.00\">samples = 71340</text>\n",
       "<text text-anchor=\"start\" x=\"310\" y=\"-94.8\" font-family=\"helvetica\" font-size=\"14.00\">value = [30833, 40507]</text>\n",
       "<text text-anchor=\"start\" x=\"347.5\" y=\"-79.8\" font-family=\"helvetica\" font-size=\"14.00\">class = Up</text>\n",
       "</g>\n",
       "<!-- 10&#45;&gt;11 -->\n",
       "<g id=\"edge7\" class=\"edge\">\n",
       "<title>10&#45;&gt;11</title>\n",
       "<path fill=\"none\" stroke=\"black\" d=\"M379.5,-190.91C379.5,-182.65 379.5,-173.86 379.5,-165.3\"/>\n",
       "<polygon fill=\"black\" stroke=\"black\" points=\"383,-165.02 379.5,-155.02 376,-165.02 383,-165.02\"/>\n",
       "</g>\n",
       "<!-- 24 -->\n",
       "<g id=\"node11\" class=\"node\">\n",
       "<title>24</title>\n",
       "<path fill=\"#f9fcfe\" stroke=\"black\" d=\"M603.5,-155C603.5,-155 487.5,-155 487.5,-155 481.5,-155 475.5,-149 475.5,-143 475.5,-143 475.5,-84 475.5,-84 475.5,-78 481.5,-72 487.5,-72 487.5,-72 603.5,-72 603.5,-72 609.5,-72 615.5,-78 615.5,-84 615.5,-84 615.5,-143 615.5,-143 615.5,-149 609.5,-155 603.5,-155\"/>\n",
       "<text text-anchor=\"start\" x=\"512.5\" y=\"-139.8\" font-family=\"helvetica\" font-size=\"14.00\">t&#45;1 ≤ 0.144</text>\n",
       "<text text-anchor=\"start\" x=\"517.5\" y=\"-124.8\" font-family=\"helvetica\" font-size=\"14.00\">gini = 0.5</text>\n",
       "<text text-anchor=\"start\" x=\"497\" y=\"-109.8\" font-family=\"helvetica\" font-size=\"14.00\">samples = 2377</text>\n",
       "<text text-anchor=\"start\" x=\"483.5\" y=\"-94.8\" font-family=\"helvetica\" font-size=\"14.00\">value = [1169, 1208]</text>\n",
       "<text text-anchor=\"start\" x=\"513.5\" y=\"-79.8\" font-family=\"helvetica\" font-size=\"14.00\">class = Up</text>\n",
       "</g>\n",
       "<!-- 10&#45;&gt;24 -->\n",
       "<g id=\"edge10\" class=\"edge\">\n",
       "<title>10&#45;&gt;24</title>\n",
       "<path fill=\"none\" stroke=\"black\" d=\"M437.09,-190.91C450.87,-181.2 465.68,-170.76 479.79,-160.81\"/>\n",
       "<polygon fill=\"black\" stroke=\"black\" points=\"481.85,-163.64 488.01,-155.02 477.82,-157.92 481.85,-163.64\"/>\n",
       "</g>\n",
       "<!-- 12 -->\n",
       "<g id=\"node9\" class=\"node\">\n",
       "<title>12</title>\n",
       "<path fill=\"#c0c0c0\" stroke=\"black\" d=\"M363.5,-36C363.5,-36 333.5,-36 333.5,-36 327.5,-36 321.5,-30 321.5,-24 321.5,-24 321.5,-12 321.5,-12 321.5,-6 327.5,0 333.5,0 333.5,0 363.5,0 363.5,0 369.5,0 375.5,-6 375.5,-12 375.5,-12 375.5,-24 375.5,-24 375.5,-30 369.5,-36 363.5,-36\"/>\n",
       "<text text-anchor=\"middle\" x=\"348.5\" y=\"-14.3\" font-family=\"helvetica\" font-size=\"14.00\">(...)</text>\n",
       "</g>\n",
       "<!-- 11&#45;&gt;12 -->\n",
       "<g id=\"edge8\" class=\"edge\">\n",
       "<title>11&#45;&gt;12</title>\n",
       "<path fill=\"none\" stroke=\"black\" d=\"M365.99,-71.76C363.1,-63.04 360.12,-54.04 357.45,-45.99\"/>\n",
       "<polygon fill=\"black\" stroke=\"black\" points=\"360.74,-44.8 354.27,-36.41 354.1,-47 360.74,-44.8\"/>\n",
       "</g>\n",
       "<!-- 17 -->\n",
       "<g id=\"node10\" class=\"node\">\n",
       "<title>17</title>\n",
       "<path fill=\"#c0c0c0\" stroke=\"black\" d=\"M435.5,-36C435.5,-36 405.5,-36 405.5,-36 399.5,-36 393.5,-30 393.5,-24 393.5,-24 393.5,-12 393.5,-12 393.5,-6 399.5,0 405.5,0 405.5,0 435.5,0 435.5,0 441.5,0 447.5,-6 447.5,-12 447.5,-12 447.5,-24 447.5,-24 447.5,-30 441.5,-36 435.5,-36\"/>\n",
       "<text text-anchor=\"middle\" x=\"420.5\" y=\"-14.3\" font-family=\"helvetica\" font-size=\"14.00\">(...)</text>\n",
       "</g>\n",
       "<!-- 11&#45;&gt;17 -->\n",
       "<g id=\"edge9\" class=\"edge\">\n",
       "<title>11&#45;&gt;17</title>\n",
       "<path fill=\"none\" stroke=\"black\" d=\"M397.36,-71.76C401.23,-62.94 405.22,-53.84 408.78,-45.72\"/>\n",
       "<polygon fill=\"black\" stroke=\"black\" points=\"412.06,-46.97 412.87,-36.41 405.65,-44.16 412.06,-46.97\"/>\n",
       "</g>\n",
       "<!-- 25 -->\n",
       "<g id=\"node12\" class=\"node\">\n",
       "<title>25</title>\n",
       "<path fill=\"#c0c0c0\" stroke=\"black\" d=\"M518.5,-36C518.5,-36 488.5,-36 488.5,-36 482.5,-36 476.5,-30 476.5,-24 476.5,-24 476.5,-12 476.5,-12 476.5,-6 482.5,0 488.5,0 488.5,0 518.5,0 518.5,0 524.5,0 530.5,-6 530.5,-12 530.5,-12 530.5,-24 530.5,-24 530.5,-30 524.5,-36 518.5,-36\"/>\n",
       "<text text-anchor=\"middle\" x=\"503.5\" y=\"-14.3\" font-family=\"helvetica\" font-size=\"14.00\">(...)</text>\n",
       "</g>\n",
       "<!-- 24&#45;&gt;25 -->\n",
       "<g id=\"edge11\" class=\"edge\">\n",
       "<title>24&#45;&gt;25</title>\n",
       "<path fill=\"none\" stroke=\"black\" d=\"M527.2,-71.76C523.24,-62.94 519.15,-53.84 515.5,-45.72\"/>\n",
       "<polygon fill=\"black\" stroke=\"black\" points=\"518.61,-44.09 511.32,-36.41 512.22,-46.96 518.61,-44.09\"/>\n",
       "</g>\n",
       "<!-- 30 -->\n",
       "<g id=\"node13\" class=\"node\">\n",
       "<title>30</title>\n",
       "<path fill=\"#c0c0c0\" stroke=\"black\" d=\"M590.5,-36C590.5,-36 560.5,-36 560.5,-36 554.5,-36 548.5,-30 548.5,-24 548.5,-24 548.5,-12 548.5,-12 548.5,-6 554.5,0 560.5,0 560.5,0 590.5,0 590.5,0 596.5,0 602.5,-6 602.5,-12 602.5,-12 602.5,-24 602.5,-24 602.5,-30 596.5,-36 590.5,-36\"/>\n",
       "<text text-anchor=\"middle\" x=\"575.5\" y=\"-14.3\" font-family=\"helvetica\" font-size=\"14.00\">(...)</text>\n",
       "</g>\n",
       "<!-- 24&#45;&gt;30 -->\n",
       "<g id=\"edge12\" class=\"edge\">\n",
       "<title>24&#45;&gt;30</title>\n",
       "<path fill=\"none\" stroke=\"black\" d=\"M558.57,-71.76C561.37,-63.04 564.26,-54.04 566.84,-45.99\"/>\n",
       "<polygon fill=\"black\" stroke=\"black\" points=\"570.19,-47 569.92,-36.41 563.53,-44.86 570.19,-47\"/>\n",
       "</g>\n",
       "</g>\n",
       "</svg>\n"
      ],
      "text/plain": [
       "<graphviz.files.Source at 0x7f0e44c84280>"
      ]
     },
     "execution_count": 37,
     "metadata": {},
     "output_type": "execute_result"
    }
   ],
   "source": [
    "out_file = results_path / 'clf_tree_t2.dot'\n",
    "dot_data = export_graphviz(clf_tree_t2,\n",
    "                           out_file=out_file.as_posix(),\n",
    "                           feature_names=X2.columns,\n",
    "                           class_names=['Down', 'Up'],\n",
    "                           max_depth=2,\n",
    "                           filled=True,\n",
    "                           rounded=True,\n",
    "                           special_characters=True)\n",
    "if out_file is not None:\n",
    "    dot_data = Path(out_file).read_text()\n",
    "\n",
    "graphviz.Source(dot_data)"
   ]
  },
  {
   "cell_type": "markdown",
   "metadata": {},
   "source": [
    "### Compare with Logistic Regression"
   ]
  },
  {
   "cell_type": "markdown",
   "metadata": {},
   "source": [
    "#### Statsmodels"
   ]
  },
  {
   "cell_type": "code",
   "execution_count": 38,
   "metadata": {
    "ExecuteTime": {
     "end_time": "2021-02-23T20:45:42.001877Z",
     "start_time": "2021-02-23T20:45:41.975201Z"
    }
   },
   "outputs": [],
   "source": [
    "log_reg_sm = sm.Logit(endog=y_binary, exog=sm.add_constant(X2))"
   ]
  },
  {
   "cell_type": "code",
   "execution_count": 39,
   "metadata": {
    "ExecuteTime": {
     "end_time": "2021-02-23T20:45:45.363767Z",
     "start_time": "2021-02-23T20:45:42.003352Z"
    },
    "scrolled": false
   },
   "outputs": [
    {
     "name": "stdout",
     "output_type": "stream",
     "text": [
      "39.5 ms ± 7.51 ms per loop (mean ± std. dev. of 7 runs, 10 loops each)\n"
     ]
    }
   ],
   "source": [
    "%%timeit\n",
    "log_reg_sm.fit(disp=False)"
   ]
  },
  {
   "cell_type": "code",
   "execution_count": 40,
   "metadata": {
    "ExecuteTime": {
     "end_time": "2021-02-23T20:45:45.469990Z",
     "start_time": "2021-02-23T20:45:45.368204Z"
    }
   },
   "outputs": [
    {
     "name": "stdout",
     "output_type": "stream",
     "text": [
      "Optimization terminated successfully.\n",
      "         Current function value: 0.685278\n",
      "         Iterations 4\n"
     ]
    }
   ],
   "source": [
    "log_result = log_reg_sm.fit()"
   ]
  },
  {
   "cell_type": "code",
   "execution_count": 41,
   "metadata": {
    "ExecuteTime": {
     "end_time": "2021-02-23T20:45:45.799553Z",
     "start_time": "2021-02-23T20:45:45.475550Z"
    }
   },
   "outputs": [
    {
     "name": "stdout",
     "output_type": "stream",
     "text": [
      "                           Logit Regression Results                           \n",
      "==============================================================================\n",
      "Dep. Variable:                      y   No. Observations:                77176\n",
      "Model:                          Logit   Df Residuals:                    77173\n",
      "Method:                           MLE   Df Model:                            2\n",
      "Date:                Tue, 23 Feb 2021   Pseudo R-squ.:               0.0001127\n",
      "Time:                        14:45:45   Log-Likelihood:                -52887.\n",
      "converged:                       True   LL-Null:                       -52893.\n",
      "Covariance Type:            nonrobust   LLR p-value:                  0.002584\n",
      "==============================================================================\n",
      "                 coef    std err          z      P>|z|      [0.025      0.975]\n",
      "------------------------------------------------------------------------------\n",
      "const          0.2485      0.007     33.873      0.000       0.234       0.263\n",
      "t-1            0.2712      0.080      3.394      0.001       0.115       0.428\n",
      "t-2           -0.0560      0.080     -0.701      0.483      -0.212       0.100\n",
      "==============================================================================\n"
     ]
    }
   ],
   "source": [
    "print(log_result.summary())"
   ]
  },
  {
   "cell_type": "markdown",
   "metadata": {},
   "source": [
    "#### sklearn"
   ]
  },
  {
   "cell_type": "code",
   "execution_count": 42,
   "metadata": {
    "ExecuteTime": {
     "end_time": "2021-02-23T20:45:45.805041Z",
     "start_time": "2021-02-23T20:45:45.801581Z"
    }
   },
   "outputs": [],
   "source": [
    "log_reg_sk = LogisticRegression()"
   ]
  },
  {
   "cell_type": "code",
   "execution_count": 43,
   "metadata": {
    "ExecuteTime": {
     "end_time": "2021-02-23T20:45:47.196183Z",
     "start_time": "2021-02-23T20:45:45.807822Z"
    }
   },
   "outputs": [
    {
     "name": "stdout",
     "output_type": "stream",
     "text": [
      "168 ms ± 34.1 ms per loop (mean ± std. dev. of 7 runs, 1 loop each)\n"
     ]
    }
   ],
   "source": [
    "%%timeit\n",
    "log_reg_sk.fit(X=X2, y=y_binary)"
   ]
  },
  {
   "cell_type": "code",
   "execution_count": 44,
   "metadata": {
    "ExecuteTime": {
     "end_time": "2021-02-23T20:45:47.353868Z",
     "start_time": "2021-02-23T20:45:47.201157Z"
    }
   },
   "outputs": [
    {
     "data": {
      "text/plain": [
       "LogisticRegression()"
      ]
     },
     "execution_count": 44,
     "metadata": {},
     "output_type": "execute_result"
    }
   ],
   "source": [
    "log_reg_sk.fit(X=X2, y=y_binary)"
   ]
  },
  {
   "cell_type": "code",
   "execution_count": 45,
   "metadata": {
    "ExecuteTime": {
     "end_time": "2021-02-23T20:45:47.363655Z",
     "start_time": "2021-02-23T20:45:47.357532Z"
    }
   },
   "outputs": [
    {
     "data": {
      "text/plain": [
       "array([[ 0.26951533, -0.05558622]])"
      ]
     },
     "execution_count": 45,
     "metadata": {},
     "output_type": "execute_result"
    }
   ],
   "source": [
    "log_reg_sk.coef_"
   ]
  },
  {
   "cell_type": "markdown",
   "metadata": {},
   "source": [
    "### Decision Surfaces: Classifier Tree vs. Logistic Regression "
   ]
  },
  {
   "cell_type": "code",
   "execution_count": 46,
   "metadata": {
    "ExecuteTime": {
     "end_time": "2021-02-23T20:45:47.837021Z",
     "start_time": "2021-02-23T20:45:47.366525Z"
    }
   },
   "outputs": [
    {
     "data": {
      "image/png": "[encoded data removed]",
      "text/plain": [
       "<Figure size 864x360 with 4 Axes>"
      ]
     },
     "metadata": {},
     "output_type": "display_data"
    }
   ],
   "source": [
    "fig, axes = plt.subplots(ncols=2, figsize=(12,5))\n",
    "\n",
    "# Linear Regression\n",
    "ret1 = log_reg_sk.predict_proba(X_data)[:, 1].reshape(t1.shape)\n",
    "surface1 = axes[0].contourf(t1, t2, ret1, cmap='Blues')\n",
    "plt.colorbar(mappable=surface1, ax=axes[0])\n",
    "\n",
    "# Regression Tree\n",
    "ret2 = clf_tree_t2.predict_proba(X_data)[:, 1].reshape(t1.shape)\n",
    "surface2 = axes[1].contourf(t1, t2, ret2, cmap='Blues')\n",
    "plt.colorbar(mappable=surface2, ax=axes[1])\n",
    "\n",
    "# Format plots\n",
    "titles = ['Logistic Regression', 'Classification Tree']\n",
    "for i, ax in enumerate(axes):\n",
    "    ax.set_xlabel('t-1')\n",
    "    ax.set_ylabel('t-2')\n",
    "    ax.set_title(titles[i])\n",
    "\n",
    "fig.suptitle('Decision Surfaces', fontsize=20)\n",
    "sns.despine()\n",
    "fig.tight_layout()\n",
    "fig.subplots_adjust(top=.9);"
   ]
  },
  {
   "cell_type": "markdown",
   "metadata": {},
   "source": [
    "## Regression Tree with all Features"
   ]
  },
  {
   "cell_type": "markdown",
   "metadata": {},
   "source": [
    "We now train, visualize, and evaluate a regression tree with up to 5 consecutive splits using 80% of the samples for training to predict the remaining 20%.\n",
    "\n",
    "We are taking a shortcut here to simplify the illustration and use the built-in train_test_split, which does not protect against lookahead bias, as our custom iterator. The tree configuration implies up to $2^5=32$ leaf nodes that, on average in the balanced case, would contain over 4,300 of the training samples."
   ]
  },
  {
   "cell_type": "markdown",
   "metadata": {},
   "source": [
    "### Train-Test Split"
   ]
  },
  {
   "cell_type": "code",
   "execution_count": 47,
   "metadata": {
    "ExecuteTime": {
     "end_time": "2021-02-23T20:45:47.870099Z",
     "start_time": "2021-02-23T20:45:47.838177Z"
    }
   },
   "outputs": [],
   "source": [
    "X = pd.get_dummies(data.drop('target', axis=1))\n",
    "y = data.target"
   ]
  },
  {
   "cell_type": "code",
   "execution_count": 48,
   "metadata": {
    "ExecuteTime": {
     "end_time": "2021-02-23T20:45:47.890335Z",
     "start_time": "2021-02-23T20:45:47.871360Z"
    }
   },
   "outputs": [],
   "source": [
    "X_train, X_test, y_train, y_test = train_test_split(X, y, test_size=0.2, random_state=42)"
   ]
  },
  {
   "cell_type": "markdown",
   "metadata": {},
   "source": [
    "### Configure Tree"
   ]
  },
  {
   "cell_type": "markdown",
   "metadata": {},
   "source": [
    "The output after training the model displays all the DecisionTreeClassifier parameters that we will address in more detail in the next section when we discuss parameter-tuning. "
   ]
  },
  {
   "cell_type": "code",
   "execution_count": 50,
   "metadata": {
    "ExecuteTime": {
     "end_time": "2021-02-23T20:46:29.219164Z",
     "start_time": "2021-02-23T20:46:29.215419Z"
    }
   },
   "outputs": [],
   "source": [
    "regression_tree = DecisionTreeRegressor(criterion='mse',\n",
    "                                        splitter='best',\n",
    "                                        max_depth=5,\n",
    "                                        min_samples_split=2,\n",
    "                                        min_samples_leaf=1,\n",
    "                                        min_weight_fraction_leaf=0.0,\n",
    "                                        max_features=None,\n",
    "                                        random_state=42,\n",
    "                                        max_leaf_nodes=None,\n",
    "                                        min_impurity_decrease=0.0,\n",
    "                                        min_impurity_split=None)"
   ]
  },
  {
   "cell_type": "markdown",
   "metadata": {},
   "source": [
    "### Train Model"
   ]
  },
  {
   "cell_type": "code",
   "execution_count": 51,
   "metadata": {
    "ExecuteTime": {
     "end_time": "2021-02-23T20:46:33.824365Z",
     "start_time": "2021-02-23T20:46:33.118454Z"
    },
    "scrolled": false
   },
   "outputs": [
    {
     "data": {
      "text/plain": [
       "DecisionTreeRegressor(max_depth=5, random_state=42)"
      ]
     },
     "execution_count": 51,
     "metadata": {},
     "output_type": "execute_result"
    }
   ],
   "source": [
    "regression_tree.fit(X=X_train, y=y_train)"
   ]
  },
  {
   "cell_type": "markdown",
   "metadata": {},
   "source": [
    "### Visualize Tree"
   ]
  },
  {
   "cell_type": "markdown",
   "metadata": {},
   "source": [
    "The result shows that the model uses a variety of different features and indicates the split rules for both continuous and categorical (dummy) variables. "
   ]
  },
  {
   "cell_type": "code",
   "execution_count": 52,
   "metadata": {
    "ExecuteTime": {
     "end_time": "2021-02-23T20:46:33.873954Z",
     "start_time": "2021-02-23T20:46:33.826031Z"
    }
   },
   "outputs": [
    {
     "data": {
      "image/svg+xml": [
       "<?xml version=\"1.0\" encoding=\"UTF-8\" standalone=\"no\"?>\n",
       "<!DOCTYPE svg PUBLIC \"-//W3C//DTD SVG 1.1//EN\"\n",
       " \"http://www.w3.org/Graphics/SVG/1.1/DTD/svg11.dtd\">\n",
       "<!-- Generated by graphviz version 2.46.1 (20210222.2046)\n",
       " -->\n",
       "<!-- Title: Tree Pages: 1 -->\n",
       "<svg width=\"1142pt\" height=\"460pt\"\n",
       " viewBox=\"0.00 0.00 1142.00 460.00\" xmlns=\"http://www.w3.org/2000/svg\" xmlns:xlink=\"http://www.w3.org/1999/xlink\">\n",
       "<g id=\"graph0\" class=\"graph\" transform=\"scale(1 1) rotate(0) translate(4 456)\">\n",
       "<title>Tree</title>\n",
       "<polygon fill=\"white\" stroke=\"transparent\" points=\"-4,4 -4,-456 1138,-456 1138,4 -4,4\"/>\n",
       "<!-- 0 -->\n",
       "<g id=\"node1\" class=\"node\">\n",
       "<title>0</title>\n",
       "<path fill=\"#f6d3b9\" stroke=\"black\" d=\"M589.5,-452C589.5,-452 492.5,-452 492.5,-452 486.5,-452 480.5,-446 480.5,-440 480.5,-440 480.5,-396 480.5,-396 480.5,-390 486.5,-384 492.5,-384 492.5,-384 589.5,-384 589.5,-384 595.5,-384 601.5,-390 601.5,-396 601.5,-396 601.5,-440 601.5,-440 601.5,-446 595.5,-452 589.5,-452\"/>\n",
       "<text text-anchor=\"start\" x=\"504.5\" y=\"-436.8\" font-family=\"helvetica\" font-size=\"14.00\">month ≤ 3.5</text>\n",
       "<text text-anchor=\"start\" x=\"503\" y=\"-421.8\" font-family=\"helvetica\" font-size=\"14.00\">mse = 0.008</text>\n",
       "<text text-anchor=\"start\" x=\"488.5\" y=\"-406.8\" font-family=\"helvetica\" font-size=\"14.00\">samples = 62230</text>\n",
       "<text text-anchor=\"start\" x=\"503.5\" y=\"-391.8\" font-family=\"helvetica\" font-size=\"14.00\">value = 0.01</text>\n",
       "</g>\n",
       "<!-- 1 -->\n",
       "<g id=\"node2\" class=\"node\">\n",
       "<title>1</title>\n",
       "<path fill=\"#f5d0b4\" stroke=\"black\" d=\"M481.5,-348C481.5,-348 350.5,-348 350.5,-348 344.5,-348 338.5,-342 338.5,-336 338.5,-336 338.5,-292 338.5,-292 338.5,-286 344.5,-280 350.5,-280 350.5,-280 481.5,-280 481.5,-280 487.5,-280 493.5,-286 493.5,-292 493.5,-292 493.5,-336 493.5,-336 493.5,-342 487.5,-348 481.5,-348\"/>\n",
       "<text text-anchor=\"start\" x=\"346.5\" y=\"-332.8\" font-family=\"helvetica\" font-size=\"14.00\">momentum_6 ≤ &#45;0.225</text>\n",
       "<text text-anchor=\"start\" x=\"378\" y=\"-317.8\" font-family=\"helvetica\" font-size=\"14.00\">mse = 0.008</text>\n",
       "<text text-anchor=\"start\" x=\"363.5\" y=\"-302.8\" font-family=\"helvetica\" font-size=\"14.00\">samples = 15600</text>\n",
       "<text text-anchor=\"start\" x=\"375\" y=\"-287.8\" font-family=\"helvetica\" font-size=\"14.00\">value = 0.021</text>\n",
       "</g>\n",
       "<!-- 0&#45;&gt;1 -->\n",
       "<g id=\"edge1\" class=\"edge\">\n",
       "<title>0&#45;&gt;1</title>\n",
       "<path fill=\"none\" stroke=\"black\" d=\"M500.42,-383.88C489.06,-374.62 476.61,-364.45 464.83,-354.85\"/>\n",
       "<polygon fill=\"black\" stroke=\"black\" points=\"466.77,-351.91 456.81,-348.3 462.34,-357.33 466.77,-351.91\"/>\n",
       "<text text-anchor=\"middle\" x=\"459.33\" y=\"-369.47\" font-family=\"helvetica\" font-size=\"14.00\">True</text>\n",
       "</g>\n",
       "<!-- 32 -->\n",
       "<g id=\"node17\" class=\"node\">\n",
       "<title>32</title>\n",
       "<path fill=\"#f6d4bb\" stroke=\"black\" d=\"M738.5,-348C738.5,-348 641.5,-348 641.5,-348 635.5,-348 629.5,-342 629.5,-336 629.5,-336 629.5,-292 629.5,-292 629.5,-286 635.5,-280 641.5,-280 641.5,-280 738.5,-280 738.5,-280 744.5,-280 750.5,-286 750.5,-292 750.5,-292 750.5,-336 750.5,-336 750.5,-342 744.5,-348 738.5,-348\"/>\n",
       "<text text-anchor=\"start\" x=\"657\" y=\"-332.8\" font-family=\"helvetica\" font-size=\"14.00\">atr ≤ 0.029</text>\n",
       "<text text-anchor=\"start\" x=\"652\" y=\"-317.8\" font-family=\"helvetica\" font-size=\"14.00\">mse = 0.008</text>\n",
       "<text text-anchor=\"start\" x=\"637.5\" y=\"-302.8\" font-family=\"helvetica\" font-size=\"14.00\">samples = 46630</text>\n",
       "<text text-anchor=\"start\" x=\"649\" y=\"-287.8\" font-family=\"helvetica\" font-size=\"14.00\">value = 0.006</text>\n",
       "</g>\n",
       "<!-- 0&#45;&gt;32 -->\n",
       "<g id=\"edge16\" class=\"edge\">\n",
       "<title>0&#45;&gt;32</title>\n",
       "<path fill=\"none\" stroke=\"black\" d=\"M589.38,-383.88C603.37,-374.3 618.77,-363.76 633.23,-353.86\"/>\n",
       "<polygon fill=\"black\" stroke=\"black\" points=\"635.34,-356.66 641.61,-348.12 631.38,-350.89 635.34,-356.66\"/>\n",
       "<text text-anchor=\"middle\" x=\"637.01\" y=\"-369\" font-family=\"helvetica\" font-size=\"14.00\">False</text>\n",
       "</g>\n",
       "<!-- 2 -->\n",
       "<g id=\"node3\" class=\"node\">\n",
       "<title>2</title>\n",
       "<path fill=\"#f0b68c\" stroke=\"black\" d=\"M269,-244C269,-244 187,-244 187,-244 181,-244 175,-238 175,-232 175,-232 175,-188 175,-188 175,-182 181,-176 187,-176 187,-176 269,-176 269,-176 275,-176 281,-182 281,-188 281,-188 281,-232 281,-232 281,-238 275,-244 269,-244\"/>\n",
       "<text text-anchor=\"start\" x=\"191.5\" y=\"-228.8\" font-family=\"helvetica\" font-size=\"14.00\">month ≤ 2.5</text>\n",
       "<text text-anchor=\"start\" x=\"190\" y=\"-213.8\" font-family=\"helvetica\" font-size=\"14.00\">mse = 0.028</text>\n",
       "<text text-anchor=\"start\" x=\"183\" y=\"-198.8\" font-family=\"helvetica\" font-size=\"14.00\">samples = 259</text>\n",
       "<text text-anchor=\"start\" x=\"187\" y=\"-183.8\" font-family=\"helvetica\" font-size=\"14.00\">value = 0.112</text>\n",
       "</g>\n",
       "<!-- 1&#45;&gt;2 -->\n",
       "<g id=\"edge2\" class=\"edge\">\n",
       "<title>1&#45;&gt;2</title>\n",
       "<path fill=\"none\" stroke=\"black\" d=\"M354.96,-279.88C334.14,-268.58 310.84,-255.94 289.94,-244.61\"/>\n",
       "<polygon fill=\"black\" stroke=\"black\" points=\"291.6,-241.53 281.14,-239.83 288.27,-247.68 291.6,-241.53\"/>\n",
       "</g>\n",
       "<!-- 17 -->\n",
       "<g id=\"node10\" class=\"node\">\n",
       "<title>17</title>\n",
       "<path fill=\"#f5d0b5\" stroke=\"black\" d=\"M474,-244C474,-244 358,-244 358,-244 352,-244 346,-238 346,-232 346,-232 346,-188 346,-188 346,-182 352,-176 358,-176 358,-176 474,-176 474,-176 480,-176 486,-182 486,-188 486,-188 486,-232 486,-232 486,-238 480,-244 474,-244\"/>\n",
       "<text text-anchor=\"start\" x=\"354\" y=\"-228.8\" font-family=\"helvetica\" font-size=\"14.00\">return_12m ≤ &#45;0.045</text>\n",
       "<text text-anchor=\"start\" x=\"378\" y=\"-213.8\" font-family=\"helvetica\" font-size=\"14.00\">mse = 0.007</text>\n",
       "<text text-anchor=\"start\" x=\"363.5\" y=\"-198.8\" font-family=\"helvetica\" font-size=\"14.00\">samples = 15341</text>\n",
       "<text text-anchor=\"start\" x=\"378.5\" y=\"-183.8\" font-family=\"helvetica\" font-size=\"14.00\">value = 0.02</text>\n",
       "</g>\n",
       "<!-- 1&#45;&gt;17 -->\n",
       "<g id=\"edge9\" class=\"edge\">\n",
       "<title>1&#45;&gt;17</title>\n",
       "<path fill=\"none\" stroke=\"black\" d=\"M416,-279.88C416,-271.78 416,-262.98 416,-254.47\"/>\n",
       "<polygon fill=\"black\" stroke=\"black\" points=\"419.5,-254.3 416,-244.3 412.5,-254.3 419.5,-254.3\"/>\n",
       "</g>\n",
       "<!-- 3 -->\n",
       "<g id=\"node4\" class=\"node\">\n",
       "<title>3</title>\n",
       "<path fill=\"#f5ccb0\" stroke=\"black\" d=\"M140,-140C140,-140 58,-140 58,-140 52,-140 46,-134 46,-128 46,-128 46,-84 46,-84 46,-78 52,-72 58,-72 58,-72 140,-72 140,-72 146,-72 152,-78 152,-84 152,-84 152,-128 152,-128 152,-134 146,-140 140,-140\"/>\n",
       "<text text-anchor=\"start\" x=\"66\" y=\"-124.8\" font-family=\"helvetica\" font-size=\"14.00\">atr ≤ 0.666</text>\n",
       "<text text-anchor=\"start\" x=\"61\" y=\"-109.8\" font-family=\"helvetica\" font-size=\"14.00\">mse = 0.022</text>\n",
       "<text text-anchor=\"start\" x=\"54\" y=\"-94.8\" font-family=\"helvetica\" font-size=\"14.00\">samples = 130</text>\n",
       "<text text-anchor=\"start\" x=\"58\" y=\"-79.8\" font-family=\"helvetica\" font-size=\"14.00\">value = 0.032</text>\n",
       "</g>\n",
       "<!-- 2&#45;&gt;3 -->\n",
       "<g id=\"edge3\" class=\"edge\">\n",
       "<title>2&#45;&gt;3</title>\n",
       "<path fill=\"none\" stroke=\"black\" d=\"M186.12,-175.88C174.29,-166.53 161.3,-156.26 149.04,-146.57\"/>\n",
       "<polygon fill=\"black\" stroke=\"black\" points=\"151.13,-143.76 141.11,-140.3 146.79,-149.25 151.13,-143.76\"/>\n",
       "</g>\n",
       "<!-- 10 -->\n",
       "<g id=\"node7\" class=\"node\">\n",
       "<title>10</title>\n",
       "<path fill=\"#eb9f68\" stroke=\"black\" d=\"M269,-140C269,-140 187,-140 187,-140 181,-140 175,-134 175,-128 175,-128 175,-84 175,-84 175,-78 181,-72 187,-72 187,-72 269,-72 269,-72 275,-72 281,-78 281,-84 281,-84 281,-128 281,-128 281,-134 275,-140 269,-140\"/>\n",
       "<text text-anchor=\"start\" x=\"186\" y=\"-124.8\" font-family=\"helvetica\" font-size=\"14.00\">year ≤ 2002.5</text>\n",
       "<text text-anchor=\"start\" x=\"193.5\" y=\"-109.8\" font-family=\"helvetica\" font-size=\"14.00\">mse = 0.02</text>\n",
       "<text text-anchor=\"start\" x=\"183\" y=\"-94.8\" font-family=\"helvetica\" font-size=\"14.00\">samples = 129</text>\n",
       "<text text-anchor=\"start\" x=\"187\" y=\"-79.8\" font-family=\"helvetica\" font-size=\"14.00\">value = 0.193</text>\n",
       "</g>\n",
       "<!-- 2&#45;&gt;10 -->\n",
       "<g id=\"edge6\" class=\"edge\">\n",
       "<title>2&#45;&gt;10</title>\n",
       "<path fill=\"none\" stroke=\"black\" d=\"M228,-175.88C228,-167.78 228,-158.98 228,-150.47\"/>\n",
       "<polygon fill=\"black\" stroke=\"black\" points=\"231.5,-150.3 228,-140.3 224.5,-150.3 231.5,-150.3\"/>\n",
       "</g>\n",
       "<!-- 4 -->\n",
       "<g id=\"node5\" class=\"node\">\n",
       "<title>4</title>\n",
       "<path fill=\"#c0c0c0\" stroke=\"black\" d=\"M42,-36C42,-36 12,-36 12,-36 6,-36 0,-30 0,-24 0,-24 0,-12 0,-12 0,-6 6,0 12,0 12,0 42,0 42,0 48,0 54,-6 54,-12 54,-12 54,-24 54,-24 54,-30 48,-36 42,-36\"/>\n",
       "<text text-anchor=\"middle\" x=\"27\" y=\"-14.3\" font-family=\"helvetica\" font-size=\"14.00\">(...)</text>\n",
       "</g>\n",
       "<!-- 3&#45;&gt;4 -->\n",
       "<g id=\"edge4\" class=\"edge\">\n",
       "<title>3&#45;&gt;4</title>\n",
       "<path fill=\"none\" stroke=\"black\" d=\"M71.37,-72C63.68,-62.81 55.44,-52.97 48.18,-44.3\"/>\n",
       "<polygon fill=\"black\" stroke=\"black\" points=\"50.67,-41.82 41.57,-36.4 45.31,-46.32 50.67,-41.82\"/>\n",
       "</g>\n",
       "<!-- 7 -->\n",
       "<g id=\"node6\" class=\"node\">\n",
       "<title>7</title>\n",
       "<path fill=\"#c0c0c0\" stroke=\"black\" d=\"M114,-36C114,-36 84,-36 84,-36 78,-36 72,-30 72,-24 72,-24 72,-12 72,-12 72,-6 78,0 84,0 84,0 114,0 114,0 120,0 126,-6 126,-12 126,-12 126,-24 126,-24 126,-30 120,-36 114,-36\"/>\n",
       "<text text-anchor=\"middle\" x=\"99\" y=\"-14.3\" font-family=\"helvetica\" font-size=\"14.00\">(...)</text>\n",
       "</g>\n",
       "<!-- 3&#45;&gt;7 -->\n",
       "<g id=\"edge5\" class=\"edge\">\n",
       "<title>3&#45;&gt;7</title>\n",
       "<path fill=\"none\" stroke=\"black\" d=\"M99,-72C99,-63.56 99,-54.59 99,-46.47\"/>\n",
       "<polygon fill=\"black\" stroke=\"black\" points=\"102.5,-46.4 99,-36.4 95.5,-46.4 102.5,-46.4\"/>\n",
       "</g>\n",
       "<!-- 11 -->\n",
       "<g id=\"node8\" class=\"node\">\n",
       "<title>11</title>\n",
       "<path fill=\"#c0c0c0\" stroke=\"black\" d=\"M186,-36C186,-36 156,-36 156,-36 150,-36 144,-30 144,-24 144,-24 144,-12 144,-12 144,-6 150,0 156,0 156,0 186,0 186,0 192,0 198,-6 198,-12 198,-12 198,-24 198,-24 198,-30 192,-36 186,-36\"/>\n",
       "<text text-anchor=\"middle\" x=\"171\" y=\"-14.3\" font-family=\"helvetica\" font-size=\"14.00\">(...)</text>\n",
       "</g>\n",
       "<!-- 10&#45;&gt;11 -->\n",
       "<g id=\"edge7\" class=\"edge\">\n",
       "<title>10&#45;&gt;11</title>\n",
       "<path fill=\"none\" stroke=\"black\" d=\"M206.13,-72C200.16,-63 193.79,-53.38 188.13,-44.84\"/>\n",
       "<polygon fill=\"black\" stroke=\"black\" points=\"190.98,-42.81 182.53,-36.4 185.14,-46.67 190.98,-42.81\"/>\n",
       "</g>\n",
       "<!-- 14 -->\n",
       "<g id=\"node9\" class=\"node\">\n",
       "<title>14</title>\n",
       "<path fill=\"#c0c0c0\" stroke=\"black\" d=\"M258,-36C258,-36 228,-36 228,-36 222,-36 216,-30 216,-24 216,-24 216,-12 216,-12 216,-6 222,0 228,0 228,0 258,0 258,0 264,0 270,-6 270,-12 270,-12 270,-24 270,-24 270,-30 264,-36 258,-36\"/>\n",
       "<text text-anchor=\"middle\" x=\"243\" y=\"-14.3\" font-family=\"helvetica\" font-size=\"14.00\">(...)</text>\n",
       "</g>\n",
       "<!-- 10&#45;&gt;14 -->\n",
       "<g id=\"edge8\" class=\"edge\">\n",
       "<title>10&#45;&gt;14</title>\n",
       "<path fill=\"none\" stroke=\"black\" d=\"M233.76,-72C235.23,-63.56 236.79,-54.59 238.21,-46.47\"/>\n",
       "<polygon fill=\"black\" stroke=\"black\" points=\"241.69,-46.86 239.96,-36.4 234.8,-45.65 241.69,-46.86\"/>\n",
       "</g>\n",
       "<!-- 18 -->\n",
       "<g id=\"node11\" class=\"node\">\n",
       "<title>18</title>\n",
       "<path fill=\"#f3c7a7\" stroke=\"black\" d=\"M396,-140C396,-140 314,-140 314,-140 308,-140 302,-134 302,-128 302,-128 302,-84 302,-84 302,-78 308,-72 314,-72 314,-72 396,-72 396,-72 402,-72 408,-78 408,-84 408,-84 408,-128 408,-128 408,-134 402,-140 396,-140\"/>\n",
       "<text text-anchor=\"start\" x=\"318.5\" y=\"-124.8\" font-family=\"helvetica\" font-size=\"14.00\">month ≤ 1.5</text>\n",
       "<text text-anchor=\"start\" x=\"320.5\" y=\"-109.8\" font-family=\"helvetica\" font-size=\"14.00\">mse = 0.03</text>\n",
       "<text text-anchor=\"start\" x=\"310\" y=\"-94.8\" font-family=\"helvetica\" font-size=\"14.00\">samples = 863</text>\n",
       "<text text-anchor=\"start\" x=\"314\" y=\"-79.8\" font-family=\"helvetica\" font-size=\"14.00\">value = 0.052</text>\n",
       "</g>\n",
       "<!-- 17&#45;&gt;18 -->\n",
       "<g id=\"edge10\" class=\"edge\">\n",
       "<title>17&#45;&gt;18</title>\n",
       "<path fill=\"none\" stroke=\"black\" d=\"M396.2,-175.88C391.08,-167.33 385.51,-158.01 380.16,-149.07\"/>\n",
       "<polygon fill=\"black\" stroke=\"black\" points=\"383.05,-147.09 374.91,-140.3 377.04,-150.68 383.05,-147.09\"/>\n",
       "</g>\n",
       "<!-- 25 -->\n",
       "<g id=\"node14\" class=\"node\">\n",
       "<title>25</title>\n",
       "<path fill=\"#f5d0b6\" stroke=\"black\" d=\"M535.5,-140C535.5,-140 438.5,-140 438.5,-140 432.5,-140 426.5,-134 426.5,-128 426.5,-128 426.5,-84 426.5,-84 426.5,-78 432.5,-72 438.5,-72 438.5,-72 535.5,-72 535.5,-72 541.5,-72 547.5,-78 547.5,-84 547.5,-84 547.5,-128 547.5,-128 547.5,-134 541.5,-140 535.5,-140\"/>\n",
       "<text text-anchor=\"start\" x=\"445\" y=\"-124.8\" font-family=\"helvetica\" font-size=\"14.00\">year ≤ 2009.5</text>\n",
       "<text text-anchor=\"start\" x=\"449\" y=\"-109.8\" font-family=\"helvetica\" font-size=\"14.00\">mse = 0.006</text>\n",
       "<text text-anchor=\"start\" x=\"434.5\" y=\"-94.8\" font-family=\"helvetica\" font-size=\"14.00\">samples = 14478</text>\n",
       "<text text-anchor=\"start\" x=\"446\" y=\"-79.8\" font-family=\"helvetica\" font-size=\"14.00\">value = 0.018</text>\n",
       "</g>\n",
       "<!-- 17&#45;&gt;25 -->\n",
       "<g id=\"edge13\" class=\"edge\">\n",
       "<title>17&#45;&gt;25</title>\n",
       "<path fill=\"none\" stroke=\"black\" d=\"M439.05,-175.88C445.13,-167.15 451.76,-157.62 458.1,-148.51\"/>\n",
       "<polygon fill=\"black\" stroke=\"black\" points=\"460.98,-150.51 463.82,-140.3 455.24,-146.51 460.98,-150.51\"/>\n",
       "</g>\n",
       "<!-- 19 -->\n",
       "<g id=\"node12\" class=\"node\">\n",
       "<title>19</title>\n",
       "<path fill=\"#c0c0c0\" stroke=\"black\" d=\"M330,-36C330,-36 300,-36 300,-36 294,-36 288,-30 288,-24 288,-24 288,-12 288,-12 288,-6 294,0 300,0 300,0 330,0 330,0 336,0 342,-6 342,-12 342,-12 342,-24 342,-24 342,-30 336,-36 330,-36\"/>\n",
       "<text text-anchor=\"middle\" x=\"315\" y=\"-14.3\" font-family=\"helvetica\" font-size=\"14.00\">(...)</text>\n",
       "</g>\n",
       "<!-- 18&#45;&gt;19 -->\n",
       "<g id=\"edge11\" class=\"edge\">\n",
       "<title>18&#45;&gt;19</title>\n",
       "<path fill=\"none\" stroke=\"black\" d=\"M339.65,-72C335.6,-63.28 331.27,-53.98 327.4,-45.65\"/>\n",
       "<polygon fill=\"black\" stroke=\"black\" points=\"330.49,-43.99 323.09,-36.4 324.14,-46.95 330.49,-43.99\"/>\n",
       "</g>\n",
       "<!-- 22 -->\n",
       "<g id=\"node13\" class=\"node\">\n",
       "<title>22</title>\n",
       "<path fill=\"#c0c0c0\" stroke=\"black\" d=\"M402,-36C402,-36 372,-36 372,-36 366,-36 360,-30 360,-24 360,-24 360,-12 360,-12 360,-6 366,0 372,0 372,0 402,0 402,0 408,0 414,-6 414,-12 414,-12 414,-24 414,-24 414,-30 408,-36 402,-36\"/>\n",
       "<text text-anchor=\"middle\" x=\"387\" y=\"-14.3\" font-family=\"helvetica\" font-size=\"14.00\">(...)</text>\n",
       "</g>\n",
       "<!-- 18&#45;&gt;22 -->\n",
       "<g id=\"edge12\" class=\"edge\">\n",
       "<title>18&#45;&gt;22</title>\n",
       "<path fill=\"none\" stroke=\"black\" d=\"M367.28,-72C370.49,-63.38 373.91,-54.19 376.98,-45.92\"/>\n",
       "<polygon fill=\"black\" stroke=\"black\" points=\"380.32,-47 380.52,-36.4 373.76,-44.56 380.32,-47\"/>\n",
       "</g>\n",
       "<!-- 26 -->\n",
       "<g id=\"node15\" class=\"node\">\n",
       "<title>26</title>\n",
       "<path fill=\"#c0c0c0\" stroke=\"black\" d=\"M474,-36C474,-36 444,-36 444,-36 438,-36 432,-30 432,-24 432,-24 432,-12 432,-12 432,-6 438,0 444,0 444,0 474,0 474,0 480,0 486,-6 486,-12 486,-12 486,-24 486,-24 486,-30 480,-36 474,-36\"/>\n",
       "<text text-anchor=\"middle\" x=\"459\" y=\"-14.3\" font-family=\"helvetica\" font-size=\"14.00\">(...)</text>\n",
       "</g>\n",
       "<!-- 25&#45;&gt;26 -->\n",
       "<g id=\"edge14\" class=\"edge\">\n",
       "<title>25&#45;&gt;26</title>\n",
       "<path fill=\"none\" stroke=\"black\" d=\"M476.25,-72C473.45,-63.38 470.46,-54.19 467.77,-45.92\"/>\n",
       "<polygon fill=\"black\" stroke=\"black\" points=\"471.09,-44.83 464.67,-36.4 464.43,-47 471.09,-44.83\"/>\n",
       "</g>\n",
       "<!-- 29 -->\n",
       "<g id=\"node16\" class=\"node\">\n",
       "<title>29</title>\n",
       "<path fill=\"#c0c0c0\" stroke=\"black\" d=\"M546,-36C546,-36 516,-36 516,-36 510,-36 504,-30 504,-24 504,-24 504,-12 504,-12 504,-6 510,0 516,0 516,0 546,0 546,0 552,0 558,-6 558,-12 558,-12 558,-24 558,-24 558,-30 552,-36 546,-36\"/>\n",
       "<text text-anchor=\"middle\" x=\"531\" y=\"-14.3\" font-family=\"helvetica\" font-size=\"14.00\">(...)</text>\n",
       "</g>\n",
       "<!-- 25&#45;&gt;29 -->\n",
       "<g id=\"edge15\" class=\"edge\">\n",
       "<title>25&#45;&gt;29</title>\n",
       "<path fill=\"none\" stroke=\"black\" d=\"M503.89,-72C508.39,-63.19 513.2,-53.78 517.5,-45.38\"/>\n",
       "<polygon fill=\"black\" stroke=\"black\" points=\"520.66,-46.9 522.1,-36.4 514.43,-43.71 520.66,-46.9\"/>\n",
       "</g>\n",
       "<!-- 33 -->\n",
       "<g id=\"node18\" class=\"node\">\n",
       "<title>33</title>\n",
       "<path fill=\"#f6d2b8\" stroke=\"black\" d=\"M738.5,-244C738.5,-244 641.5,-244 641.5,-244 635.5,-244 629.5,-238 629.5,-232 629.5,-232 629.5,-188 629.5,-188 629.5,-182 635.5,-176 641.5,-176 641.5,-176 738.5,-176 738.5,-176 744.5,-176 750.5,-182 750.5,-188 750.5,-188 750.5,-232 750.5,-232 750.5,-238 744.5,-244 738.5,-244\"/>\n",
       "<text text-anchor=\"start\" x=\"648\" y=\"-228.8\" font-family=\"helvetica\" font-size=\"14.00\">year ≤ 2002.5</text>\n",
       "<text text-anchor=\"start\" x=\"652\" y=\"-213.8\" font-family=\"helvetica\" font-size=\"14.00\">mse = 0.009</text>\n",
       "<text text-anchor=\"start\" x=\"637.5\" y=\"-198.8\" font-family=\"helvetica\" font-size=\"14.00\">samples = 24132</text>\n",
       "<text text-anchor=\"start\" x=\"649\" y=\"-183.8\" font-family=\"helvetica\" font-size=\"14.00\">value = 0.013</text>\n",
       "</g>\n",
       "<!-- 32&#45;&gt;33 -->\n",
       "<g id=\"edge17\" class=\"edge\">\n",
       "<title>32&#45;&gt;33</title>\n",
       "<path fill=\"none\" stroke=\"black\" d=\"M690,-279.88C690,-271.78 690,-262.98 690,-254.47\"/>\n",
       "<polygon fill=\"black\" stroke=\"black\" points=\"693.5,-254.3 690,-244.3 686.5,-254.3 693.5,-254.3\"/>\n",
       "</g>\n",
       "<!-- 48 -->\n",
       "<g id=\"node25\" class=\"node\">\n",
       "<title>48</title>\n",
       "<path fill=\"#f7d6be\" stroke=\"black\" d=\"M943.5,-244C943.5,-244 846.5,-244 846.5,-244 840.5,-244 834.5,-238 834.5,-232 834.5,-232 834.5,-188 834.5,-188 834.5,-182 840.5,-176 846.5,-176 846.5,-176 943.5,-176 943.5,-176 949.5,-176 955.5,-182 955.5,-188 955.5,-188 955.5,-232 955.5,-232 955.5,-238 949.5,-244 943.5,-244\"/>\n",
       "<text text-anchor=\"start\" x=\"853\" y=\"-228.8\" font-family=\"helvetica\" font-size=\"14.00\">year ≤ 2008.5</text>\n",
       "<text text-anchor=\"start\" x=\"857\" y=\"-213.8\" font-family=\"helvetica\" font-size=\"14.00\">mse = 0.008</text>\n",
       "<text text-anchor=\"start\" x=\"842.5\" y=\"-198.8\" font-family=\"helvetica\" font-size=\"14.00\">samples = 22498</text>\n",
       "<text text-anchor=\"start\" x=\"851.5\" y=\"-183.8\" font-family=\"helvetica\" font-size=\"14.00\">value = &#45;0.002</text>\n",
       "</g>\n",
       "<!-- 32&#45;&gt;48 -->\n",
       "<g id=\"edge24\" class=\"edge\">\n",
       "<title>32&#45;&gt;48</title>\n",
       "<path fill=\"none\" stroke=\"black\" d=\"M750.67,-282.81C774.13,-271.14 801.1,-257.72 825.34,-245.66\"/>\n",
       "<polygon fill=\"black\" stroke=\"black\" points=\"827.09,-248.7 834.48,-241.11 823.97,-242.43 827.09,-248.7\"/>\n",
       "</g>\n",
       "<!-- 34 -->\n",
       "<g id=\"node19\" class=\"node\">\n",
       "<title>34</title>\n",
       "<path fill=\"#f7dbc6\" stroke=\"black\" d=\"M668.5,-140C668.5,-140 579.5,-140 579.5,-140 573.5,-140 567.5,-134 567.5,-128 567.5,-128 567.5,-84 567.5,-84 567.5,-78 573.5,-72 579.5,-72 579.5,-72 668.5,-72 668.5,-72 674.5,-72 680.5,-78 680.5,-84 680.5,-84 680.5,-128 680.5,-128 680.5,-134 674.5,-140 668.5,-140\"/>\n",
       "<text text-anchor=\"start\" x=\"587.5\" y=\"-124.8\" font-family=\"helvetica\" font-size=\"14.00\">month ≤ 8.5</text>\n",
       "<text text-anchor=\"start\" x=\"586\" y=\"-109.8\" font-family=\"helvetica\" font-size=\"14.00\">mse = 0.014</text>\n",
       "<text text-anchor=\"start\" x=\"575.5\" y=\"-94.8\" font-family=\"helvetica\" font-size=\"14.00\">samples = 1587</text>\n",
       "<text text-anchor=\"start\" x=\"580.5\" y=\"-79.8\" font-family=\"helvetica\" font-size=\"14.00\">value = &#45;0.018</text>\n",
       "</g>\n",
       "<!-- 33&#45;&gt;34 -->\n",
       "<g id=\"edge18\" class=\"edge\">\n",
       "<title>33&#45;&gt;34</title>\n",
       "<path fill=\"none\" stroke=\"black\" d=\"M668.57,-175.88C662.98,-167.24 656.88,-157.82 651.04,-148.79\"/>\n",
       "<polygon fill=\"black\" stroke=\"black\" points=\"653.92,-146.79 645.55,-140.3 648.04,-150.6 653.92,-146.79\"/>\n",
       "</g>\n",
       "<!-- 41 -->\n",
       "<g id=\"node22\" class=\"node\">\n",
       "<title>41</title>\n",
       "<path fill=\"#f6d1b7\" stroke=\"black\" d=\"M807.5,-140C807.5,-140 710.5,-140 710.5,-140 704.5,-140 698.5,-134 698.5,-128 698.5,-128 698.5,-84 698.5,-84 698.5,-78 704.5,-72 710.5,-72 710.5,-72 807.5,-72 807.5,-72 813.5,-72 819.5,-78 819.5,-84 819.5,-84 819.5,-128 819.5,-128 819.5,-134 813.5,-140 807.5,-140\"/>\n",
       "<text text-anchor=\"start\" x=\"717\" y=\"-124.8\" font-family=\"helvetica\" font-size=\"14.00\">year ≤ 2003.5</text>\n",
       "<text text-anchor=\"start\" x=\"721\" y=\"-109.8\" font-family=\"helvetica\" font-size=\"14.00\">mse = 0.008</text>\n",
       "<text text-anchor=\"start\" x=\"706.5\" y=\"-94.8\" font-family=\"helvetica\" font-size=\"14.00\">samples = 22545</text>\n",
       "<text text-anchor=\"start\" x=\"718\" y=\"-79.8\" font-family=\"helvetica\" font-size=\"14.00\">value = 0.015</text>\n",
       "</g>\n",
       "<!-- 33&#45;&gt;41 -->\n",
       "<g id=\"edge21\" class=\"edge\">\n",
       "<title>33&#45;&gt;41</title>\n",
       "<path fill=\"none\" stroke=\"black\" d=\"M712.4,-175.88C718.25,-167.24 724.62,-157.82 730.73,-148.79\"/>\n",
       "<polygon fill=\"black\" stroke=\"black\" points=\"733.77,-150.54 736.47,-140.3 727.97,-146.62 733.77,-150.54\"/>\n",
       "</g>\n",
       "<!-- 35 -->\n",
       "<g id=\"node20\" class=\"node\">\n",
       "<title>35</title>\n",
       "<path fill=\"#c0c0c0\" stroke=\"black\" d=\"M618,-36C618,-36 588,-36 588,-36 582,-36 576,-30 576,-24 576,-24 576,-12 576,-12 576,-6 582,0 588,0 588,0 618,0 618,0 624,0 630,-6 630,-12 630,-12 630,-24 630,-24 630,-30 624,-36 618,-36\"/>\n",
       "<text text-anchor=\"middle\" x=\"603\" y=\"-14.3\" font-family=\"helvetica\" font-size=\"14.00\">(...)</text>\n",
       "</g>\n",
       "<!-- 34&#45;&gt;35 -->\n",
       "<g id=\"edge19\" class=\"edge\">\n",
       "<title>34&#45;&gt;35</title>\n",
       "<path fill=\"none\" stroke=\"black\" d=\"M615.94,-72C613.86,-63.47 611.64,-54.39 609.64,-46.2\"/>\n",
       "<polygon fill=\"black\" stroke=\"black\" points=\"613.02,-45.29 607.25,-36.4 606.22,-46.95 613.02,-45.29\"/>\n",
       "</g>\n",
       "<!-- 38 -->\n",
       "<g id=\"node21\" class=\"node\">\n",
       "<title>38</title>\n",
       "<path fill=\"#c0c0c0\" stroke=\"black\" d=\"M690,-36C690,-36 660,-36 660,-36 654,-36 648,-30 648,-24 648,-24 648,-12 648,-12 648,-6 654,0 660,0 660,0 690,0 690,0 696,0 702,-6 702,-12 702,-12 702,-24 702,-24 702,-30 696,-36 690,-36\"/>\n",
       "<text text-anchor=\"middle\" x=\"675\" y=\"-14.3\" font-family=\"helvetica\" font-size=\"14.00\">(...)</text>\n",
       "</g>\n",
       "<!-- 34&#45;&gt;38 -->\n",
       "<g id=\"edge20\" class=\"edge\">\n",
       "<title>34&#45;&gt;38</title>\n",
       "<path fill=\"none\" stroke=\"black\" d=\"M643.57,-72C648.85,-63.09 654.49,-53.58 659.52,-45.11\"/>\n",
       "<polygon fill=\"black\" stroke=\"black\" points=\"662.59,-46.79 664.68,-36.4 656.57,-43.22 662.59,-46.79\"/>\n",
       "</g>\n",
       "<!-- 42 -->\n",
       "<g id=\"node23\" class=\"node\">\n",
       "<title>42</title>\n",
       "<path fill=\"#c0c0c0\" stroke=\"black\" d=\"M762,-36C762,-36 732,-36 732,-36 726,-36 720,-30 720,-24 720,-24 720,-12 720,-12 720,-6 726,0 732,0 732,0 762,0 762,0 768,0 774,-6 774,-12 774,-12 774,-24 774,-24 774,-30 768,-36 762,-36\"/>\n",
       "<text text-anchor=\"middle\" x=\"747\" y=\"-14.3\" font-family=\"helvetica\" font-size=\"14.00\">(...)</text>\n",
       "</g>\n",
       "<!-- 41&#45;&gt;42 -->\n",
       "<g id=\"edge22\" class=\"edge\">\n",
       "<title>41&#45;&gt;42</title>\n",
       "<path fill=\"none\" stroke=\"black\" d=\"M754.39,-72C753.22,-63.56 751.97,-54.59 750.83,-46.47\"/>\n",
       "<polygon fill=\"black\" stroke=\"black\" points=\"754.28,-45.82 749.43,-36.4 747.34,-46.79 754.28,-45.82\"/>\n",
       "</g>\n",
       "<!-- 45 -->\n",
       "<g id=\"node24\" class=\"node\">\n",
       "<title>45</title>\n",
       "<path fill=\"#c0c0c0\" stroke=\"black\" d=\"M834,-36C834,-36 804,-36 804,-36 798,-36 792,-30 792,-24 792,-24 792,-12 792,-12 792,-6 798,0 804,0 804,0 834,0 834,0 840,0 846,-6 846,-12 846,-12 846,-24 846,-24 846,-30 840,-36 834,-36\"/>\n",
       "<text text-anchor=\"middle\" x=\"819\" y=\"-14.3\" font-family=\"helvetica\" font-size=\"14.00\">(...)</text>\n",
       "</g>\n",
       "<!-- 41&#45;&gt;45 -->\n",
       "<g id=\"edge23\" class=\"edge\">\n",
       "<title>41&#45;&gt;45</title>\n",
       "<path fill=\"none\" stroke=\"black\" d=\"M782.03,-72C788.3,-63 795.02,-53.38 800.97,-44.84\"/>\n",
       "<polygon fill=\"black\" stroke=\"black\" points=\"804.01,-46.61 806.86,-36.4 798.27,-42.6 804.01,-46.61\"/>\n",
       "</g>\n",
       "<!-- 49 -->\n",
       "<g id=\"node26\" class=\"node\">\n",
       "<title>49</title>\n",
       "<path fill=\"#f8dcc8\" stroke=\"black\" d=\"M939.5,-140C939.5,-140 850.5,-140 850.5,-140 844.5,-140 838.5,-134 838.5,-128 838.5,-128 838.5,-84 838.5,-84 838.5,-78 844.5,-72 850.5,-72 850.5,-72 939.5,-72 939.5,-72 945.5,-72 951.5,-78 951.5,-84 951.5,-84 951.5,-128 951.5,-128 951.5,-134 945.5,-140 939.5,-140\"/>\n",
       "<text text-anchor=\"start\" x=\"853\" y=\"-124.8\" font-family=\"helvetica\" font-size=\"14.00\">year ≤ 2007.5</text>\n",
       "<text text-anchor=\"start\" x=\"857\" y=\"-109.8\" font-family=\"helvetica\" font-size=\"14.00\">mse = 0.013</text>\n",
       "<text text-anchor=\"start\" x=\"846.5\" y=\"-94.8\" font-family=\"helvetica\" font-size=\"14.00\">samples = 6081</text>\n",
       "<text text-anchor=\"start\" x=\"851.5\" y=\"-79.8\" font-family=\"helvetica\" font-size=\"14.00\">value = &#45;0.023</text>\n",
       "</g>\n",
       "<!-- 48&#45;&gt;49 -->\n",
       "<g id=\"edge25\" class=\"edge\">\n",
       "<title>48&#45;&gt;49</title>\n",
       "<path fill=\"none\" stroke=\"black\" d=\"M895,-175.88C895,-167.78 895,-158.98 895,-150.47\"/>\n",
       "<polygon fill=\"black\" stroke=\"black\" points=\"898.5,-150.3 895,-140.3 891.5,-150.3 898.5,-150.3\"/>\n",
       "</g>\n",
       "<!-- 56 -->\n",
       "<g id=\"node29\" class=\"node\">\n",
       "<title>56</title>\n",
       "<path fill=\"#f6d4bb\" stroke=\"black\" d=\"M1083.5,-140C1083.5,-140 986.5,-140 986.5,-140 980.5,-140 974.5,-134 974.5,-128 974.5,-128 974.5,-84 974.5,-84 974.5,-78 980.5,-72 986.5,-72 986.5,-72 1083.5,-72 1083.5,-72 1089.5,-72 1095.5,-78 1095.5,-84 1095.5,-84 1095.5,-128 1095.5,-128 1095.5,-134 1089.5,-140 1083.5,-140\"/>\n",
       "<text text-anchor=\"start\" x=\"982.5\" y=\"-124.8\" font-family=\"helvetica\" font-size=\"14.00\">bb_down ≤ 0.038</text>\n",
       "<text text-anchor=\"start\" x=\"997\" y=\"-109.8\" font-family=\"helvetica\" font-size=\"14.00\">mse = 0.006</text>\n",
       "<text text-anchor=\"start\" x=\"982.5\" y=\"-94.8\" font-family=\"helvetica\" font-size=\"14.00\">samples = 16417</text>\n",
       "<text text-anchor=\"start\" x=\"994\" y=\"-79.8\" font-family=\"helvetica\" font-size=\"14.00\">value = 0.006</text>\n",
       "</g>\n",
       "<!-- 48&#45;&gt;56 -->\n",
       "<g id=\"edge28\" class=\"edge\">\n",
       "<title>48&#45;&gt;56</title>\n",
       "<path fill=\"none\" stroke=\"black\" d=\"M940.45,-175.88C953.41,-166.44 967.66,-156.06 981.07,-146.29\"/>\n",
       "<polygon fill=\"black\" stroke=\"black\" points=\"983.27,-149.02 989.29,-140.3 979.15,-143.36 983.27,-149.02\"/>\n",
       "</g>\n",
       "<!-- 50 -->\n",
       "<g id=\"node27\" class=\"node\">\n",
       "<title>50</title>\n",
       "<path fill=\"#c0c0c0\" stroke=\"black\" d=\"M906,-36C906,-36 876,-36 876,-36 870,-36 864,-30 864,-24 864,-24 864,-12 864,-12 864,-6 870,0 876,0 876,0 906,0 906,0 912,0 918,-6 918,-12 918,-12 918,-24 918,-24 918,-30 912,-36 906,-36\"/>\n",
       "<text text-anchor=\"middle\" x=\"891\" y=\"-14.3\" font-family=\"helvetica\" font-size=\"14.00\">(...)</text>\n",
       "</g>\n",
       "<!-- 49&#45;&gt;50 -->\n",
       "<g id=\"edge26\" class=\"edge\">\n",
       "<title>49&#45;&gt;50</title>\n",
       "<path fill=\"none\" stroke=\"black\" d=\"M893.46,-72C893.07,-63.56 892.66,-54.59 892.28,-46.47\"/>\n",
       "<polygon fill=\"black\" stroke=\"black\" points=\"895.77,-46.23 891.81,-36.4 888.78,-46.56 895.77,-46.23\"/>\n",
       "</g>\n",
       "<!-- 53 -->\n",
       "<g id=\"node28\" class=\"node\">\n",
       "<title>53</title>\n",
       "<path fill=\"#c0c0c0\" stroke=\"black\" d=\"M978,-36C978,-36 948,-36 948,-36 942,-36 936,-30 936,-24 936,-24 936,-12 936,-12 936,-6 942,0 948,0 948,0 978,0 978,0 984,0 990,-6 990,-12 990,-12 990,-24 990,-24 990,-30 984,-36 978,-36\"/>\n",
       "<text text-anchor=\"middle\" x=\"963\" y=\"-14.3\" font-family=\"helvetica\" font-size=\"14.00\">(...)</text>\n",
       "</g>\n",
       "<!-- 49&#45;&gt;53 -->\n",
       "<g id=\"edge27\" class=\"edge\">\n",
       "<title>49&#45;&gt;53</title>\n",
       "<path fill=\"none\" stroke=\"black\" d=\"M921.1,-72C928.36,-62.81 936.14,-52.97 942.99,-44.3\"/>\n",
       "<polygon fill=\"black\" stroke=\"black\" points=\"945.78,-46.42 949.24,-36.4 940.29,-42.08 945.78,-46.42\"/>\n",
       "</g>\n",
       "<!-- 57 -->\n",
       "<g id=\"node30\" class=\"node\">\n",
       "<title>57</title>\n",
       "<path fill=\"#c0c0c0\" stroke=\"black\" d=\"M1050,-36C1050,-36 1020,-36 1020,-36 1014,-36 1008,-30 1008,-24 1008,-24 1008,-12 1008,-12 1008,-6 1014,0 1020,0 1020,0 1050,0 1050,0 1056,0 1062,-6 1062,-12 1062,-12 1062,-24 1062,-24 1062,-30 1056,-36 1050,-36\"/>\n",
       "<text text-anchor=\"middle\" x=\"1035\" y=\"-14.3\" font-family=\"helvetica\" font-size=\"14.00\">(...)</text>\n",
       "</g>\n",
       "<!-- 56&#45;&gt;57 -->\n",
       "<g id=\"edge29\" class=\"edge\">\n",
       "<title>56&#45;&gt;57</title>\n",
       "<path fill=\"none\" stroke=\"black\" d=\"M1035,-72C1035,-63.56 1035,-54.59 1035,-46.47\"/>\n",
       "<polygon fill=\"black\" stroke=\"black\" points=\"1038.5,-46.4 1035,-36.4 1031.5,-46.4 1038.5,-46.4\"/>\n",
       "</g>\n",
       "<!-- 60 -->\n",
       "<g id=\"node31\" class=\"node\">\n",
       "<title>60</title>\n",
       "<path fill=\"#c0c0c0\" stroke=\"black\" d=\"M1122,-36C1122,-36 1092,-36 1092,-36 1086,-36 1080,-30 1080,-24 1080,-24 1080,-12 1080,-12 1080,-6 1086,0 1092,0 1092,0 1122,0 1122,0 1128,0 1134,-6 1134,-12 1134,-12 1134,-24 1134,-24 1134,-30 1128,-36 1122,-36\"/>\n",
       "<text text-anchor=\"middle\" x=\"1107\" y=\"-14.3\" font-family=\"helvetica\" font-size=\"14.00\">(...)</text>\n",
       "</g>\n",
       "<!-- 56&#45;&gt;60 -->\n",
       "<g id=\"edge30\" class=\"edge\">\n",
       "<title>56&#45;&gt;60</title>\n",
       "<path fill=\"none\" stroke=\"black\" d=\"M1062.63,-72C1070.32,-62.81 1078.56,-52.97 1085.82,-44.3\"/>\n",
       "<polygon fill=\"black\" stroke=\"black\" points=\"1088.69,-46.32 1092.43,-36.4 1083.33,-41.82 1088.69,-46.32\"/>\n",
       "</g>\n",
       "</g>\n",
       "</svg>\n"
      ],
      "text/plain": [
       "<graphviz.files.Source at 0x7f0e43a39fa0>"
      ]
     },
     "execution_count": 52,
     "metadata": {},
     "output_type": "execute_result"
    }
   ],
   "source": [
    "out_file = results_path / 'reg_tree.dot'\n",
    "dot_data = export_graphviz(regression_tree,\n",
    "                           out_file=out_file.as_posix(),\n",
    "                           feature_names=X_train.columns,\n",
    "                           max_depth=3,\n",
    "                           filled=True,\n",
    "                           rounded=True,\n",
    "                           special_characters=True)\n",
    "if out_file is not None:\n",
    "    dot_data = Path(out_file).read_text()\n",
    "\n",
    "graphviz.Source(dot_data)"
   ]
  },
  {
   "cell_type": "markdown",
   "metadata": {},
   "source": [
    "### Evaluate Test Set"
   ]
  },
  {
   "cell_type": "code",
   "execution_count": 53,
   "metadata": {
    "ExecuteTime": {
     "end_time": "2021-02-23T20:46:33.883169Z",
     "start_time": "2021-02-23T20:46:33.876037Z"
    }
   },
   "outputs": [],
   "source": [
    "y_pred = regression_tree.predict(X_test)"
   ]
  },
  {
   "cell_type": "code",
   "execution_count": 54,
   "metadata": {
    "ExecuteTime": {
     "end_time": "2021-02-23T20:46:33.892414Z",
     "start_time": "2021-02-23T20:46:33.884726Z"
    }
   },
   "outputs": [
    {
     "data": {
      "text/plain": [
       "0.08659823080682826"
      ]
     },
     "execution_count": 54,
     "metadata": {},
     "output_type": "execute_result"
    }
   ],
   "source": [
    "np.sqrt(mean_squared_error(y_pred=y_pred, y_true=y_test))"
   ]
  },
  {
   "cell_type": "code",
   "execution_count": 55,
   "metadata": {
    "ExecuteTime": {
     "end_time": "2021-02-23T20:46:33.902317Z",
     "start_time": "2021-02-23T20:46:33.893713Z"
    }
   },
   "outputs": [
    {
     "name": "stdout",
     "output_type": "stream",
     "text": [
      "18.95 (p-value=0.00%)\n"
     ]
    }
   ],
   "source": [
    "r, p = spearmanr(y_pred, y_test)\n",
    "print(f'{r*100:.2f} (p-value={p:.2%})')"
   ]
  },
  {
   "cell_type": "markdown",
   "metadata": {},
   "source": [
    "## Classification Tree with all Features"
   ]
  },
  {
   "cell_type": "markdown",
   "metadata": {},
   "source": [
    "We will now train, visualize, and evaluate a classification tree with up to 5 consecutive splits using 80% of the samples for training to predict the remaining 20%. We are taking a shortcut here to simplify the illustration and use the built-in train_test_split, which does not protect against lookahead bias, as our custom iterator. The tree configuration implies up to $2^5=32$ leaf nodes that, on average in the balanced case, would contain over 4,300 of the training samples."
   ]
  },
  {
   "cell_type": "markdown",
   "metadata": {},
   "source": [
    "### Train-Test Split"
   ]
  },
  {
   "cell_type": "code",
   "execution_count": 56,
   "metadata": {
    "ExecuteTime": {
     "end_time": "2021-02-23T20:46:33.914160Z",
     "start_time": "2021-02-23T20:46:33.903873Z"
    },
    "scrolled": true
   },
   "outputs": [
    {
     "data": {
      "text/plain": [
       "1    43733\n",
       "0    34055\n",
       "Name: target, dtype: int64"
      ]
     },
     "execution_count": 56,
     "metadata": {},
     "output_type": "execute_result"
    }
   ],
   "source": [
    "y_binary = (y>0).astype(int)\n",
    "y_binary.value_counts()"
   ]
  },
  {
   "cell_type": "code",
   "execution_count": 57,
   "metadata": {
    "ExecuteTime": {
     "end_time": "2021-02-23T20:46:33.940990Z",
     "start_time": "2021-02-23T20:46:33.915658Z"
    }
   },
   "outputs": [],
   "source": [
    "X_train, X_test, y_train, y_test = train_test_split(X, y_binary, test_size=0.2, random_state=42)"
   ]
  },
  {
   "cell_type": "code",
   "execution_count": 58,
   "metadata": {
    "ExecuteTime": {
     "end_time": "2021-02-23T20:46:33.947237Z",
     "start_time": "2021-02-23T20:46:33.944297Z"
    }
   },
   "outputs": [],
   "source": [
    "clf = DecisionTreeClassifier(criterion='gini',\n",
    "                             max_depth=5,\n",
    "                             random_state=42)"
   ]
  },
  {
   "cell_type": "code",
   "execution_count": 59,
   "metadata": {
    "ExecuteTime": {
     "end_time": "2021-02-23T20:46:34.726229Z",
     "start_time": "2021-02-23T20:46:33.949377Z"
    }
   },
   "outputs": [
    {
     "data": {
      "text/plain": [
       "DecisionTreeClassifier(max_depth=5, random_state=42)"
      ]
     },
     "execution_count": 59,
     "metadata": {},
     "output_type": "execute_result"
    }
   ],
   "source": [
    "clf.fit(X=X_train, y=y_train)"
   ]
  },
  {
   "cell_type": "markdown",
   "metadata": {},
   "source": [
    "### Plot Tree"
   ]
  },
  {
   "cell_type": "code",
   "execution_count": 60,
   "metadata": {
    "ExecuteTime": {
     "end_time": "2021-02-23T20:46:34.777294Z",
     "start_time": "2021-02-23T20:46:34.728987Z"
    },
    "scrolled": false
   },
   "outputs": [
    {
     "data": {
      "image/svg+xml": [
       "<?xml version=\"1.0\" encoding=\"UTF-8\" standalone=\"no\"?>\n",
       "<!DOCTYPE svg PUBLIC \"-//W3C//DTD SVG 1.1//EN\"\n",
       " \"http://www.w3.org/Graphics/SVG/1.1/DTD/svg11.dtd\">\n",
       "<!-- Generated by graphviz version 2.46.1 (20210222.2046)\n",
       " -->\n",
       "<!-- Title: Tree Pages: 1 -->\n",
       "<svg width=\"1234pt\" height=\"520pt\"\n",
       " viewBox=\"0.00 0.00 1234.00 520.00\" xmlns=\"http://www.w3.org/2000/svg\" xmlns:xlink=\"http://www.w3.org/1999/xlink\">\n",
       "<g id=\"graph0\" class=\"graph\" transform=\"scale(1 1) rotate(0) translate(4 516)\">\n",
       "<title>Tree</title>\n",
       "<polygon fill=\"white\" stroke=\"transparent\" points=\"-4,4 -4,-516 1230,-516 1230,4 -4,4\"/>\n",
       "<!-- 0 -->\n",
       "<g id=\"node1\" class=\"node\">\n",
       "<title>0</title>\n",
       "<path fill=\"#d4eaf9\" stroke=\"black\" d=\"M663.5,-512C663.5,-512 532.5,-512 532.5,-512 526.5,-512 520.5,-506 520.5,-500 520.5,-500 520.5,-441 520.5,-441 520.5,-435 526.5,-429 532.5,-429 532.5,-429 663.5,-429 663.5,-429 669.5,-429 675.5,-435 675.5,-441 675.5,-441 675.5,-500 675.5,-500 675.5,-506 669.5,-512 663.5,-512\"/>\n",
       "<text text-anchor=\"start\" x=\"561.5\" y=\"-496.8\" font-family=\"helvetica\" font-size=\"14.00\">month ≤ 3.5</text>\n",
       "<text text-anchor=\"start\" x=\"562.5\" y=\"-481.8\" font-family=\"helvetica\" font-size=\"14.00\">gini = 0.492</text>\n",
       "<text text-anchor=\"start\" x=\"545.5\" y=\"-466.8\" font-family=\"helvetica\" font-size=\"14.00\">samples = 62230</text>\n",
       "<text text-anchor=\"start\" x=\"528.5\" y=\"-451.8\" font-family=\"helvetica\" font-size=\"14.00\">value = [27286, 34944]</text>\n",
       "<text text-anchor=\"start\" x=\"566\" y=\"-436.8\" font-family=\"helvetica\" font-size=\"14.00\">class = Up</text>\n",
       "</g>\n",
       "<!-- 1 -->\n",
       "<g id=\"node2\" class=\"node\">\n",
       "<title>1</title>\n",
       "<path fill=\"#b7dbf5\" stroke=\"black\" d=\"M505,-393C505,-393 389,-393 389,-393 383,-393 377,-387 377,-381 377,-381 377,-322 377,-322 377,-316 383,-310 389,-310 389,-310 505,-310 505,-310 511,-310 517,-316 517,-322 517,-322 517,-381 517,-381 517,-387 511,-393 505,-393\"/>\n",
       "<text text-anchor=\"start\" x=\"405\" y=\"-377.8\" font-family=\"helvetica\" font-size=\"14.00\">year ≤ 2008.5</text>\n",
       "<text text-anchor=\"start\" x=\"411.5\" y=\"-362.8\" font-family=\"helvetica\" font-size=\"14.00\">gini = 0.475</text>\n",
       "<text text-anchor=\"start\" x=\"394.5\" y=\"-347.8\" font-family=\"helvetica\" font-size=\"14.00\">samples = 15600</text>\n",
       "<text text-anchor=\"start\" x=\"385\" y=\"-332.8\" font-family=\"helvetica\" font-size=\"14.00\">value = [6053, 9547]</text>\n",
       "<text text-anchor=\"start\" x=\"415\" y=\"-317.8\" font-family=\"helvetica\" font-size=\"14.00\">class = Up</text>\n",
       "</g>\n",
       "<!-- 0&#45;&gt;1 -->\n",
       "<g id=\"edge1\" class=\"edge\">\n",
       "<title>0&#45;&gt;1</title>\n",
       "<path fill=\"none\" stroke=\"black\" d=\"M545.61,-428.91C533.31,-419.38 520.11,-409.15 507.49,-399.37\"/>\n",
       "<polygon fill=\"black\" stroke=\"black\" points=\"509.34,-396.38 499.3,-393.02 505.06,-401.91 509.34,-396.38\"/>\n",
       "<text text-anchor=\"middle\" x=\"502.44\" y=\"-414.12\" font-family=\"helvetica\" font-size=\"14.00\">True</text>\n",
       "</g>\n",
       "<!-- 32 -->\n",
       "<g id=\"node17\" class=\"node\">\n",
       "<title>32</title>\n",
       "<path fill=\"#dfeffb\" stroke=\"black\" d=\"M810.5,-393C810.5,-393 679.5,-393 679.5,-393 673.5,-393 667.5,-387 667.5,-381 667.5,-381 667.5,-322 667.5,-322 667.5,-316 673.5,-310 679.5,-310 679.5,-310 810.5,-310 810.5,-310 816.5,-310 822.5,-316 822.5,-322 822.5,-322 822.5,-381 822.5,-381 822.5,-387 816.5,-393 810.5,-393\"/>\n",
       "<text text-anchor=\"start\" x=\"703\" y=\"-377.8\" font-family=\"helvetica\" font-size=\"14.00\">year ≤ 2002.5</text>\n",
       "<text text-anchor=\"start\" x=\"709.5\" y=\"-362.8\" font-family=\"helvetica\" font-size=\"14.00\">gini = 0.496</text>\n",
       "<text text-anchor=\"start\" x=\"692.5\" y=\"-347.8\" font-family=\"helvetica\" font-size=\"14.00\">samples = 46630</text>\n",
       "<text text-anchor=\"start\" x=\"675.5\" y=\"-332.8\" font-family=\"helvetica\" font-size=\"14.00\">value = [21233, 25397]</text>\n",
       "<text text-anchor=\"start\" x=\"713\" y=\"-317.8\" font-family=\"helvetica\" font-size=\"14.00\">class = Up</text>\n",
       "</g>\n",
       "<!-- 0&#45;&gt;32 -->\n",
       "<g id=\"edge16\" class=\"edge\">\n",
       "<title>0&#45;&gt;32</title>\n",
       "<path fill=\"none\" stroke=\"black\" d=\"M649,-428.91C660.97,-419.38 673.83,-409.15 686.11,-399.37\"/>\n",
       "<polygon fill=\"black\" stroke=\"black\" points=\"688.44,-401.99 694.09,-393.02 684.09,-396.51 688.44,-401.99\"/>\n",
       "<text text-anchor=\"middle\" x=\"691.27\" y=\"-414.16\" font-family=\"helvetica\" font-size=\"14.00\">False</text>\n",
       "</g>\n",
       "<!-- 2 -->\n",
       "<g id=\"node3\" class=\"node\">\n",
       "<title>2</title>\n",
       "<path fill=\"#d8ecfa\" stroke=\"black\" d=\"M279,-274C279,-274 163,-274 163,-274 157,-274 151,-268 151,-262 151,-262 151,-203 151,-203 151,-197 157,-191 163,-191 163,-191 279,-191 279,-191 285,-191 291,-197 291,-203 291,-203 291,-262 291,-262 291,-268 285,-274 279,-274\"/>\n",
       "<text text-anchor=\"start\" x=\"161\" y=\"-258.8\" font-family=\"helvetica\" font-size=\"14.00\">return_12m ≤ 0.032</text>\n",
       "<text text-anchor=\"start\" x=\"185.5\" y=\"-243.8\" font-family=\"helvetica\" font-size=\"14.00\">gini = 0.494</text>\n",
       "<text text-anchor=\"start\" x=\"172.5\" y=\"-228.8\" font-family=\"helvetica\" font-size=\"14.00\">samples = 6335</text>\n",
       "<text text-anchor=\"start\" x=\"159\" y=\"-213.8\" font-family=\"helvetica\" font-size=\"14.00\">value = [2826, 3509]</text>\n",
       "<text text-anchor=\"start\" x=\"189\" y=\"-198.8\" font-family=\"helvetica\" font-size=\"14.00\">class = Up</text>\n",
       "</g>\n",
       "<!-- 1&#45;&gt;2 -->\n",
       "<g id=\"edge2\" class=\"edge\">\n",
       "<title>1&#45;&gt;2</title>\n",
       "<path fill=\"none\" stroke=\"black\" d=\"M376.73,-314.12C352.5,-301.58 325.19,-287.44 300.28,-274.54\"/>\n",
       "<polygon fill=\"black\" stroke=\"black\" points=\"301.72,-271.34 291.23,-269.86 298.5,-277.56 301.72,-271.34\"/>\n",
       "</g>\n",
       "<!-- 17 -->\n",
       "<g id=\"node10\" class=\"node\">\n",
       "<title>17</title>\n",
       "<path fill=\"#a3d1f3\" stroke=\"black\" d=\"M505,-274C505,-274 389,-274 389,-274 383,-274 377,-268 377,-262 377,-262 377,-203 377,-203 377,-197 383,-191 389,-191 389,-191 505,-191 505,-191 511,-191 517,-197 517,-203 517,-203 517,-262 517,-262 517,-268 511,-274 505,-274\"/>\n",
       "<text text-anchor=\"start\" x=\"410.5\" y=\"-258.8\" font-family=\"helvetica\" font-size=\"14.00\">month ≤ 2.5</text>\n",
       "<text text-anchor=\"start\" x=\"411.5\" y=\"-243.8\" font-family=\"helvetica\" font-size=\"14.00\">gini = 0.454</text>\n",
       "<text text-anchor=\"start\" x=\"398.5\" y=\"-228.8\" font-family=\"helvetica\" font-size=\"14.00\">samples = 9265</text>\n",
       "<text text-anchor=\"start\" x=\"385\" y=\"-213.8\" font-family=\"helvetica\" font-size=\"14.00\">value = [3227, 6038]</text>\n",
       "<text text-anchor=\"start\" x=\"415\" y=\"-198.8\" font-family=\"helvetica\" font-size=\"14.00\">class = Up</text>\n",
       "</g>\n",
       "<!-- 1&#45;&gt;17 -->\n",
       "<g id=\"edge9\" class=\"edge\">\n",
       "<title>1&#45;&gt;17</title>\n",
       "<path fill=\"none\" stroke=\"black\" d=\"M447,-309.91C447,-301.65 447,-292.86 447,-284.3\"/>\n",
       "<polygon fill=\"black\" stroke=\"black\" points=\"450.5,-284.02 447,-274.02 443.5,-284.02 450.5,-284.02\"/>\n",
       "</g>\n",
       "<!-- 3 -->\n",
       "<g id=\"node4\" class=\"node\">\n",
       "<title>3</title>\n",
       "<path fill=\"#cee7f9\" stroke=\"black\" d=\"M128,-155C128,-155 12,-155 12,-155 6,-155 0,-149 0,-143 0,-143 0,-84 0,-84 0,-78 6,-72 12,-72 12,-72 128,-72 128,-72 134,-72 140,-78 140,-84 140,-84 140,-143 140,-143 140,-149 134,-155 128,-155\"/>\n",
       "<text text-anchor=\"start\" x=\"33.5\" y=\"-139.8\" font-family=\"helvetica\" font-size=\"14.00\">month ≤ 1.5</text>\n",
       "<text text-anchor=\"start\" x=\"38\" y=\"-124.8\" font-family=\"helvetica\" font-size=\"14.00\">gini = 0.49</text>\n",
       "<text text-anchor=\"start\" x=\"21.5\" y=\"-109.8\" font-family=\"helvetica\" font-size=\"14.00\">samples = 5396</text>\n",
       "<text text-anchor=\"start\" x=\"8\" y=\"-94.8\" font-family=\"helvetica\" font-size=\"14.00\">value = [2320, 3076]</text>\n",
       "<text text-anchor=\"start\" x=\"38\" y=\"-79.8\" font-family=\"helvetica\" font-size=\"14.00\">class = Up</text>\n",
       "</g>\n",
       "<!-- 2&#45;&gt;3 -->\n",
       "<g id=\"edge3\" class=\"edge\">\n",
       "<title>2&#45;&gt;3</title>\n",
       "<path fill=\"none\" stroke=\"black\" d=\"M168.61,-190.91C156.31,-181.38 143.11,-171.15 130.49,-161.37\"/>\n",
       "<polygon fill=\"black\" stroke=\"black\" points=\"132.34,-158.38 122.3,-155.02 128.06,-163.91 132.34,-158.38\"/>\n",
       "</g>\n",
       "<!-- 10 -->\n",
       "<g id=\"node7\" class=\"node\">\n",
       "<title>10</title>\n",
       "<path fill=\"#fbede2\" stroke=\"black\" d=\"M271.5,-155C271.5,-155 170.5,-155 170.5,-155 164.5,-155 158.5,-149 158.5,-143 158.5,-143 158.5,-84 158.5,-84 158.5,-78 164.5,-72 170.5,-72 170.5,-72 271.5,-72 271.5,-72 277.5,-72 283.5,-78 283.5,-84 283.5,-84 283.5,-143 283.5,-143 283.5,-149 277.5,-155 271.5,-155\"/>\n",
       "<text text-anchor=\"start\" x=\"184.5\" y=\"-139.8\" font-family=\"helvetica\" font-size=\"14.00\">month ≤ 2.5</text>\n",
       "<text text-anchor=\"start\" x=\"185.5\" y=\"-124.8\" font-family=\"helvetica\" font-size=\"14.00\">gini = 0.497</text>\n",
       "<text text-anchor=\"start\" x=\"176\" y=\"-109.8\" font-family=\"helvetica\" font-size=\"14.00\">samples = 939</text>\n",
       "<text text-anchor=\"start\" x=\"166.5\" y=\"-94.8\" font-family=\"helvetica\" font-size=\"14.00\">value = [506, 433]</text>\n",
       "<text text-anchor=\"start\" x=\"180\" y=\"-79.8\" font-family=\"helvetica\" font-size=\"14.00\">class = Down</text>\n",
       "</g>\n",
       "<!-- 2&#45;&gt;10 -->\n",
       "<g id=\"edge6\" class=\"edge\">\n",
       "<title>2&#45;&gt;10</title>\n",
       "<path fill=\"none\" stroke=\"black\" d=\"M221,-190.91C221,-182.65 221,-173.86 221,-165.3\"/>\n",
       "<polygon fill=\"black\" stroke=\"black\" points=\"224.5,-165.02 221,-155.02 217.5,-165.02 224.5,-165.02\"/>\n",
       "</g>\n",
       "<!-- 4 -->\n",
       "<g id=\"node5\" class=\"node\">\n",
       "<title>4</title>\n",
       "<path fill=\"#c0c0c0\" stroke=\"black\" d=\"M81,-36C81,-36 51,-36 51,-36 45,-36 39,-30 39,-24 39,-24 39,-12 39,-12 39,-6 45,0 51,0 51,0 81,0 81,0 87,0 93,-6 93,-12 93,-12 93,-24 93,-24 93,-30 87,-36 81,-36\"/>\n",
       "<text text-anchor=\"middle\" x=\"66\" y=\"-14.3\" font-family=\"helvetica\" font-size=\"14.00\">(...)</text>\n",
       "</g>\n",
       "<!-- 3&#45;&gt;4 -->\n",
       "<g id=\"edge4\" class=\"edge\">\n",
       "<title>3&#45;&gt;4</title>\n",
       "<path fill=\"none\" stroke=\"black\" d=\"M68.26,-71.76C67.89,-63.24 67.52,-54.44 67.18,-46.53\"/>\n",
       "<polygon fill=\"black\" stroke=\"black\" points=\"70.67,-46.25 66.74,-36.41 63.68,-46.55 70.67,-46.25\"/>\n",
       "</g>\n",
       "<!-- 7 -->\n",
       "<g id=\"node6\" class=\"node\">\n",
       "<title>7</title>\n",
       "<path fill=\"#c0c0c0\" stroke=\"black\" d=\"M153,-36C153,-36 123,-36 123,-36 117,-36 111,-30 111,-24 111,-24 111,-12 111,-12 111,-6 117,0 123,0 123,0 153,0 153,0 159,0 165,-6 165,-12 165,-12 165,-24 165,-24 165,-30 159,-36 153,-36\"/>\n",
       "<text text-anchor=\"middle\" x=\"138\" y=\"-14.3\" font-family=\"helvetica\" font-size=\"14.00\">(...)</text>\n",
       "</g>\n",
       "<!-- 3&#45;&gt;7 -->\n",
       "<g id=\"edge5\" class=\"edge\">\n",
       "<title>3&#45;&gt;7</title>\n",
       "<path fill=\"none\" stroke=\"black\" d=\"M99.63,-71.76C106.32,-62.56 113.25,-53.04 119.34,-44.66\"/>\n",
       "<polygon fill=\"black\" stroke=\"black\" points=\"122.29,-46.55 125.34,-36.41 116.63,-42.43 122.29,-46.55\"/>\n",
       "</g>\n",
       "<!-- 11 -->\n",
       "<g id=\"node8\" class=\"node\">\n",
       "<title>11</title>\n",
       "<path fill=\"#c0c0c0\" stroke=\"black\" d=\"M230,-36C230,-36 200,-36 200,-36 194,-36 188,-30 188,-24 188,-24 188,-12 188,-12 188,-6 194,0 200,0 200,0 230,0 230,0 236,0 242,-6 242,-12 242,-12 242,-24 242,-24 242,-30 236,-36 230,-36\"/>\n",
       "<text text-anchor=\"middle\" x=\"215\" y=\"-14.3\" font-family=\"helvetica\" font-size=\"14.00\">(...)</text>\n",
       "</g>\n",
       "<!-- 10&#45;&gt;11 -->\n",
       "<g id=\"edge7\" class=\"edge\">\n",
       "<title>10&#45;&gt;11</title>\n",
       "<path fill=\"none\" stroke=\"black\" d=\"M218.39,-71.76C217.84,-63.24 217.27,-54.44 216.77,-46.53\"/>\n",
       "<polygon fill=\"black\" stroke=\"black\" points=\"220.25,-46.16 216.12,-36.41 213.26,-46.61 220.25,-46.16\"/>\n",
       "</g>\n",
       "<!-- 14 -->\n",
       "<g id=\"node9\" class=\"node\">\n",
       "<title>14</title>\n",
       "<path fill=\"#c0c0c0\" stroke=\"black\" d=\"M302,-36C302,-36 272,-36 272,-36 266,-36 260,-30 260,-24 260,-24 260,-12 260,-12 260,-6 266,0 272,0 272,0 302,0 302,0 308,0 314,-6 314,-12 314,-12 314,-24 314,-24 314,-30 308,-36 302,-36\"/>\n",
       "<text text-anchor=\"middle\" x=\"287\" y=\"-14.3\" font-family=\"helvetica\" font-size=\"14.00\">(...)</text>\n",
       "</g>\n",
       "<!-- 10&#45;&gt;14 -->\n",
       "<g id=\"edge8\" class=\"edge\">\n",
       "<title>10&#45;&gt;14</title>\n",
       "<path fill=\"none\" stroke=\"black\" d=\"M249.76,-71.76C256.25,-62.56 262.97,-53.04 268.89,-44.66\"/>\n",
       "<polygon fill=\"black\" stroke=\"black\" points=\"271.81,-46.59 274.71,-36.41 266.09,-42.56 271.81,-46.59\"/>\n",
       "</g>\n",
       "<!-- 18 -->\n",
       "<g id=\"node11\" class=\"node\">\n",
       "<title>18</title>\n",
       "<path fill=\"#96cbf1\" stroke=\"black\" d=\"M430,-155C430,-155 314,-155 314,-155 308,-155 302,-149 302,-143 302,-143 302,-84 302,-84 302,-78 308,-72 314,-72 314,-72 430,-72 430,-72 436,-72 442,-78 442,-84 442,-84 442,-143 442,-143 442,-149 436,-155 430,-155\"/>\n",
       "<text text-anchor=\"start\" x=\"330\" y=\"-139.8\" font-family=\"helvetica\" font-size=\"14.00\">year ≤ 2009.5</text>\n",
       "<text text-anchor=\"start\" x=\"336.5\" y=\"-124.8\" font-family=\"helvetica\" font-size=\"14.00\">gini = 0.435</text>\n",
       "<text text-anchor=\"start\" x=\"323.5\" y=\"-109.8\" font-family=\"helvetica\" font-size=\"14.00\">samples = 6210</text>\n",
       "<text text-anchor=\"start\" x=\"310\" y=\"-94.8\" font-family=\"helvetica\" font-size=\"14.00\">value = [1983, 4227]</text>\n",
       "<text text-anchor=\"start\" x=\"340\" y=\"-79.8\" font-family=\"helvetica\" font-size=\"14.00\">class = Up</text>\n",
       "</g>\n",
       "<!-- 17&#45;&gt;18 -->\n",
       "<g id=\"edge10\" class=\"edge\">\n",
       "<title>17&#45;&gt;18</title>\n",
       "<path fill=\"none\" stroke=\"black\" d=\"M420.98,-190.91C415.34,-182.1 409.31,-172.7 403.48,-163.61\"/>\n",
       "<polygon fill=\"black\" stroke=\"black\" points=\"406.32,-161.55 397.97,-155.02 400.43,-165.33 406.32,-161.55\"/>\n",
       "</g>\n",
       "<!-- 25 -->\n",
       "<g id=\"node14\" class=\"node\">\n",
       "<title>25</title>\n",
       "<path fill=\"#c1e0f7\" stroke=\"black\" d=\"M588,-155C588,-155 472,-155 472,-155 466,-155 460,-149 460,-143 460,-143 460,-84 460,-84 460,-78 466,-72 472,-72 472,-72 588,-72 588,-72 594,-72 600,-78 600,-84 600,-84 600,-143 600,-143 600,-149 594,-155 588,-155\"/>\n",
       "<text text-anchor=\"start\" x=\"488\" y=\"-139.8\" font-family=\"helvetica\" font-size=\"14.00\">year ≤ 2011.5</text>\n",
       "<text text-anchor=\"start\" x=\"494.5\" y=\"-124.8\" font-family=\"helvetica\" font-size=\"14.00\">gini = 0.483</text>\n",
       "<text text-anchor=\"start\" x=\"481.5\" y=\"-109.8\" font-family=\"helvetica\" font-size=\"14.00\">samples = 3055</text>\n",
       "<text text-anchor=\"start\" x=\"468\" y=\"-94.8\" font-family=\"helvetica\" font-size=\"14.00\">value = [1244, 1811]</text>\n",
       "<text text-anchor=\"start\" x=\"498\" y=\"-79.8\" font-family=\"helvetica\" font-size=\"14.00\">class = Up</text>\n",
       "</g>\n",
       "<!-- 17&#45;&gt;25 -->\n",
       "<g id=\"edge13\" class=\"edge\">\n",
       "<title>17&#45;&gt;25</title>\n",
       "<path fill=\"none\" stroke=\"black\" d=\"M475.8,-190.91C482.11,-182.01 488.85,-172.51 495.36,-163.33\"/>\n",
       "<polygon fill=\"black\" stroke=\"black\" points=\"498.32,-165.2 501.25,-155.02 492.61,-161.15 498.32,-165.2\"/>\n",
       "</g>\n",
       "<!-- 19 -->\n",
       "<g id=\"node12\" class=\"node\">\n",
       "<title>19</title>\n",
       "<path fill=\"#c0c0c0\" stroke=\"black\" d=\"M380,-36C380,-36 350,-36 350,-36 344,-36 338,-30 338,-24 338,-24 338,-12 338,-12 338,-6 344,0 350,0 350,0 380,0 380,0 386,0 392,-6 392,-12 392,-12 392,-24 392,-24 392,-30 386,-36 380,-36\"/>\n",
       "<text text-anchor=\"middle\" x=\"365\" y=\"-14.3\" font-family=\"helvetica\" font-size=\"14.00\">(...)</text>\n",
       "</g>\n",
       "<!-- 18&#45;&gt;19 -->\n",
       "<g id=\"edge11\" class=\"edge\">\n",
       "<title>18&#45;&gt;19</title>\n",
       "<path fill=\"none\" stroke=\"black\" d=\"M368.95,-71.76C368.31,-63.24 367.65,-54.44 367.06,-46.53\"/>\n",
       "<polygon fill=\"black\" stroke=\"black\" points=\"370.54,-46.12 366.3,-36.41 363.56,-46.64 370.54,-46.12\"/>\n",
       "</g>\n",
       "<!-- 22 -->\n",
       "<g id=\"node13\" class=\"node\">\n",
       "<title>22</title>\n",
       "<path fill=\"#c0c0c0\" stroke=\"black\" d=\"M452,-36C452,-36 422,-36 422,-36 416,-36 410,-30 410,-24 410,-24 410,-12 410,-12 410,-6 416,0 422,0 422,0 452,0 452,0 458,0 464,-6 464,-12 464,-12 464,-24 464,-24 464,-30 458,-36 452,-36\"/>\n",
       "<text text-anchor=\"middle\" x=\"437\" y=\"-14.3\" font-family=\"helvetica\" font-size=\"14.00\">(...)</text>\n",
       "</g>\n",
       "<!-- 18&#45;&gt;22 -->\n",
       "<g id=\"edge12\" class=\"edge\">\n",
       "<title>18&#45;&gt;22</title>\n",
       "<path fill=\"none\" stroke=\"black\" d=\"M400.32,-71.76C406.72,-62.56 413.34,-53.04 419.16,-44.66\"/>\n",
       "<polygon fill=\"black\" stroke=\"black\" points=\"422.07,-46.61 424.9,-36.41 416.32,-42.62 422.07,-46.61\"/>\n",
       "</g>\n",
       "<!-- 26 -->\n",
       "<g id=\"node15\" class=\"node\">\n",
       "<title>26</title>\n",
       "<path fill=\"#c0c0c0\" stroke=\"black\" d=\"M534,-36C534,-36 504,-36 504,-36 498,-36 492,-30 492,-24 492,-24 492,-12 492,-12 492,-6 498,0 504,0 504,0 534,0 534,0 540,0 546,-6 546,-12 546,-12 546,-24 546,-24 546,-30 540,-36 534,-36\"/>\n",
       "<text text-anchor=\"middle\" x=\"519\" y=\"-14.3\" font-family=\"helvetica\" font-size=\"14.00\">(...)</text>\n",
       "</g>\n",
       "<!-- 25&#45;&gt;26 -->\n",
       "<g id=\"edge14\" class=\"edge\">\n",
       "<title>25&#45;&gt;26</title>\n",
       "<path fill=\"none\" stroke=\"black\" d=\"M525.21,-71.76C524.2,-63.24 523.17,-54.44 522.24,-46.53\"/>\n",
       "<polygon fill=\"black\" stroke=\"black\" points=\"525.69,-45.93 521.05,-36.41 518.74,-46.75 525.69,-45.93\"/>\n",
       "</g>\n",
       "<!-- 29 -->\n",
       "<g id=\"node16\" class=\"node\">\n",
       "<title>29</title>\n",
       "<path fill=\"#c0c0c0\" stroke=\"black\" d=\"M606,-36C606,-36 576,-36 576,-36 570,-36 564,-30 564,-24 564,-24 564,-12 564,-12 564,-6 570,0 576,0 576,0 606,0 606,0 612,0 618,-6 618,-12 618,-12 618,-24 618,-24 618,-30 612,-36 606,-36\"/>\n",
       "<text text-anchor=\"middle\" x=\"591\" y=\"-14.3\" font-family=\"helvetica\" font-size=\"14.00\">(...)</text>\n",
       "</g>\n",
       "<!-- 25&#45;&gt;29 -->\n",
       "<g id=\"edge15\" class=\"edge\">\n",
       "<title>25&#45;&gt;29</title>\n",
       "<path fill=\"none\" stroke=\"black\" d=\"M556.58,-71.76C562.52,-62.65 568.66,-53.24 574.09,-44.92\"/>\n",
       "<polygon fill=\"black\" stroke=\"black\" points=\"577.11,-46.69 579.64,-36.41 571.25,-42.87 577.11,-46.69\"/>\n",
       "</g>\n",
       "<!-- 33 -->\n",
       "<g id=\"node18\" class=\"node\">\n",
       "<title>33</title>\n",
       "<path fill=\"#f6d5bd\" stroke=\"black\" d=\"M803,-274C803,-274 687,-274 687,-274 681,-274 675,-268 675,-262 675,-262 675,-203 675,-203 675,-197 681,-191 687,-191 687,-191 803,-191 803,-191 809,-191 815,-197 815,-203 815,-203 815,-262 815,-262 815,-268 809,-274 803,-274\"/>\n",
       "<text text-anchor=\"start\" x=\"708.5\" y=\"-258.8\" font-family=\"helvetica\" font-size=\"14.00\">month ≤ 8.5</text>\n",
       "<text text-anchor=\"start\" x=\"713\" y=\"-243.8\" font-family=\"helvetica\" font-size=\"14.00\">gini = 0.48</text>\n",
       "<text text-anchor=\"start\" x=\"696.5\" y=\"-228.8\" font-family=\"helvetica\" font-size=\"14.00\">samples = 2516</text>\n",
       "<text text-anchor=\"start\" x=\"683\" y=\"-213.8\" font-family=\"helvetica\" font-size=\"14.00\">value = [1508, 1008]</text>\n",
       "<text text-anchor=\"start\" x=\"704\" y=\"-198.8\" font-family=\"helvetica\" font-size=\"14.00\">class = Down</text>\n",
       "</g>\n",
       "<!-- 32&#45;&gt;33 -->\n",
       "<g id=\"edge17\" class=\"edge\">\n",
       "<title>32&#45;&gt;33</title>\n",
       "<path fill=\"none\" stroke=\"black\" d=\"M745,-309.91C745,-301.65 745,-292.86 745,-284.3\"/>\n",
       "<polygon fill=\"black\" stroke=\"black\" points=\"748.5,-284.02 745,-274.02 741.5,-284.02 748.5,-284.02\"/>\n",
       "</g>\n",
       "<!-- 48 -->\n",
       "<g id=\"node25\" class=\"node\">\n",
       "<title>48</title>\n",
       "<path fill=\"#d9ecfa\" stroke=\"black\" d=\"M1040.5,-274C1040.5,-274 909.5,-274 909.5,-274 903.5,-274 897.5,-268 897.5,-262 897.5,-262 897.5,-203 897.5,-203 897.5,-197 903.5,-191 909.5,-191 909.5,-191 1040.5,-191 1040.5,-191 1046.5,-191 1052.5,-197 1052.5,-203 1052.5,-203 1052.5,-262 1052.5,-262 1052.5,-268 1046.5,-274 1040.5,-274\"/>\n",
       "<text text-anchor=\"start\" x=\"933\" y=\"-258.8\" font-family=\"helvetica\" font-size=\"14.00\">year ≤ 2006.5</text>\n",
       "<text text-anchor=\"start\" x=\"939.5\" y=\"-243.8\" font-family=\"helvetica\" font-size=\"14.00\">gini = 0.494</text>\n",
       "<text text-anchor=\"start\" x=\"922.5\" y=\"-228.8\" font-family=\"helvetica\" font-size=\"14.00\">samples = 44114</text>\n",
       "<text text-anchor=\"start\" x=\"905.5\" y=\"-213.8\" font-family=\"helvetica\" font-size=\"14.00\">value = [19725, 24389]</text>\n",
       "<text text-anchor=\"start\" x=\"943\" y=\"-198.8\" font-family=\"helvetica\" font-size=\"14.00\">class = Up</text>\n",
       "</g>\n",
       "<!-- 32&#45;&gt;48 -->\n",
       "<g id=\"edge24\" class=\"edge\">\n",
       "<title>32&#45;&gt;48</title>\n",
       "<path fill=\"none\" stroke=\"black\" d=\"M822.55,-311.05C843.66,-300.31 866.66,-288.61 888.24,-277.63\"/>\n",
       "<polygon fill=\"black\" stroke=\"black\" points=\"890.07,-280.63 897.4,-272.98 886.9,-274.39 890.07,-280.63\"/>\n",
       "</g>\n",
       "<!-- 34 -->\n",
       "<g id=\"node19\" class=\"node\">\n",
       "<title>34</title>\n",
       "<path fill=\"#f1b991\" stroke=\"black\" d=\"M731.5,-155C731.5,-155 630.5,-155 630.5,-155 624.5,-155 618.5,-149 618.5,-143 618.5,-143 618.5,-84 618.5,-84 618.5,-78 624.5,-72 630.5,-72 630.5,-72 731.5,-72 731.5,-72 737.5,-72 743.5,-78 743.5,-84 743.5,-84 743.5,-143 743.5,-143 743.5,-149 737.5,-155 731.5,-155\"/>\n",
       "<text text-anchor=\"start\" x=\"644.5\" y=\"-139.8\" font-family=\"helvetica\" font-size=\"14.00\">month ≤ 4.5</text>\n",
       "<text text-anchor=\"start\" x=\"645.5\" y=\"-124.8\" font-family=\"helvetica\" font-size=\"14.00\">gini = 0.426</text>\n",
       "<text text-anchor=\"start\" x=\"632.5\" y=\"-109.8\" font-family=\"helvetica\" font-size=\"14.00\">samples = 1398</text>\n",
       "<text text-anchor=\"start\" x=\"626.5\" y=\"-94.8\" font-family=\"helvetica\" font-size=\"14.00\">value = [968, 430]</text>\n",
       "<text text-anchor=\"start\" x=\"640\" y=\"-79.8\" font-family=\"helvetica\" font-size=\"14.00\">class = Down</text>\n",
       "</g>\n",
       "<!-- 33&#45;&gt;34 -->\n",
       "<g id=\"edge18\" class=\"edge\">\n",
       "<title>33&#45;&gt;34</title>\n",
       "<path fill=\"none\" stroke=\"black\" d=\"M722.8,-190.91C718.03,-182.2 712.94,-172.9 708.02,-163.89\"/>\n",
       "<polygon fill=\"black\" stroke=\"black\" points=\"711.03,-162.11 703.17,-155.02 704.89,-165.47 711.03,-162.11\"/>\n",
       "</g>\n",
       "<!-- 41 -->\n",
       "<g id=\"node22\" class=\"node\">\n",
       "<title>41</title>\n",
       "<path fill=\"#f2f9fd\" stroke=\"black\" d=\"M874.5,-155C874.5,-155 773.5,-155 773.5,-155 767.5,-155 761.5,-149 761.5,-143 761.5,-143 761.5,-84 761.5,-84 761.5,-78 767.5,-72 773.5,-72 773.5,-72 874.5,-72 874.5,-72 880.5,-72 886.5,-78 886.5,-84 886.5,-84 886.5,-143 886.5,-143 886.5,-149 880.5,-155 874.5,-155\"/>\n",
       "<text text-anchor=\"start\" x=\"783.5\" y=\"-139.8\" font-family=\"helvetica\" font-size=\"14.00\">month ≤ 10.5</text>\n",
       "<text text-anchor=\"start\" x=\"788.5\" y=\"-124.8\" font-family=\"helvetica\" font-size=\"14.00\">gini = 0.499</text>\n",
       "<text text-anchor=\"start\" x=\"775.5\" y=\"-109.8\" font-family=\"helvetica\" font-size=\"14.00\">samples = 1118</text>\n",
       "<text text-anchor=\"start\" x=\"769.5\" y=\"-94.8\" font-family=\"helvetica\" font-size=\"14.00\">value = [540, 578]</text>\n",
       "<text text-anchor=\"start\" x=\"792\" y=\"-79.8\" font-family=\"helvetica\" font-size=\"14.00\">class = Up</text>\n",
       "</g>\n",
       "<!-- 33&#45;&gt;41 -->\n",
       "<g id=\"edge21\" class=\"edge\">\n",
       "<title>33&#45;&gt;41</title>\n",
       "<path fill=\"none\" stroke=\"black\" d=\"M772.41,-190.91C778.41,-182.01 784.83,-172.51 791.03,-163.33\"/>\n",
       "<polygon fill=\"black\" stroke=\"black\" points=\"793.94,-165.27 796.64,-155.02 788.14,-161.35 793.94,-165.27\"/>\n",
       "</g>\n",
       "<!-- 35 -->\n",
       "<g id=\"node20\" class=\"node\">\n",
       "<title>35</title>\n",
       "<path fill=\"#c0c0c0\" stroke=\"black\" d=\"M686,-36C686,-36 656,-36 656,-36 650,-36 644,-30 644,-24 644,-24 644,-12 644,-12 644,-6 650,0 656,0 656,0 686,0 686,0 692,0 698,-6 698,-12 698,-12 698,-24 698,-24 698,-30 692,-36 686,-36\"/>\n",
       "<text text-anchor=\"middle\" x=\"671\" y=\"-14.3\" font-family=\"helvetica\" font-size=\"14.00\">(...)</text>\n",
       "</g>\n",
       "<!-- 34&#45;&gt;35 -->\n",
       "<g id=\"edge19\" class=\"edge\">\n",
       "<title>34&#45;&gt;35</title>\n",
       "<path fill=\"none\" stroke=\"black\" d=\"M676.64,-71.76C675.73,-63.24 674.79,-54.44 673.94,-46.53\"/>\n",
       "<polygon fill=\"black\" stroke=\"black\" points=\"677.41,-45.98 672.86,-36.41 670.44,-46.72 677.41,-45.98\"/>\n",
       "</g>\n",
       "<!-- 38 -->\n",
       "<g id=\"node21\" class=\"node\">\n",
       "<title>38</title>\n",
       "<path fill=\"#c0c0c0\" stroke=\"black\" d=\"M758,-36C758,-36 728,-36 728,-36 722,-36 716,-30 716,-24 716,-24 716,-12 716,-12 716,-6 722,0 728,0 728,0 758,0 758,0 764,0 770,-6 770,-12 770,-12 770,-24 770,-24 770,-30 764,-36 758,-36\"/>\n",
       "<text text-anchor=\"middle\" x=\"743\" y=\"-14.3\" font-family=\"helvetica\" font-size=\"14.00\">(...)</text>\n",
       "</g>\n",
       "<!-- 34&#45;&gt;38 -->\n",
       "<g id=\"edge20\" class=\"edge\">\n",
       "<title>34&#45;&gt;38</title>\n",
       "<path fill=\"none\" stroke=\"black\" d=\"M708.01,-71.76C714.05,-62.65 720.3,-53.24 725.81,-44.92\"/>\n",
       "<polygon fill=\"black\" stroke=\"black\" points=\"728.85,-46.67 731.46,-36.41 723.02,-42.81 728.85,-46.67\"/>\n",
       "</g>\n",
       "<!-- 42 -->\n",
       "<g id=\"node23\" class=\"node\">\n",
       "<title>42</title>\n",
       "<path fill=\"#c0c0c0\" stroke=\"black\" d=\"M834,-36C834,-36 804,-36 804,-36 798,-36 792,-30 792,-24 792,-24 792,-12 792,-12 792,-6 798,0 804,0 804,0 834,0 834,0 840,0 846,-6 846,-12 846,-12 846,-24 846,-24 846,-30 840,-36 834,-36\"/>\n",
       "<text text-anchor=\"middle\" x=\"819\" y=\"-14.3\" font-family=\"helvetica\" font-size=\"14.00\">(...)</text>\n",
       "</g>\n",
       "<!-- 41&#45;&gt;42 -->\n",
       "<g id=\"edge22\" class=\"edge\">\n",
       "<title>41&#45;&gt;42</title>\n",
       "<path fill=\"none\" stroke=\"black\" d=\"M821.82,-71.76C821.37,-63.24 820.9,-54.44 820.47,-46.53\"/>\n",
       "<polygon fill=\"black\" stroke=\"black\" points=\"823.96,-46.2 819.93,-36.41 816.97,-46.58 823.96,-46.2\"/>\n",
       "</g>\n",
       "<!-- 45 -->\n",
       "<g id=\"node24\" class=\"node\">\n",
       "<title>45</title>\n",
       "<path fill=\"#c0c0c0\" stroke=\"black\" d=\"M906,-36C906,-36 876,-36 876,-36 870,-36 864,-30 864,-24 864,-24 864,-12 864,-12 864,-6 870,0 876,0 876,0 906,0 906,0 912,0 918,-6 918,-12 918,-12 918,-24 918,-24 918,-30 912,-36 906,-36\"/>\n",
       "<text text-anchor=\"middle\" x=\"891\" y=\"-14.3\" font-family=\"helvetica\" font-size=\"14.00\">(...)</text>\n",
       "</g>\n",
       "<!-- 41&#45;&gt;45 -->\n",
       "<g id=\"edge23\" class=\"edge\">\n",
       "<title>41&#45;&gt;45</title>\n",
       "<path fill=\"none\" stroke=\"black\" d=\"M853.19,-71.76C859.79,-62.56 866.61,-53.04 872.61,-44.66\"/>\n",
       "<polygon fill=\"black\" stroke=\"black\" points=\"875.55,-46.57 878.53,-36.41 869.86,-42.49 875.55,-46.57\"/>\n",
       "</g>\n",
       "<!-- 49 -->\n",
       "<g id=\"node26\" class=\"node\">\n",
       "<title>49</title>\n",
       "<path fill=\"#b3d9f5\" stroke=\"black\" d=\"M1033,-155C1033,-155 917,-155 917,-155 911,-155 905,-149 905,-143 905,-143 905,-84 905,-84 905,-78 911,-72 917,-72 917,-72 1033,-72 1033,-72 1039,-72 1045,-78 1045,-84 1045,-84 1045,-143 1045,-143 1045,-149 1039,-155 1033,-155\"/>\n",
       "<text text-anchor=\"start\" x=\"938.5\" y=\"-139.8\" font-family=\"helvetica\" font-size=\"14.00\">month ≤ 8.5</text>\n",
       "<text text-anchor=\"start\" x=\"939.5\" y=\"-124.8\" font-family=\"helvetica\" font-size=\"14.00\">gini = 0.472</text>\n",
       "<text text-anchor=\"start\" x=\"922.5\" y=\"-109.8\" font-family=\"helvetica\" font-size=\"14.00\">samples = 10831</text>\n",
       "<text text-anchor=\"start\" x=\"913\" y=\"-94.8\" font-family=\"helvetica\" font-size=\"14.00\">value = [4129, 6702]</text>\n",
       "<text text-anchor=\"start\" x=\"943\" y=\"-79.8\" font-family=\"helvetica\" font-size=\"14.00\">class = Up</text>\n",
       "</g>\n",
       "<!-- 48&#45;&gt;49 -->\n",
       "<g id=\"edge25\" class=\"edge\">\n",
       "<title>48&#45;&gt;49</title>\n",
       "<path fill=\"none\" stroke=\"black\" d=\"M975,-190.91C975,-182.65 975,-173.86 975,-165.3\"/>\n",
       "<polygon fill=\"black\" stroke=\"black\" points=\"978.5,-165.02 975,-155.02 971.5,-165.02 978.5,-165.02\"/>\n",
       "</g>\n",
       "<!-- 56 -->\n",
       "<g id=\"node29\" class=\"node\">\n",
       "<title>56</title>\n",
       "<path fill=\"#e8f3fc\" stroke=\"black\" d=\"M1206.5,-155C1206.5,-155 1075.5,-155 1075.5,-155 1069.5,-155 1063.5,-149 1063.5,-143 1063.5,-143 1063.5,-84 1063.5,-84 1063.5,-78 1069.5,-72 1075.5,-72 1075.5,-72 1206.5,-72 1206.5,-72 1212.5,-72 1218.5,-78 1218.5,-84 1218.5,-84 1218.5,-143 1218.5,-143 1218.5,-149 1212.5,-155 1206.5,-155\"/>\n",
       "<text text-anchor=\"start\" x=\"1099\" y=\"-139.8\" font-family=\"helvetica\" font-size=\"14.00\">year ≤ 2008.5</text>\n",
       "<text text-anchor=\"start\" x=\"1105.5\" y=\"-124.8\" font-family=\"helvetica\" font-size=\"14.00\">gini = 0.498</text>\n",
       "<text text-anchor=\"start\" x=\"1088.5\" y=\"-109.8\" font-family=\"helvetica\" font-size=\"14.00\">samples = 33283</text>\n",
       "<text text-anchor=\"start\" x=\"1071.5\" y=\"-94.8\" font-family=\"helvetica\" font-size=\"14.00\">value = [15596, 17687]</text>\n",
       "<text text-anchor=\"start\" x=\"1109\" y=\"-79.8\" font-family=\"helvetica\" font-size=\"14.00\">class = Up</text>\n",
       "</g>\n",
       "<!-- 48&#45;&gt;56 -->\n",
       "<g id=\"edge28\" class=\"edge\">\n",
       "<title>48&#45;&gt;56</title>\n",
       "<path fill=\"none\" stroke=\"black\" d=\"M1032.59,-190.91C1046.37,-181.2 1061.18,-170.76 1075.29,-160.81\"/>\n",
       "<polygon fill=\"black\" stroke=\"black\" points=\"1077.35,-163.64 1083.51,-155.02 1073.32,-157.92 1077.35,-163.64\"/>\n",
       "</g>\n",
       "<!-- 50 -->\n",
       "<g id=\"node27\" class=\"node\">\n",
       "<title>50</title>\n",
       "<path fill=\"#c0c0c0\" stroke=\"black\" d=\"M984,-36C984,-36 954,-36 954,-36 948,-36 942,-30 942,-24 942,-24 942,-12 942,-12 942,-6 948,0 954,0 954,0 984,0 984,0 990,0 996,-6 996,-12 996,-12 996,-24 996,-24 996,-30 990,-36 984,-36\"/>\n",
       "<text text-anchor=\"middle\" x=\"969\" y=\"-14.3\" font-family=\"helvetica\" font-size=\"14.00\">(...)</text>\n",
       "</g>\n",
       "<!-- 49&#45;&gt;50 -->\n",
       "<g id=\"edge26\" class=\"edge\">\n",
       "<title>49&#45;&gt;50</title>\n",
       "<path fill=\"none\" stroke=\"black\" d=\"M972.39,-71.76C971.84,-63.24 971.27,-54.44 970.77,-46.53\"/>\n",
       "<polygon fill=\"black\" stroke=\"black\" points=\"974.25,-46.16 970.12,-36.41 967.26,-46.61 974.25,-46.16\"/>\n",
       "</g>\n",
       "<!-- 53 -->\n",
       "<g id=\"node28\" class=\"node\">\n",
       "<title>53</title>\n",
       "<path fill=\"#c0c0c0\" stroke=\"black\" d=\"M1056,-36C1056,-36 1026,-36 1026,-36 1020,-36 1014,-30 1014,-24 1014,-24 1014,-12 1014,-12 1014,-6 1020,0 1026,0 1026,0 1056,0 1056,0 1062,0 1068,-6 1068,-12 1068,-12 1068,-24 1068,-24 1068,-30 1062,-36 1056,-36\"/>\n",
       "<text text-anchor=\"middle\" x=\"1041\" y=\"-14.3\" font-family=\"helvetica\" font-size=\"14.00\">(...)</text>\n",
       "</g>\n",
       "<!-- 49&#45;&gt;53 -->\n",
       "<g id=\"edge27\" class=\"edge\">\n",
       "<title>49&#45;&gt;53</title>\n",
       "<path fill=\"none\" stroke=\"black\" d=\"M1003.76,-71.76C1010.25,-62.56 1016.97,-53.04 1022.89,-44.66\"/>\n",
       "<polygon fill=\"black\" stroke=\"black\" points=\"1025.81,-46.59 1028.71,-36.41 1020.09,-42.56 1025.81,-46.59\"/>\n",
       "</g>\n",
       "<!-- 57 -->\n",
       "<g id=\"node30\" class=\"node\">\n",
       "<title>57</title>\n",
       "<path fill=\"#c0c0c0\" stroke=\"black\" d=\"M1142,-36C1142,-36 1112,-36 1112,-36 1106,-36 1100,-30 1100,-24 1100,-24 1100,-12 1100,-12 1100,-6 1106,0 1112,0 1112,0 1142,0 1142,0 1148,0 1154,-6 1154,-12 1154,-12 1154,-24 1154,-24 1154,-30 1148,-36 1142,-36\"/>\n",
       "<text text-anchor=\"middle\" x=\"1127\" y=\"-14.3\" font-family=\"helvetica\" font-size=\"14.00\">(...)</text>\n",
       "</g>\n",
       "<!-- 56&#45;&gt;57 -->\n",
       "<g id=\"edge29\" class=\"edge\">\n",
       "<title>56&#45;&gt;57</title>\n",
       "<path fill=\"none\" stroke=\"black\" d=\"M1134.9,-71.76C1133.62,-63.24 1132.31,-54.44 1131.12,-46.53\"/>\n",
       "<polygon fill=\"black\" stroke=\"black\" points=\"1134.55,-45.78 1129.61,-36.41 1127.63,-46.81 1134.55,-45.78\"/>\n",
       "</g>\n",
       "<!-- 60 -->\n",
       "<g id=\"node31\" class=\"node\">\n",
       "<title>60</title>\n",
       "<path fill=\"#c0c0c0\" stroke=\"black\" d=\"M1214,-36C1214,-36 1184,-36 1184,-36 1178,-36 1172,-30 1172,-24 1172,-24 1172,-12 1172,-12 1172,-6 1178,0 1184,0 1184,0 1214,0 1214,0 1220,0 1226,-6 1226,-12 1226,-12 1226,-24 1226,-24 1226,-30 1220,-36 1214,-36\"/>\n",
       "<text text-anchor=\"middle\" x=\"1199\" y=\"-14.3\" font-family=\"helvetica\" font-size=\"14.00\">(...)</text>\n",
       "</g>\n",
       "<!-- 56&#45;&gt;60 -->\n",
       "<g id=\"edge30\" class=\"edge\">\n",
       "<title>56&#45;&gt;60</title>\n",
       "<path fill=\"none\" stroke=\"black\" d=\"M1166.27,-71.76C1171.92,-62.65 1177.76,-53.24 1182.92,-44.92\"/>\n",
       "<polygon fill=\"black\" stroke=\"black\" points=\"1185.91,-46.75 1188.2,-36.41 1179.96,-43.06 1185.91,-46.75\"/>\n",
       "</g>\n",
       "</g>\n",
       "</svg>\n"
      ],
      "text/plain": [
       "<graphviz.files.Source at 0x7f0e44bb0f40>"
      ]
     },
     "execution_count": 60,
     "metadata": {},
     "output_type": "execute_result"
    }
   ],
   "source": [
    "out_file = results_path / 'clf_tree.dot'\n",
    "dot_data = export_graphviz(clf,\n",
    "                           out_file=out_file.as_posix(),\n",
    "                           feature_names=X.columns,\n",
    "                           class_names=['Down', 'Up'],\n",
    "                           max_depth=3,\n",
    "                           filled=True,\n",
    "                           rounded=True,\n",
    "                           special_characters=True)\n",
    "if out_file is not None:\n",
    "    dot_data = Path(out_file).read_text()\n",
    "\n",
    "graphviz.Source(dot_data)"
   ]
  },
  {
   "cell_type": "markdown",
   "metadata": {},
   "source": [
    "### Evaluate Test Set"
   ]
  },
  {
   "cell_type": "markdown",
   "metadata": {},
   "source": [
    "To evaluate the predictive accuracy of our first classification tree, we will use our test set to generate predicted class probabilities. \n",
    "\n",
    "The `.predict_proba()` method produces one probability for each class. In the binary class, these probabilities are complementary and sum to 1, so we only need the value for the positive class. "
   ]
  },
  {
   "cell_type": "code",
   "execution_count": 61,
   "metadata": {
    "ExecuteTime": {
     "end_time": "2021-02-23T20:46:34.787806Z",
     "start_time": "2021-02-23T20:46:34.778677Z"
    }
   },
   "outputs": [],
   "source": [
    "y_score = clf.predict_proba(X=X_test)[:, 1]"
   ]
  },
  {
   "cell_type": "markdown",
   "metadata": {},
   "source": [
    "To evaluate the generalization error, we will use the area under the curve based on the receiver-operating characteristic that we introduced in Chapter 6, The Machine Learning Process. The result indicates a significant improvement above and beyond the baseline value of 0.5 for a random prediction:"
   ]
  },
  {
   "cell_type": "code",
   "execution_count": 62,
   "metadata": {
    "ExecuteTime": {
     "end_time": "2021-02-23T20:46:34.799495Z",
     "start_time": "2021-02-23T20:46:34.789074Z"
    }
   },
   "outputs": [
    {
     "data": {
      "text/plain": [
       "0.6162304070004103"
      ]
     },
     "execution_count": 62,
     "metadata": {},
     "output_type": "execute_result"
    }
   ],
   "source": [
    "roc_auc_score(y_score=y_score, y_true=y_test)"
   ]
  },
  {
   "cell_type": "markdown",
   "metadata": {},
   "source": [
    "### Print Decision Path"
   ]
  },
  {
   "cell_type": "markdown",
   "metadata": {},
   "source": [
    "Inspired by https://stackoverflow.com/questions/20224526/how-to-extract-the-decision-rules-from-scikit-learn-decision-tree"
   ]
  },
  {
   "cell_type": "code",
   "execution_count": 63,
   "metadata": {
    "ExecuteTime": {
     "end_time": "2021-02-23T20:46:34.806784Z",
     "start_time": "2021-02-23T20:46:34.801043Z"
    }
   },
   "outputs": [
    {
     "name": "stdout",
     "output_type": "stream",
     "text": [
      "Help on class Tree in module sklearn.tree._tree:\n",
      "\n",
      "class Tree(builtins.object)\n",
      " |  Array-based representation of a binary decision tree.\n",
      " |  \n",
      " |  The binary tree is represented as a number of parallel arrays. The i-th\n",
      " |  element of each array holds information about the node `i`. Node 0 is the\n",
      " |  tree's root. You can find a detailed description of all arrays in\n",
      " |  `_tree.pxd`. NOTE: Some of the arrays only apply to either leaves or split\n",
      " |  nodes, resp. In this case the values of nodes of the other type are\n",
      " |  arbitrary!\n",
      " |  \n",
      " |  Attributes\n",
      " |  ----------\n",
      " |  node_count : int\n",
      " |      The number of nodes (internal nodes + leaves) in the tree.\n",
      " |  \n",
      " |  capacity : int\n",
      " |      The current capacity (i.e., size) of the arrays, which is at least as\n",
      " |      great as `node_count`.\n",
      " |  \n",
      " |  max_depth : int\n",
      " |      The depth of the tree, i.e. the maximum depth of its leaves.\n",
      " |  \n",
      " |  children_left : array of int, shape [node_count]\n",
      " |      children_left[i] holds the node id of the left child of node i.\n",
      " |      For leaves, children_left[i] == TREE_LEAF. Otherwise,\n",
      " |      children_left[i] > i. This child handles the case where\n",
      " |      X[:, feature[i]] <= threshold[i].\n",
      " |  \n",
      " |  children_right : array of int, shape [node_count]\n",
      " |      children_right[i] holds the node id of the right child of node i.\n",
      " |      For leaves, children_right[i] == TREE_LEAF. Otherwise,\n",
      " |      children_right[i] > i. This child handles the case where\n",
      " |      X[:, feature[i]] > threshold[i].\n",
      " |  \n",
      " |  feature : array of int, shape [node_count]\n",
      " |      feature[i] holds the feature to split on, for the internal node i.\n",
      " |  \n",
      " |  threshold : array of double, shape [node_count]\n",
      " |      threshold[i] holds the threshold for the internal node i.\n",
      " |  \n",
      " |  value : array of double, shape [node_count, n_outputs, max_n_classes]\n",
      " |      Contains the constant prediction value of each node.\n",
      " |  \n",
      " |  impurity : array of double, shape [node_count]\n",
      " |      impurity[i] holds the impurity (i.e., the value of the splitting\n",
      " |      criterion) at node i.\n",
      " |  \n",
      " |  n_node_samples : array of int, shape [node_count]\n",
      " |      n_node_samples[i] holds the number of training samples reaching node i.\n",
      " |  \n",
      " |  weighted_n_node_samples : array of int, shape [node_count]\n",
      " |      weighted_n_node_samples[i] holds the weighted number of training samples\n",
      " |      reaching node i.\n",
      " |  \n",
      " |  Methods defined here:\n",
      " |  \n",
      " |  __getstate__(...)\n",
      " |      Getstate re-implementation, for pickling.\n",
      " |  \n",
      " |  __reduce__(...)\n",
      " |      Reduce re-implementation, for pickling.\n",
      " |  \n",
      " |  __setstate__(...)\n",
      " |      Setstate re-implementation, for unpickling.\n",
      " |  \n",
      " |  apply(...)\n",
      " |      Finds the terminal region (=leaf node) for each sample in X.\n",
      " |  \n",
      " |  compute_feature_importances(...)\n",
      " |      Computes the importance of each feature (aka variable).\n",
      " |  \n",
      " |  compute_partial_dependence(...)\n",
      " |      Partial dependence of the response on the ``target_feature`` set.\n",
      " |      \n",
      " |      For each sample in ``X`` a tree traversal is performed.\n",
      " |      Each traversal starts from the root with weight 1.0.\n",
      " |      \n",
      " |      At each non-leaf node that splits on a target feature, either\n",
      " |      the left child or the right child is visited based on the feature\n",
      " |      value of the current sample, and the weight is not modified.\n",
      " |      At each non-leaf node that splits on a complementary feature,\n",
      " |      both children are visited and the weight is multiplied by the fraction\n",
      " |      of training samples which went to each child.\n",
      " |      \n",
      " |      At each leaf, the value of the node is multiplied by the current\n",
      " |      weight (weights sum to 1 for all visited terminal nodes).\n",
      " |      \n",
      " |      Parameters\n",
      " |      ----------\n",
      " |      X : view on 2d ndarray, shape (n_samples, n_target_features)\n",
      " |          The grid points on which the partial dependence should be\n",
      " |          evaluated.\n",
      " |      target_features : view on 1d ndarray, shape (n_target_features)\n",
      " |          The set of target features for which the partial dependence\n",
      " |          should be evaluated.\n",
      " |      out : view on 1d ndarray, shape (n_samples)\n",
      " |          The value of the partial dependence function on each grid\n",
      " |          point.\n",
      " |  \n",
      " |  decision_path(...)\n",
      " |      Finds the decision path (=node) for each sample in X.\n",
      " |  \n",
      " |  predict(...)\n",
      " |      Predict target for X.\n",
      " |  \n",
      " |  ----------------------------------------------------------------------\n",
      " |  Static methods defined here:\n",
      " |  \n",
      " |  __new__(*args, **kwargs) from builtins.type\n",
      " |      Create and return a new object.  See help(type) for accurate signature.\n",
      " |  \n",
      " |  ----------------------------------------------------------------------\n",
      " |  Data descriptors defined here:\n",
      " |  \n",
      " |  capacity\n",
      " |  \n",
      " |  children_left\n",
      " |  \n",
      " |  children_right\n",
      " |  \n",
      " |  feature\n",
      " |  \n",
      " |  impurity\n",
      " |  \n",
      " |  max_depth\n",
      " |  \n",
      " |  max_n_classes\n",
      " |  \n",
      " |  n_classes\n",
      " |  \n",
      " |  n_features\n",
      " |  \n",
      " |  n_leaves\n",
      " |  \n",
      " |  n_node_samples\n",
      " |  \n",
      " |  n_outputs\n",
      " |  \n",
      " |  node_count\n",
      " |  \n",
      " |  threshold\n",
      " |  \n",
      " |  value\n",
      " |  \n",
      " |  weighted_n_node_samples\n",
      " |  \n",
      " |  ----------------------------------------------------------------------\n",
      " |  Data and other attributes defined here:\n",
      " |  \n",
      " |  __pyx_vtable__ = <capsule object NULL>\n",
      "\n"
     ]
    }
   ],
   "source": [
    "from sklearn.tree._tree import Tree\n",
    "help(Tree)"
   ]
  },
  {
   "cell_type": "code",
   "execution_count": 64,
   "metadata": {
    "ExecuteTime": {
     "end_time": "2021-02-23T20:46:34.823955Z",
     "start_time": "2021-02-23T20:46:34.808159Z"
    }
   },
   "outputs": [],
   "source": [
    "def tree_to_code(tree, feature_names):\n",
    "    if isinstance(tree, DecisionTreeClassifier):\n",
    "        model = 'clf'\n",
    "    elif isinstance(tree, DecisionTreeRegressor):\n",
    "        model = 'reg'\n",
    "    else:\n",
    "        raise ValueError('Need Regression or Classification Tree')\n",
    "        \n",
    "    tree_ = tree.tree_\n",
    "    feature_name = [\n",
    "        feature_names[i] if i != _tree.TREE_UNDEFINED else \"undefined!\"\n",
    "        for i in tree_.feature\n",
    "    ]\n",
    "    print(\"def tree({}):\".format(\", \".join(feature_names)))\n",
    "\n",
    "    def recurse(node, depth):\n",
    "        indent = \"  \" * depth\n",
    "        if tree_.feature[node] != _tree.TREE_UNDEFINED:\n",
    "            name = feature_name[node]\n",
    "            threshold = tree_.threshold[node]\n",
    "            print(indent, f'if {name} <= {threshold:.2%}')\n",
    "            recurse(tree_.children_left[node], depth + 1)\n",
    "            print(indent, f'else:  # if {name} > {threshold:.2%}')\n",
    "            recurse(tree_.children_right[node], depth + 1)\n",
    "        else:\n",
    "            pred = tree_.value[node][0]\n",
    "            val = pred[1]/sum(pred) if model == 'clf' else pred[0]\n",
    "            print(indent, f'return {val:.2%}')\n",
    "    recurse(0, 1)"
   ]
  },
  {
   "cell_type": "code",
   "execution_count": 65,
   "metadata": {
    "ExecuteTime": {
     "end_time": "2021-02-23T20:46:34.852209Z",
     "start_time": "2021-02-23T20:46:34.825114Z"
    }
   },
   "outputs": [
    {
     "name": "stdout",
     "output_type": "stream",
     "text": [
      "def tree(t-1, t-2):\n",
      "   if t-1 <= -14.64%\n",
      "     if t-2 <= -17.93%\n",
      "       return 55.84%\n",
      "     else:  # if t-2 > -17.93%\n",
      "       if t-1 <= -26.16%\n",
      "         return 41.08%\n",
      "       else:  # if t-1 > -26.16%\n",
      "         if t-1 <= -26.14%\n",
      "           return 100.00%\n",
      "         else:  # if t-1 > -26.14%\n",
      "           if t-1 <= -14.66%\n",
      "             return 49.09%\n",
      "           else:  # if t-1 > -14.66%\n",
      "             return 0.00%\n",
      "   else:  # if t-1 > -14.64%\n",
      "     if t-2 <= 18.14%\n",
      "       if t-2 <= -14.83%\n",
      "         if t-2 <= -14.85%\n",
      "           if t-1 <= -14.31%\n",
      "             return 77.78%\n",
      "           else:  # if t-1 > -14.31%\n",
      "             return 52.24%\n",
      "         else:  # if t-2 > -14.85%\n",
      "           return 0.00%\n",
      "       else:  # if t-2 > -14.83%\n",
      "         if t-1 <= -6.59%\n",
      "           if t-2 <= -6.04%\n",
      "             return 58.58%\n",
      "           else:  # if t-2 > -6.04%\n",
      "             return 53.78%\n",
      "         else:  # if t-1 > -6.59%\n",
      "           if t-1 <= 2.68%\n",
      "             return 58.02%\n",
      "           else:  # if t-1 > 2.68%\n",
      "             return 56.44%\n",
      "     else:  # if t-2 > 18.14%\n",
      "       if t-1 <= 14.36%\n",
      "         if t-1 <= -4.91%\n",
      "           return 57.74%\n",
      "         else:  # if t-1 > -4.91%\n",
      "           if t-1 <= -1.17%\n",
      "             return 45.69%\n",
      "           else:  # if t-1 > -1.17%\n",
      "             return 52.47%\n",
      "       else:  # if t-1 > 14.36%\n",
      "         return 41.73%\n"
     ]
    }
   ],
   "source": [
    "tree_to_code(clf_tree_t2, X2.columns)"
   ]
  },
  {
   "cell_type": "markdown",
   "metadata": {},
   "source": [
    "## Overfitting, Regularization & Parameter Tuning"
   ]
  },
  {
   "cell_type": "markdown",
   "metadata": {},
   "source": [
    "Decision trees have a strong tendency to overfit, especially when a dataset has a large number of features relative to the number of samples. As discussed in previous chapters, overfitting increases the prediction error because the model does not only learn the signal contained in the training data, but also the noise.\n",
    "There are several ways to address the risk of overfitting."
   ]
  },
  {
   "cell_type": "markdown",
   "metadata": {},
   "source": [
    "Decision trees provide several regularization hyperparameters to limit the growth of a tree and the associated complexity. While every split increases the number of nodes, it also reduces the number of samples available per node to support a prediction. For each additional level, twice the number of samples is needed to populate the new nodes with the same sample density. "
   ]
  },
  {
   "cell_type": "markdown",
   "metadata": {},
   "source": [
    "### Decision Tree Parameters"
   ]
  },
  {
   "cell_type": "markdown",
   "metadata": {},
   "source": [
    "The following table lists key parameters available for this purpose in the sklearn decision tree implementation. After introducing the most important parameters, we will illustrate how to use cross-validation to optimize the hyperparameter settings with respect to the bias-variance tradeoff and lower prediction errors:"
   ]
  },
  {
   "cell_type": "markdown",
   "metadata": {},
   "source": [
    "| Parameter                | Default | Options                                                                                                                                                               | Description                                                                                                                                                                                                             |\n",
    "|--------------------------|---------|-----------------------------------------------------------------------------------------------------------------------------------------------------------------------|-------------------------------------------------------------------------------------------------------------------------------------------------------------------------------------------------------------------------|\n",
    "| criterion                | gini    | Regression: MSE, MAE Classification: Gini impurity, Cross Entropy                                                                                                     | Metric to evaluate split quality.                                                                                                                                                                                       |\n",
    "| splitter                 | best    | best, random                                                                                                                                                          | How to choose the split at each node. Supported strategies are “best” to choose the best split and “random” to choose the best random split.                                                                            |\n",
    "| max_depth                | None    | int                                                                                                                                                                   | Max # of levels in tree. Split nodes until max_depth is reached or all leaves are pure or all leaves contain less than min_samples_split samples.                                                                       |\n",
    "| max_features             | None    | None: max_features=n_features; int; float (fraction): int(max_features * n_features)  auto, sqrt: max_features=sqrt(n_features). log2: max_features=log2(n_features). | # of features to consider when evaluating split                                                                                                                                                                         |\n",
    "| max_leaf_nodes           | None    | None: unlimited # of leaf nodes int                                                                                                                                   | Continue to split nodes that reduce relative impurity the most until reaching max_leaf_nodes.                                                                                                                           |\n",
    "| min_impurity_decrease    | 0       | float                                                                                                                                                                 | Split node if impurity decreases by at least this value.                                                                                                                                                                |\n",
    "| min_samples_leaf         | 1       | int; float (as percentage of N)                                                                                                                                       | Minimum # of samples to be at a leaf node. A split will only be considered if there are at least min_samples_leaf training samples in each of the left and right branches. May smoothen the model, esp. for regression. |\n",
    "| min_samples_split        | 2       | int; float (as percentage of N)                                                                                                                                       | The minimum number of samples required to split an internal node:                                                                                                                                                       |\n",
    "| min_weight_fraction_leaf | 0       | NA                                                                                                                                                                    | The minimum weighted fraction of the sum total of weights (of all the input samples) required to be at a leaf node. Samples have equal weight when sample_weight is not provided (in fit method).                       |\n",
    "| class_weight             | None    | balanced: inversely proportional to class frequencies dict: {class_label: weight} list of dicts (for multi-output)                                                    | Weights associated with classes                                                                                                                                                                                         |"
   ]
  },
  {
   "cell_type": "markdown",
   "metadata": {},
   "source": [
    "The `max_depth` parameter imposes a hard limit on the number of consecutive splits and represents the most straightforward way to cap the growth of a tree.\n",
    "\n",
    "The m`in_samples_split` and `min_samples_leaf` parameters are alternative, data-driven ways to limit the growth of a tree. Rather than imposing a hard limit on the number of consecutive splits, these parameters control the minimum number of samples required to further split the data. The latter guarantees a certain number of samples per leaf, while the former can create very small leaves if a split results in a very uneven distribution. Small parameter values facilitate overfitting, while a high number may prevent the tree from learning the signal in the data. \n",
    "\n",
    "The default values are often quite low, and you should use cross-validation to explore a range of potential values. You can also use a float to indicate a percentage as opposed to an absolute number. "
   ]
  },
  {
   "cell_type": "markdown",
   "metadata": {},
   "source": [
    "### Cross-validation parameters"
   ]
  },
  {
   "cell_type": "code",
   "execution_count": 66,
   "metadata": {
    "ExecuteTime": {
     "end_time": "2021-02-23T20:46:34.861484Z",
     "start_time": "2021-02-23T20:46:34.853436Z"
    }
   },
   "outputs": [],
   "source": [
    "n_splits = 10\n",
    "train_period_length = 60\n",
    "test_period_length = 6\n",
    "lookahead = 1\n",
    "\n",
    "cv = MultipleTimeSeriesCV(n_splits=n_splits,\n",
    "                          train_period_length=train_period_length,\n",
    "                          test_period_length=test_period_length,\n",
    "                          lookahead=lookahead)"
   ]
  },
  {
   "cell_type": "code",
   "execution_count": 67,
   "metadata": {
    "ExecuteTime": {
     "end_time": "2021-02-23T20:46:34.870251Z",
     "start_time": "2021-02-23T20:46:34.862679Z"
    }
   },
   "outputs": [],
   "source": [
    "max_depths = range(1, 16)"
   ]
  },
  {
   "cell_type": "markdown",
   "metadata": {},
   "source": [
    "### Finding the best trees using GridSearchCV"
   ]
  },
  {
   "cell_type": "markdown",
   "metadata": {},
   "source": [
    "scikit-learn provides a method to define ranges of values for multiple hyperparameters. It automates the process of cross-validating the various combinations of these parameter values to identify the optimal configuration. Let's walk through the process of automatically tuning your model."
   ]
  },
  {
   "cell_type": "markdown",
   "metadata": {},
   "source": [
    "#### Define parameter grid"
   ]
  },
  {
   "cell_type": "markdown",
   "metadata": {},
   "source": [
    "The first step is to define a dictionary where the keywords name the hyperparameters, and the values list the parameter settings to be tested:"
   ]
  },
  {
   "cell_type": "code",
   "execution_count": 68,
   "metadata": {
    "ExecuteTime": {
     "end_time": "2021-02-23T20:46:34.878507Z",
     "start_time": "2021-02-23T20:46:34.871295Z"
    }
   },
   "outputs": [],
   "source": [
    "param_grid = {'max_depth': [2, 3, 4, 5, 6, 7, 8, 10, 12, 15],\n",
    "              'min_samples_leaf': [5, 25, 50, 100],\n",
    "              'max_features': ['sqrt', 'auto']}"
   ]
  },
  {
   "cell_type": "markdown",
   "metadata": {},
   "source": [
    "#### Classification Tree"
   ]
  },
  {
   "cell_type": "markdown",
   "metadata": {},
   "source": [
    "Then, we instantiate a model object:"
   ]
  },
  {
   "cell_type": "code",
   "execution_count": 69,
   "metadata": {
    "ExecuteTime": {
     "end_time": "2021-02-23T20:46:34.886628Z",
     "start_time": "2021-02-23T20:46:34.879845Z"
    }
   },
   "outputs": [],
   "source": [
    "clf = DecisionTreeClassifier(random_state=42)"
   ]
  },
  {
   "cell_type": "markdown",
   "metadata": {},
   "source": [
    "Now we instantiate the GridSearchCV object, providing the estimator object and parameter grid, as well as a scoring method and cross-validation choice to the initialization method. We'll use an object of our custom OneStepTimeSeriesSplit class, initialized to use ten folds for the cv parameter, and set the scoring to the roc_auc metric. We can parallelize the search using the n_jobs parameter and automatically obtain a trained model that uses the optimal hyperparameters by setting `refit=True`."
   ]
  },
  {
   "cell_type": "code",
   "execution_count": 70,
   "metadata": {
    "ExecuteTime": {
     "end_time": "2021-02-23T20:46:34.895019Z",
     "start_time": "2021-02-23T20:46:34.887928Z"
    }
   },
   "outputs": [],
   "source": [
    "gridsearch_clf = GridSearchCV(estimator=clf,\n",
    "                          param_grid=param_grid,\n",
    "                          scoring='roc_auc',\n",
    "                          n_jobs=-1,\n",
    "                          cv=cv,\n",
    "                          refit=True,\n",
    "                          return_train_score=True)"
   ]
  },
  {
   "cell_type": "markdown",
   "metadata": {},
   "source": [
    "With all settings in place, we can fit GridSearchCV just like any other model:"
   ]
  },
  {
   "cell_type": "code",
   "execution_count": 71,
   "metadata": {
    "ExecuteTime": {
     "end_time": "2021-02-23T20:46:53.287807Z",
     "start_time": "2021-02-23T20:46:34.896309Z"
    }
   },
   "outputs": [
    {
     "data": {
      "text/plain": [
       "GridSearchCV(cv=<utils.MultipleTimeSeriesCV object at 0x7f0e4376ce80>,\n",
       "             estimator=DecisionTreeClassifier(random_state=42), n_jobs=-1,\n",
       "             param_grid={'max_depth': [2, 3, 4, 5, 6, 7, 8, 10, 12, 15],\n",
       "                         'max_features': ['sqrt', 'auto'],\n",
       "                         'min_samples_leaf': [5, 25, 50, 100]},\n",
       "             return_train_score=True, scoring='roc_auc')"
      ]
     },
     "execution_count": 71,
     "metadata": {},
     "output_type": "execute_result"
    }
   ],
   "source": [
    "gridsearch_clf.fit(X=X, y=y_binary)"
   ]
  },
  {
   "cell_type": "markdown",
   "metadata": {},
   "source": [
    "The training process produces some new attributes for our GridSearchCV object, most importantly the information about the optimal settings and the best cross-validation score (now using the proper setup that avoids lookahead bias).\n",
    "\n",
    "Setting `max_depth` to 10, `min_samples_leaf` to 750, and randomly selecting only a number corresponding to the square root of the total number of features when deciding on a split, produces the best results, with an AUC of 0.532:"
   ]
  },
  {
   "cell_type": "code",
   "execution_count": 72,
   "metadata": {
    "ExecuteTime": {
     "end_time": "2021-02-23T20:46:53.293293Z",
     "start_time": "2021-02-23T20:46:53.289246Z"
    }
   },
   "outputs": [
    {
     "data": {
      "text/plain": [
       "{'max_depth': 7, 'max_features': 'sqrt', 'min_samples_leaf': 5}"
      ]
     },
     "execution_count": 72,
     "metadata": {},
     "output_type": "execute_result"
    }
   ],
   "source": [
    "gridsearch_clf.best_params_"
   ]
  },
  {
   "cell_type": "code",
   "execution_count": 73,
   "metadata": {
    "ExecuteTime": {
     "end_time": "2021-02-23T20:46:53.304298Z",
     "start_time": "2021-02-23T20:46:53.295988Z"
    }
   },
   "outputs": [
    {
     "data": {
      "text/plain": [
       "0.5322437613449535"
      ]
     },
     "execution_count": 73,
     "metadata": {},
     "output_type": "execute_result"
    }
   ],
   "source": [
    "gridsearch_clf.best_score_"
   ]
  },
  {
   "cell_type": "markdown",
   "metadata": {},
   "source": [
    "#### Define Custom IC score"
   ]
  },
  {
   "cell_type": "code",
   "execution_count": 74,
   "metadata": {
    "ExecuteTime": {
     "end_time": "2021-02-23T20:46:53.312057Z",
     "start_time": "2021-02-23T20:46:53.305920Z"
    }
   },
   "outputs": [],
   "source": [
    "def rank_correl(y, y_pred):\n",
    "    return spearmanr(y, y_pred)[0]\n",
    "ic = make_scorer(rank_correl)"
   ]
  },
  {
   "cell_type": "markdown",
   "metadata": {},
   "source": [
    "#### Regression Tree"
   ]
  },
  {
   "cell_type": "code",
   "execution_count": 75,
   "metadata": {
    "ExecuteTime": {
     "end_time": "2021-02-23T20:46:53.320963Z",
     "start_time": "2021-02-23T20:46:53.313517Z"
    }
   },
   "outputs": [],
   "source": [
    "reg_tree = DecisionTreeRegressor(random_state=42)"
   ]
  },
  {
   "cell_type": "code",
   "execution_count": 76,
   "metadata": {
    "ExecuteTime": {
     "end_time": "2021-02-23T20:46:53.328947Z",
     "start_time": "2021-02-23T20:46:53.322075Z"
    }
   },
   "outputs": [],
   "source": [
    "gridsearch_reg = GridSearchCV(estimator=reg_tree,\n",
    "                              param_grid=param_grid,\n",
    "                              scoring=ic,\n",
    "                              n_jobs=-1,\n",
    "                              cv=cv,\n",
    "                              refit=True,\n",
    "                              return_train_score=True)"
   ]
  },
  {
   "cell_type": "code",
   "execution_count": 77,
   "metadata": {
    "ExecuteTime": {
     "end_time": "2021-02-23T20:47:32.157819Z",
     "start_time": "2021-02-23T20:46:53.330475Z"
    }
   },
   "outputs": [
    {
     "data": {
      "text/plain": [
       "GridSearchCV(cv=<utils.MultipleTimeSeriesCV object at 0x7f0e4376ce80>,\n",
       "             estimator=DecisionTreeRegressor(random_state=42), n_jobs=-1,\n",
       "             param_grid={'max_depth': [2, 3, 4, 5, 6, 7, 8, 10, 12, 15],\n",
       "                         'max_features': ['sqrt', 'auto'],\n",
       "                         'min_samples_leaf': [5, 25, 50, 100]},\n",
       "             return_train_score=True, scoring=make_scorer(rank_correl))"
      ]
     },
     "execution_count": 77,
     "metadata": {},
     "output_type": "execute_result"
    }
   ],
   "source": [
    "gridsearch_reg.fit(X=X, y=y)"
   ]
  },
  {
   "cell_type": "code",
   "execution_count": 78,
   "metadata": {
    "ExecuteTime": {
     "end_time": "2021-02-23T20:47:32.162156Z",
     "start_time": "2021-02-23T20:47:32.159000Z"
    }
   },
   "outputs": [
    {
     "data": {
      "text/plain": [
       "{'max_depth': 6, 'max_features': 'sqrt', 'min_samples_leaf': 25}"
      ]
     },
     "execution_count": 78,
     "metadata": {},
     "output_type": "execute_result"
    }
   ],
   "source": [
    "gridsearch_reg.best_params_"
   ]
  },
  {
   "cell_type": "code",
   "execution_count": 79,
   "metadata": {
    "ExecuteTime": {
     "end_time": "2021-02-23T20:47:32.172342Z",
     "start_time": "2021-02-23T20:47:32.163424Z"
    }
   },
   "outputs": [
    {
     "data": {
      "text/plain": [
       "0.052006167239700654"
      ]
     },
     "execution_count": 79,
     "metadata": {},
     "output_type": "execute_result"
    }
   ],
   "source": [
    "gridsearch_reg.best_score_"
   ]
  },
  {
   "cell_type": "code",
   "execution_count": 80,
   "metadata": {
    "ExecuteTime": {
     "end_time": "2021-02-23T20:47:32.188080Z",
     "start_time": "2021-02-23T20:47:32.173666Z"
    }
   },
   "outputs": [
    {
     "data": {
      "text/html": [
       "<div>\n",
       "<style scoped>\n",
       "    .dataframe tbody tr th:only-of-type {\n",
       "        vertical-align: middle;\n",
       "    }\n",
       "\n",
       "    .dataframe tbody tr th {\n",
       "        vertical-align: top;\n",
       "    }\n",
       "\n",
       "    .dataframe thead th {\n",
       "        text-align: right;\n",
       "    }\n",
       "</style>\n",
       "<table border=\"1\" class=\"dataframe\">\n",
       "  <thead>\n",
       "    <tr style=\"text-align: right;\">\n",
       "      <th></th>\n",
       "      <th>Regression</th>\n",
       "      <th>Classification</th>\n",
       "    </tr>\n",
       "  </thead>\n",
       "  <tbody>\n",
       "    <tr>\n",
       "      <th>max_depth</th>\n",
       "      <td>6</td>\n",
       "      <td>7</td>\n",
       "    </tr>\n",
       "    <tr>\n",
       "      <th>max_features</th>\n",
       "      <td>sqrt</td>\n",
       "      <td>sqrt</td>\n",
       "    </tr>\n",
       "    <tr>\n",
       "      <th>min_samples_leaf</th>\n",
       "      <td>25</td>\n",
       "      <td>5</td>\n",
       "    </tr>\n",
       "  </tbody>\n",
       "</table>\n",
       "</div>"
      ],
      "text/plain": [
       "                 Regression Classification\n",
       "max_depth                 6              7\n",
       "max_features           sqrt           sqrt\n",
       "min_samples_leaf         25              5"
      ]
     },
     "execution_count": 80,
     "metadata": {},
     "output_type": "execute_result"
    }
   ],
   "source": [
    "pd.DataFrame({'Regression': pd.Series(gridsearch_reg.best_params_),\n",
    "              'Classification': pd.Series(gridsearch_clf.best_params_)})"
   ]
  },
  {
   "cell_type": "markdown",
   "metadata": {},
   "source": [
    "### Classifier Cross-Validation"
   ]
  },
  {
   "cell_type": "markdown",
   "metadata": {},
   "source": [
    "Cross-validation is the most important tool to obtain an unbiased estimate of the generalization error, which in turn permits an informed choice among the various configuration options. sklearn offers several tools to facilitate the process of cross-validating numerous parameter settings, namely the GridSearchCV convenience class that we will illustrate in the next section. "
   ]
  },
  {
   "cell_type": "markdown",
   "metadata": {},
   "source": [
    "The following code illustrates how to run cross-validation more manually to obtain custom tree attributes, such as the total number of nodes or leaf nodes associated with certain hyperparameter settings. \n",
    "\n",
    "The following function accesses the internal `.tree_` attribute to retrieve information about the total node count, and how many of these nodes are leaf nodes:"
   ]
  },
  {
   "cell_type": "code",
   "execution_count": 81,
   "metadata": {
    "ExecuteTime": {
     "end_time": "2021-02-23T20:47:32.193091Z",
     "start_time": "2021-02-23T20:47:32.189540Z"
    }
   },
   "outputs": [],
   "source": [
    "def get_leaves_count(tree):\n",
    "    t = tree.tree_\n",
    "    n = t.node_count\n",
    "    leaves = len([i for i in range(t.node_count) if t.children_left[i]== -1])\n",
    "    return leaves"
   ]
  },
  {
   "cell_type": "markdown",
   "metadata": {},
   "source": [
    "We can combine this information with the train and test scores to gain detailed knowledge about the model behavior throughout the cross-validation process, as follows:"
   ]
  },
  {
   "cell_type": "code",
   "execution_count": 82,
   "metadata": {
    "ExecuteTime": {
     "end_time": "2021-02-23T20:47:45.254814Z",
     "start_time": "2021-02-23T20:47:32.194302Z"
    },
    "scrolled": true
   },
   "outputs": [
    {
     "name": "stdout",
     "output_type": "stream",
     "text": [
      "1 2 3 4 5 6 7 8 9 10 11 12 13 14 15 "
     ]
    }
   ],
   "source": [
    "train_scores, val_scores, leaves = {}, {}, {}\n",
    "for max_depth in max_depths:\n",
    "    print(max_depth, end=' ', flush=True)\n",
    "    clf = DecisionTreeClassifier(criterion='gini', \n",
    "                                 max_depth=max_depth,\n",
    "                                 min_samples_leaf=5,\n",
    "                                 max_features='sqrt',\n",
    "                                 random_state=42)\n",
    "    train_scores[max_depth], val_scores[max_depth], leaves[max_depth] = [], [], []\n",
    "    for train_idx, test_idx in cv.split(X):\n",
    "        X_train, y_train,  = X.iloc[train_idx], y_binary.iloc[train_idx]\n",
    "        X_test, y_test = X.iloc[test_idx], y_binary.iloc[test_idx]\n",
    "        clf.fit(X=X_train, y=y_train)\n",
    "\n",
    "        train_pred = clf.predict_proba(X=X_train)[:, 1]\n",
    "        train_score = roc_auc_score(y_score=train_pred, y_true=y_train)\n",
    "        train_scores[max_depth].append(train_score)\n",
    "\n",
    "        test_pred = clf.predict_proba(X=X_test)[:, 1]\n",
    "        val_score = roc_auc_score(y_score=test_pred, y_true=y_test)\n",
    "        val_scores[max_depth].append(val_score)    \n",
    "        leaves[max_depth].append(get_leaves_count(clf))\n",
    "        \n",
    "clf_train_scores = pd.DataFrame(train_scores)\n",
    "clf_valid_scores = pd.DataFrame(val_scores)\n",
    "clf_leaves = pd.DataFrame(leaves)"
   ]
  },
  {
   "cell_type": "code",
   "execution_count": 83,
   "metadata": {
    "ExecuteTime": {
     "end_time": "2021-02-23T20:47:45.262355Z",
     "start_time": "2021-02-23T20:47:45.255923Z"
    }
   },
   "outputs": [],
   "source": [
    "clf_cv_data = pd.concat([pd.melt(clf_train_scores,\n",
    "                                 var_name='Max. Depth',\n",
    "                                 value_name='ROC AUC').assign(Data='Train'),\n",
    "                         pd.melt(clf_valid_scores,\n",
    "                                 var_name='Max. Depth',\n",
    "                                 value_name='ROC AUC').assign(Data='Valid')])"
   ]
  },
  {
   "cell_type": "markdown",
   "metadata": {},
   "source": [
    "### Regression tree cross-validation"
   ]
  },
  {
   "cell_type": "markdown",
   "metadata": {},
   "source": [
    "#### Run cross-validation"
   ]
  },
  {
   "cell_type": "code",
   "execution_count": 84,
   "metadata": {
    "ExecuteTime": {
     "end_time": "2021-02-23T20:47:56.363431Z",
     "start_time": "2021-02-23T20:47:45.263642Z"
    }
   },
   "outputs": [
    {
     "name": "stdout",
     "output_type": "stream",
     "text": [
      "1 2 3 4 5 6 7 8 9 10 11 12 13 14 15 "
     ]
    }
   ],
   "source": [
    "train_scores, val_scores, leaves = {}, {}, {}\n",
    "for max_depth in max_depths:\n",
    "    print(max_depth, end=' ', flush=True)\n",
    "    reg_tree = DecisionTreeRegressor(max_depth=max_depth,\n",
    "                                     min_samples_leaf=50,\n",
    "                                     max_features= 'sqrt',\n",
    "                                     random_state=42)\n",
    "    train_scores[max_depth], val_scores[max_depth], leaves[max_depth] = [], [], []\n",
    "    for train_idx, test_idx in cv.split(X):\n",
    "        X_train, y_train,  = X.iloc[train_idx], y.iloc[train_idx]\n",
    "        X_test, y_test = X.iloc[test_idx], y.iloc[test_idx]\n",
    "        reg_tree.fit(X=X_train, y=y_train)\n",
    "\n",
    "        train_pred = reg_tree.predict(X=X_train)\n",
    "        train_score = spearmanr(train_pred, y_train)[0]\n",
    "        train_scores[max_depth].append(train_score)\n",
    "\n",
    "        test_pred = reg_tree.predict(X=X_test)\n",
    "        val_score = spearmanr(test_pred, y_test)[0]\n",
    "        val_scores[max_depth].append(val_score)\n",
    "        leaves[max_depth].append(get_leaves_count(reg_tree))\n",
    "\n",
    "reg_train_scores = pd.DataFrame(train_scores)\n",
    "reg_valid_scores = pd.DataFrame(val_scores)\n",
    "reg_leaves = pd.DataFrame(leaves)"
   ]
  },
  {
   "cell_type": "code",
   "execution_count": 85,
   "metadata": {
    "ExecuteTime": {
     "end_time": "2021-02-23T20:47:56.373417Z",
     "start_time": "2021-02-23T20:47:56.364615Z"
    }
   },
   "outputs": [],
   "source": [
    "reg_cv_data = (pd.melt(reg_train_scores, var_name='Max. Depth',\n",
    "                         value_name='IC').assign(Data='Train').append(\n",
    "    pd.melt(reg_valid_scores,\n",
    "            var_name='Max. Depth',\n",
    "            value_name='IC').assign(Data='Valid')))"
   ]
  },
  {
   "cell_type": "markdown",
   "metadata": {},
   "source": [
    "### Compare CV Results"
   ]
  },
  {
   "cell_type": "code",
   "execution_count": 86,
   "metadata": {
    "ExecuteTime": {
     "end_time": "2021-02-23T20:47:57.914668Z",
     "start_time": "2021-02-23T20:47:56.374676Z"
    },
    "scrolled": true
   },
   "outputs": [
    {
     "data": {
      "image/png": "[encoded data removed]",
      "text/plain": [
       "<Figure size 1008x360 with 2 Axes>"
      ]
     },
     "metadata": {},
     "output_type": "display_data"
    }
   ],
   "source": [
    "fig, axes = plt.subplots(ncols=2, figsize=(14, 5))\n",
    "\n",
    "sns.lineplot(data=reg_cv_data,\n",
    "             x='Max. Depth', y='IC',\n",
    "             hue='Data', ci=95,\n",
    "             ax=axes[0], lw=2)\n",
    "\n",
    "axes[0].set_title('Regression Tree')\n",
    "axes[0].axvline(x=reg_valid_scores.mean().idxmax(), ls='--', c='k', lw=1)\n",
    "axes[0].axhline(y=0, ls='--', c='k', lw=1)\n",
    "\n",
    "sns.lineplot(data=clf_cv_data,\n",
    "             x='Max. Depth', y='ROC AUC',\n",
    "             hue='Data', ci=95,\n",
    "             ax=axes[1], lw=2)\n",
    "\n",
    "axes[1].set_title('Classification Tree')\n",
    "axes[1].axvline(x=clf_valid_scores.mean().idxmax(), ls='--', c='k', lw=1)\n",
    "axes[1].axhline(y=.5, ls='--', c='k', lw=1)\n",
    "for ax in axes:\n",
    "    ax.set_xlim(min(param_grid['max_depth']),\n",
    "                max(param_grid['max_depth']))\n",
    "\n",
    "fig.suptitle(f'Train-Validation Scores', fontsize=14)\n",
    "sns.despine()\n",
    "fig.tight_layout()\n",
    "fig.subplots_adjust(top=.91)"
   ]
  },
  {
   "cell_type": "markdown",
   "metadata": {},
   "source": [
    "### Learning Curves for best models"
   ]
  },
  {
   "cell_type": "markdown",
   "metadata": {},
   "source": [
    "A learning curve is a useful tool that displays how the validation and training score evolve as the number of training samples evolves.\n",
    "\n",
    "The purpose of the learning curve is to find out whether and how much the model would benefit from using more data during training. It is also useful to diagnose whether the model's generalization error is more likely driven by bias or variance.\n",
    "\n",
    "If, for example, both the validation score and the training score converge to a similarly low value despite an increasing training set size, the error is more likely due to bias, and additional training data is unlikely to help."
   ]
  },
  {
   "cell_type": "markdown",
   "metadata": {},
   "source": [
    "#### Classifier"
   ]
  },
  {
   "cell_type": "code",
   "execution_count": 87,
   "metadata": {
    "ExecuteTime": {
     "end_time": "2021-02-23T20:47:57.918459Z",
     "start_time": "2021-02-23T20:47:57.916153Z"
    }
   },
   "outputs": [],
   "source": [
    "sizes = np.arange(.1, 1.01, .1)"
   ]
  },
  {
   "cell_type": "code",
   "execution_count": 88,
   "metadata": {
    "ExecuteTime": {
     "end_time": "2021-02-23T20:47:59.668857Z",
     "start_time": "2021-02-23T20:47:57.919696Z"
    }
   },
   "outputs": [],
   "source": [
    "train_sizes, train_scores, valid_scores = learning_curve(gridsearch_clf.best_estimator_,\n",
    "                                                         X,\n",
    "                                                         y_binary,\n",
    "                                                         train_sizes=sizes,\n",
    "                                                         cv=cv,\n",
    "                                                         scoring='roc_auc',\n",
    "                                                         n_jobs=-1,\n",
    "                                                         shuffle=True,\n",
    "                                                         random_state=42)"
   ]
  },
  {
   "cell_type": "code",
   "execution_count": 89,
   "metadata": {
    "ExecuteTime": {
     "end_time": "2021-02-23T20:47:59.682037Z",
     "start_time": "2021-02-23T20:47:59.669934Z"
    }
   },
   "outputs": [
    {
     "name": "stdout",
     "output_type": "stream",
     "text": [
      "<class 'pandas.core.frame.DataFrame'>\n",
      "Int64Index: 200 entries, 0 to 99\n",
      "Data columns (total 3 columns):\n",
      " #   Column      Non-Null Count  Dtype  \n",
      "---  ------      --------------  -----  \n",
      " 0   Train Size  200 non-null    int64  \n",
      " 1   ROC AUC     200 non-null    float64\n",
      " 2   Data        200 non-null    object \n",
      "dtypes: float64(1), int64(1), object(1)\n",
      "memory usage: 6.2+ KB\n"
     ]
    }
   ],
   "source": [
    "clf_lc_data = pd.concat([\n",
    "    pd.melt(pd.DataFrame(train_scores.T, columns=train_sizes),\n",
    "            var_name='Train Size',\n",
    "            value_name='ROC AUC').assign(Data='Train'),\n",
    "    pd.melt(pd.DataFrame(valid_scores.T, columns=train_sizes),\n",
    "            var_name='Train Size',\n",
    "            value_name='ROC AUC').assign(Data='Valid')])\n",
    "clf_lc_data.info()"
   ]
  },
  {
   "cell_type": "markdown",
   "metadata": {},
   "source": [
    "#### Regression Tree"
   ]
  },
  {
   "cell_type": "code",
   "execution_count": 90,
   "metadata": {
    "ExecuteTime": {
     "end_time": "2021-02-23T20:48:01.207217Z",
     "start_time": "2021-02-23T20:47:59.683180Z"
    }
   },
   "outputs": [],
   "source": [
    "train_sizes, train_scores, valid_scores = learning_curve(gridsearch_reg.best_estimator_,\n",
    "                                                         X, y,\n",
    "                                                         train_sizes=sizes,\n",
    "                                                         cv=cv,\n",
    "                                                         scoring=ic,\n",
    "                                                         n_jobs=-1,\n",
    "                                                         shuffle=True,\n",
    "                                                         random_state=42)"
   ]
  },
  {
   "cell_type": "code",
   "execution_count": 91,
   "metadata": {
    "ExecuteTime": {
     "end_time": "2021-02-23T20:48:01.225820Z",
     "start_time": "2021-02-23T20:48:01.208452Z"
    }
   },
   "outputs": [
    {
     "name": "stdout",
     "output_type": "stream",
     "text": [
      "<class 'pandas.core.frame.DataFrame'>\n",
      "Int64Index: 200 entries, 0 to 99\n",
      "Data columns (total 3 columns):\n",
      " #   Column      Non-Null Count  Dtype  \n",
      "---  ------      --------------  -----  \n",
      " 0   Train Size  200 non-null    int64  \n",
      " 1   IC          200 non-null    float64\n",
      " 2   Data        200 non-null    object \n",
      "dtypes: float64(1), int64(1), object(1)\n",
      "memory usage: 6.2+ KB\n"
     ]
    }
   ],
   "source": [
    "reg_lc_data = pd.concat([\n",
    "    pd.melt(pd.DataFrame(train_scores.T,\n",
    "                         columns=train_sizes),\n",
    "            var_name='Train Size',\n",
    "            value_name='IC').assign(Data='Train'),\n",
    "    pd.melt(pd.DataFrame(valid_scores.T,\n",
    "                         columns=train_sizes),\n",
    "            var_name='Train Size',\n",
    "            value_name='IC').assign(Data='Valid')])\n",
    "reg_lc_data.info()"
   ]
  },
  {
   "cell_type": "markdown",
   "metadata": {},
   "source": [
    "#### Compare Learning Curves"
   ]
  },
  {
   "cell_type": "code",
   "execution_count": 92,
   "metadata": {
    "ExecuteTime": {
     "end_time": "2021-02-23T20:48:02.229792Z",
     "start_time": "2021-02-23T20:48:01.227006Z"
    }
   },
   "outputs": [
    {
     "data": {
      "image/png": "[encoded data removed]",
      "text/plain": [
       "<Figure size 1008x360 with 2 Axes>"
      ]
     },
     "metadata": {},
     "output_type": "display_data"
    }
   ],
   "source": [
    "fig, axes = plt.subplots(ncols=2, figsize=(14, 5))\n",
    "xmin, xmax = reg_lc_data['Train Size'].min(), reg_lc_data['Train Size'].max()\n",
    "\n",
    "sns.lineplot(data=reg_lc_data,\n",
    "             x='Train Size', y='IC',\n",
    "             hue='Data', ci=95,  ax=axes[0], lw=2)\n",
    "axes[0].set_title('Best Regression Tree')\n",
    "axes[0].set_ylabel('IC')\n",
    "\n",
    "axes[0].xaxis.set_major_formatter(\n",
    "    FuncFormatter(lambda x, _: '{:,.0f}'.format(x)))\n",
    "\n",
    "sns.lineplot(data=clf_lc_data,\n",
    "             x='Train Size',\n",
    "             y='ROC AUC',\n",
    "             hue='Data',\n",
    "             ci=95,\n",
    "             ax=axes[1],\n",
    "             lw=2)\n",
    "axes[1].set_title('Best Classification Tree')\n",
    "axes[1].set_ylabel('ROC AUC')\n",
    "axes[1].xaxis.set_major_formatter(\n",
    "    FuncFormatter(lambda x, _: '{:,.0f}'.format(x)))\n",
    "\n",
    "for i in [0, 1]:\n",
    "    axes[i].tick_params(axis='both', which='major', labelsize=10)\n",
    "    axes[i].tick_params(axis='both', which='minor', labelsize=8)\n",
    "    axes[i].set_xlim(xmin, xmax)\n",
    "\n",
    "fig.suptitle('Learning Curves', fontsize=14)\n",
    "sns.despine()\n",
    "fig.tight_layout()\n",
    "fig.subplots_adjust(top=.9)"
   ]
  },
  {
   "cell_type": "markdown",
   "metadata": {},
   "source": [
    "### Feature Importance"
   ]
  },
  {
   "cell_type": "markdown",
   "metadata": {},
   "source": [
    "Decision trees can not only be visualized to inspect the decision path for a given feature, but also provide a summary measure of the contribution of each feature to the model fit to the training data. \n",
    "\n",
    "The feature importance captures how much the splits produced by the feature helped to optimize the model's metric used to evaluate the split quality, which in our case is the Gini Impurity index. \n",
    "\n",
    "A feature's importance is computed as the (normalized) total reduction of this metric and takes into account the number of samples affected by a split. Hence, features used earlier in the tree where the nodes tend to contain more samples typically are considered of higher importance."
   ]
  },
  {
   "cell_type": "code",
   "execution_count": 93,
   "metadata": {
    "ExecuteTime": {
     "end_time": "2021-02-23T20:48:02.236798Z",
     "start_time": "2021-02-23T20:48:02.231185Z"
    }
   },
   "outputs": [],
   "source": [
    "top_n = 15\n",
    "labels = X.columns.str.replace('_', ' ').str.upper()\n",
    "fi_clf = (pd.Series(gridsearch_clf.best_estimator_.feature_importances_, \n",
    "                    index=labels).sort_values(ascending=False).iloc[:top_n])\n",
    "fi_reg = (pd.Series(gridsearch_reg.best_estimator_.feature_importances_, \n",
    "                    index=labels).sort_values(ascending=False).iloc[:top_n])"
   ]
  },
  {
   "cell_type": "code",
   "execution_count": 94,
   "metadata": {
    "ExecuteTime": {
     "end_time": "2021-02-23T20:48:02.645550Z",
     "start_time": "2021-02-23T20:48:02.238440Z"
    }
   },
   "outputs": [
    {
     "data": {
      "image/png": "[encoded data removed]",
      "text/plain": [
       "<Figure size 864x288 with 2 Axes>"
      ]
     },
     "metadata": {},
     "output_type": "display_data"
    }
   ],
   "source": [
    "fig, axes= plt.subplots(ncols=2, figsize=(12,4), sharex=True)\n",
    "color = cm.Blues(np.linspace(.4,.9, top_n))\n",
    "fi_clf.sort_values().plot.barh(ax=axes[1], title='Classification Tree', color=color)\n",
    "fi_reg.sort_values().plot.barh(ax=axes[0], title='Regression Tree', color=color)\n",
    "axes[0].set_xlabel('Feature Importance')\n",
    "axes[1].set_xlabel('Feature Importance')\n",
    "fig.suptitle(f'Top {top_n} Features', fontsize=14)\n",
    "sns.despine()\n",
    "fig.tight_layout()\n",
    "fig.subplots_adjust(top=.9);"
   ]
  }
 ],
 "metadata": {
  "kernelspec": {
   "display_name": "Python 3",
   "language": "python",
   "name": "python3"
  },
  "language_info": {
   "codemirror_mode": {
    "name": "ipython",
    "version": 3
   },
   "file_extension": ".py",
   "mimetype": "text/x-python",
   "name": "python",
   "nbconvert_exporter": "python",
   "pygments_lexer": "ipython3",
   "version": "3.8.5"
  },
  "toc": {
   "base_numbering": 1,
   "nav_menu": {},
   "number_sections": true,
   "sideBar": true,
   "skip_h1_title": true,
   "title_cell": "Table of Contents",
   "title_sidebar": "Contents",
   "toc_cell": false,
   "toc_position": {
    "height": "calc(100% - 180px)",
    "left": "10px",
    "top": "150px",
    "width": "343.837px"
   },
   "toc_section_display": true,
   "toc_window_display": true
  }
 },
 "nbformat": 4,
 "nbformat_minor": 2
}
